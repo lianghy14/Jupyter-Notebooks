{
 "cells": [
  {
   "cell_type": "markdown",
   "metadata": {},
   "source": [
    "<figure>\n",
    "  <IMG SRC=\"https://raw.githubusercontent.com/mbakker7/exploratory_computing_with_python/master/tudelft_logo.png\" WIDTH=250 ALIGN=\"right\">\n",
    "</figure>\n",
    "\n",
    "# Exploratory Computing with Python\n",
    "*Developed by Mark Bakker*"
   ]
  },
  {
   "cell_type": "markdown",
   "metadata": {},
   "source": [
    "## Notebook 2: Arrays\n",
    "\n",
    "In this notebook, we will do math on arrays using functions of the `numpy` package. A nice overview of `numpy` functionality can be found [here](http://wiki.scipy.org/Tentative_NumPy_Tutorial). We will also make plots. So we start by importing the plotting part of the `matplotlib` package and call it `plt` and we import the `numpy` package and call it `np`. We also tell Python to put all graphs inline. We will add these three lines at the top of all upcoming notebooks as we will always be using `numpy` and `matplotlib`. "
   ]
  },
  {
   "cell_type": "code",
   "execution_count": 1,
   "metadata": {},
   "outputs": [],
   "source": [
    "import matplotlib.pyplot as plt\n",
    "import numpy as np\n",
    "%matplotlib inline"
   ]
  },
  {
   "cell_type": "markdown",
   "metadata": {},
   "source": [
    "### One-dimesional arrays\n",
    "There are many ways to create arrays. For example, you can enter the individual elements of an array"
   ]
  },
  {
   "cell_type": "code",
   "execution_count": 2,
   "metadata": {},
   "outputs": [
    {
     "data": {
      "text/plain": [
       "array([ 1,  7,  2, 12])"
      ]
     },
     "execution_count": 2,
     "metadata": {},
     "output_type": "execute_result"
    }
   ],
   "source": [
    "np.array([1, 7, 2, 12])"
   ]
  },
  {
   "cell_type": "markdown",
   "metadata": {},
   "source": [
    "Note that the `array` function takes one sequence of points between square brackets. \n",
    "Another function to create an array is `ones(shape)`, which creates an array of the specified `shape` filled with the value 1. \n",
    "There is an analogous function `zeros(shape)` to create an array willed with the value 0 (which can also be achieved with `0 * ones(shape)`). Next to the already mentioned `linspace` function there is the `arange(start, end, step)` \n",
    "function, which creates an array starting at `start`, taking steps equal to `step` and stopping before it reaches `end`. If you don't specify the `step`, \n",
    "it is set equal to 1. If you only specify one input value, it returns a sequence starting at 0 and incrementing by 1 until the specified value is reached (but again, it stops before it reaches that value)"
   ]
  },
  {
   "cell_type": "code",
   "execution_count": 3,
   "metadata": {},
   "outputs": [
    {
     "name": "stdout",
     "output_type": "stream",
     "text": [
      "[1 2 3 4 5 6]\n",
      "[0 1 2 3 4]\n"
     ]
    }
   ],
   "source": [
    "print(np.arange(1, 7)) # Takes defauls steps of 1 and doesn't include 7\n",
    "print(np.arange(5)) # Starts at 0 end ends at 4, giving 5 numbers"
   ]
  },
  {
   "cell_type": "markdown",
   "metadata": {},
   "source": [
    "Recall that comments in Python are preceded by a `#`. \n",
    "Arrays have a dimension. So far we have only used one-dimensional arrays. \n",
    "Hence the dimension is 1. \n",
    "For one-dimensional arrays, you can also compute the length (which is part of Python and not `numpy`), which returns the number of values in the array"
   ]
  },
  {
   "cell_type": "code",
   "execution_count": 4,
   "metadata": {},
   "outputs": [
    {
     "name": "stdout",
     "output_type": "stream",
     "text": [
      "number of dimensions of x: 1\n",
      "length of x: 4\n"
     ]
    }
   ],
   "source": [
    "x = np.array([1, 7, 2, 12])\n",
    "print('number of dimensions of x:', np.ndim(x))\n",
    "print('length of x:', len(x))"
   ]
  },
  {
   "cell_type": "markdown",
   "metadata": {},
   "source": [
    "The individual elements of an array can be accessed with their index. Indices start at 0. \n",
    "This may require a bit of getting used to. It means that the first value in the array has index 0. The index of an array is specified using square brackets."
   ]
  },
  {
   "cell_type": "code",
   "execution_count": 5,
   "metadata": {},
   "outputs": [
    {
     "name": "stdout",
     "output_type": "stream",
     "text": [
      "[20 21 22 23 24 25 26 27 28 29]\n",
      "20\n",
      "25\n"
     ]
    }
   ],
   "source": [
    "x = np.arange(20, 30)\n",
    "print(x)\n",
    "print(x[0])\n",
    "print(x[5])"
   ]
  },
  {
   "cell_type": "markdown",
   "metadata": {},
   "source": [
    "A range of indices may be specified using the colon syntax:\n",
    "`x[start:end_before]` or `x[start:end_before:step]`. If the `start` isn't specified, 0 will be used. If the step isn't specified, 1 will be used. "
   ]
  },
  {
   "cell_type": "code",
   "execution_count": 6,
   "metadata": {},
   "outputs": [
    {
     "name": "stdout",
     "output_type": "stream",
     "text": [
      "[20 21 22 23 24 25 26 27 28 29]\n",
      "[20 21 22 23 24]\n",
      "[20 21 22 23 24]\n",
      "[23 24 25 26]\n",
      "[22 24 26 28]\n"
     ]
    }
   ],
   "source": [
    "x = np.arange(20, 30)\n",
    "print(x)\n",
    "print(x[0:5])\n",
    "print(x[:5]) # same as previous one\n",
    "print(x[3:7])\n",
    "print(x[2:9:2]) # step is 2"
   ]
  },
  {
   "cell_type": "markdown",
   "metadata": {},
   "source": [
    "You can also start at the end and count back. Generally, the index of the end is not known. You can find out how long the array is and access the last value by typing `x[len(x)-1]` but it would be inconvenient to have to type `len(arrayname)` all the time. Luckily, there is a shortcut: `x[-1]` is the last value in the array. For example:"
   ]
  },
  {
   "cell_type": "code",
   "execution_count": 7,
   "metadata": {},
   "outputs": [
    {
     "name": "stdout",
     "output_type": "stream",
     "text": [
      "[ 0 10 20 30 40 50 60 70 80 90]\n",
      "90\n",
      "90\n",
      "[90 80 70 60 50 40 30 20 10  0]\n"
     ]
    }
   ],
   "source": [
    "xvalues = np.arange(0, 100, 10)\n",
    "print(xvalues)\n",
    "print(xvalues[len(xvalues) - 1])  # last value in array\n",
    "print(xvalues[-1])  # much shorter\n",
    "print(xvalues[-1::-1])  # start at the end and go back with steps of -1"
   ]
  },
  {
   "cell_type": "markdown",
   "metadata": {},
   "source": [
    "You can assign one value to a range of an array by specifying a range of indices, \n",
    "or you can assign an array to a range of another array, as long as the ranges have equal length. In the last example below, the first 5 values of `x` (specified as `x[0:5]`) are given the values `[40,42,44,46,48]`."
   ]
  },
  {
   "cell_type": "code",
   "execution_count": 8,
   "metadata": {},
   "outputs": [
    {
     "name": "stdout",
     "output_type": "stream",
     "text": [
      "[ 20.  20.  20.  20.  20.  20.  20.  20.  20.  20.]\n",
      "[ 40.  40.  40.  40.  40.  20.  20.  20.  20.  20.]\n",
      "[ 40.  42.  44.  46.  48.  20.  20.  20.  20.  20.]\n"
     ]
    }
   ],
   "source": [
    "x = 20 * np.ones(10)\n",
    "print(x)\n",
    "x[0:5] = 40\n",
    "print(x)\n",
    "x[0:5] = np.arange(40, 50, 2)\n",
    "print(x)"
   ]
  },
  {
   "cell_type": "markdown",
   "metadata": {},
   "source": [
    "### Exercise 1, Pentagon\n",
    "\n",
    "We are going to create an array with the $x$-coördinates of a pentagon.\n",
    "Create an array of zeros with length 26.\n",
    "Use one assignment statement to set the values of each segment: \n",
    "\n",
    "* Set the first 5 values from -50 up to but not including 50 with steps of 20.\n",
    "* Set the next 5 values from 50 up to but not including 60 with steps of 2. \n",
    "* Set the next 10 values from 60 downwards to but not including -60 with steps of 12. \n",
    "* Set the final 6 values from -60 up to but not including -48 with steps of 2. \n",
    "\n",
    "Print the array to the screen and plot it against the following `y` (it should give a pentagon):\n",
    "\n",
    "`y=np.array([0, 0, 0, 0, 0, 0, 6, 12, 18, 24, 30, 34, 38, 42, 46, 50, 46, 42, 38, 34, 30, 24, 18, 12, 6, 0])`"
   ]
  },
  {
   "cell_type": "code",
   "execution_count": 9,
   "metadata": {},
   "outputs": [
    {
     "name": "stdout",
     "output_type": "stream",
     "text": [
      "[ 0.  0.  0.  0.  0.  0.  0.  0.  0.  0.  0.  0.  0.  0.  0.  0.  0.  0.\n",
      "  0.  0.  0.  0.  0.  0.  0.  0.]\n",
      "[-50. -30. -10.  10.  30.   0.   0.   0.   0.   0.   0.   0.   0.   0.   0.\n",
      "   0.   0.   0.   0.   0.   0.   0.   0.   0.   0.   0.]\n",
      "[-50. -30. -10.  10.  30.  50.  52.  54.  56.  58.   0.   0.   0.   0.   0.\n",
      "   0.   0.   0.   0.   0.   0.   0.   0.   0.   0.   0.]\n",
      "[-50. -30. -10.  10.  30.  50.  52.  54.  56.  58.  60.  48.  36.  24.  12.\n",
      "   0. -12. -24. -36. -48.   0.   0.   0.   0.   0.   0.]\n",
      "[-50. -30. -10.  10.  30.  50.  52.  54.  56.  58.  60.  48.  36.  24.  12.\n",
      "   0. -12. -24. -36. -48. -60. -58. -56. -54. -52. -50.]\n"
     ]
    },
    {
     "data": {
      "text/plain": [
       "[<matplotlib.lines.Line2D at 0x2281a8e77b8>]"
      ]
     },
     "execution_count": 9,
     "metadata": {},
     "output_type": "execute_result"
    },
    {
     "data": {
      "image/png": "[encoded data removed]",
      "text/plain": [
       "<matplotlib.figure.Figure at 0x22819f787b8>"
      ]
     },
     "metadata": {},
     "output_type": "display_data"
    }
   ],
   "source": [
    "import matplotlib.pyplot as plt\n",
    "import numpy as np\n",
    "%matplotlib inline\n",
    "\n",
    "x = np.zeros(26)\n",
    "print(x)\n",
    "x[0:5] = np.arange(-50, 50, 20)\n",
    "print(x)\n",
    "x[5:10] = np.arange(50, 60, 2)\n",
    "print(x)\n",
    "x[10:20] = - np.arange(-60, 60, 12)\n",
    "print(x)\n",
    "x[20:26] = np.arange(-60, -48, 2)\n",
    "print(x)\n",
    "\n",
    "y=np.array([0, 0, 0, 0, 0, 0, 6, 12, 18, 24, 30, 34, 38, 42, 46, 50, 46, 42, 38, 34, 30, 24, 18, 12, 6, 0])\n",
    "plt.plot(x,y)"
   ]
  },
  {
   "cell_type": "markdown",
   "metadata": {},
   "source": [
    "### Arrays, Lists, and Tuples\n",
    "A one-dimensional array is a sequence of values that you can do math on. Next to the array, Python has several other data types that can store a sequence of values. The first one is called a `list` and is entered between square brackets. The second one is a tuple (you are right, strange name), and it is entered with parentheses. The difference is that you can change the values of a list after you create them, and you can not do that with a tuple. Other than that, for now you just need to remember that they exist, and that you *cannot* do math with either lists or tuples. When you do `2 * alist`, where `alist` is a list, you don't multiply all values in `alist` with the number 2. What happens is that you create a new list that contains `alist` twice (so it adds them back to back). The same holds for tuples. That can be very useful, but not when your intent is to multiply all values by 2. In the example below, the first value in a list is modified. Try to modify one of the values in `btuple` below and you will see that you get an error message:"
   ]
  },
  {
   "cell_type": "code",
   "execution_count": 10,
   "metadata": {},
   "outputs": [
    {
     "name": "stdout",
     "output_type": "stream",
     "text": [
      "alist [1, 2, 3]\n",
      "btuple (10, 20, 30)\n",
      "modified alist [7, 2, 3]\n",
      "[7, 2, 3, 7, 2, 3]\n"
     ]
    }
   ],
   "source": [
    "alist = [1, 2, 3]\n",
    "print('alist', alist)\n",
    "btuple = (10, 20, 30)\n",
    "print('btuple', btuple)\n",
    "alist[0] = 7  # Since alist is a list, you can change values \n",
    "print('modified alist', alist)\n",
    "#btuple[0] = 100  # Will give an error\n",
    "print (2*alist)"
   ]
  },
  {
   "cell_type": "markdown",
   "metadata": {},
   "source": [
    "Lists and tuples are versatile data types in Python. We already used lists without knowing it when we created our first array with the command `array([1,7,2,12])`. What we did is we gave the `array` function one input argument: the list `[1,7,2,12]`, and the `array` function returned a one-dimensional array with those values. Lists and tuples can consist of a sequences of pretty much anything, not just numbers. In the example given below, `alist` contains 5 *things*: the integer 1, the float 20, the word `python`, an array with the values 1,2,3, and finally, the function `len`. The latter means that `alist[4]` is actually the function `len`. That function can be called to determine the length of an array as shown below. The latter may be a bit confusing, but it is cool behavior if you take the time to think about it."
   ]
  },
  {
   "cell_type": "code",
   "execution_count": 11,
   "metadata": {},
   "outputs": [
    {
     "name": "stdout",
     "output_type": "stream",
     "text": [
      "[1, 20.0, 'python', array([1, 2, 3]), <built-in function len>]\n",
      "1\n",
      "python\n",
      "3\n"
     ]
    }
   ],
   "source": [
    "alist = [1, 20.0, 'python', np.array([1,2,3]), len]\n",
    "print(alist)\n",
    "print(alist[0])\n",
    "print(alist[2])\n",
    "print(alist[4](alist[3]))  # same as len(np.array([1,2,3]))"
   ]
  },
  {
   "cell_type": "markdown",
   "metadata": {},
   "source": [
    "### Two-dimensional arrays\n",
    "Arrays may have arbitrary dimensions (as long as they fit in your computer's memory). We will make frequent use of two-dimensional arrays. They can be created with any of the aforementioned functions by specifying the number of rows and columns of the array. Note that the number of rows and columns must be a tuple (so they need to be between parentheses), as the functions expect only one input argument, which may be either one number or a tuple of multiple numbers."
   ]
  },
  {
   "cell_type": "code",
   "execution_count": 12,
   "metadata": {},
   "outputs": [
    {
     "name": "stdout",
     "output_type": "stream",
     "text": [
      "[[ 1.  1.  1.  1.]\n",
      " [ 1.  1.  1.  1.]\n",
      " [ 1.  1.  1.  1.]]\n"
     ]
    }
   ],
   "source": [
    "x = np.ones((3, 4)) # An array with 3 rows and 4 columns\n",
    "print(x)"
   ]
  },
  {
   "cell_type": "markdown",
   "metadata": {},
   "source": [
    "Arrays may also be defined by specifying all the values in the array. The `array` function gets passed one list consisting of separate lists for each row of the array. In the example below the rows are entered on different lines. That may make it easier to enter the array, but it is note required. You can change the size of an array to any shape using the `reshape` function as long as the total number of entries doesn't change. "
   ]
  },
  {
   "cell_type": "code",
   "execution_count": 13,
   "metadata": {},
   "outputs": [
    {
     "name": "stdout",
     "output_type": "stream",
     "text": [
      "[[4 2 3 2]\n",
      " [2 4 3 1]\n",
      " [0 4 1 3]]\n",
      "[[4 2]\n",
      " [3 2]\n",
      " [2 4]\n",
      " [3 1]\n",
      " [0 4]\n",
      " [1 3]]\n",
      "[[4 2 3 2 2 4 3 1 0 4 1 3]]\n"
     ]
    }
   ],
   "source": [
    "x = np.array([[4, 2, 3, 2],\n",
    "              [2, 4, 3, 1],\n",
    "              [0, 4, 1, 3]])\n",
    "print(x)\n",
    "print(np.reshape(x, (6, 2)))  # 6 rows, 2 columns\n",
    "print(np.reshape(x, (1, 12)))  # 1 row, 12 columns"
   ]
  },
  {
   "cell_type": "markdown",
   "metadata": {},
   "source": [
    "The index of a two-dimensional array is specified with two values, first the row index, then the column index."
   ]
  },
  {
   "cell_type": "code",
   "execution_count": 14,
   "metadata": {},
   "outputs": [
    {
     "name": "stdout",
     "output_type": "stream",
     "text": [
      "[[ 100.    0.    0.    0.    0.    0.    0.    0.]\n",
      " [   0.    0.    0.    0.  200.  200.  200.  200.]\n",
      " [   0.    0.    0.    0.    0.  400.  400.  400.]]\n"
     ]
    }
   ],
   "source": [
    "x = np.zeros((3, 8))\n",
    "x[0,0] = 100\n",
    "x[1,4:] = 200  # Row with index 1, columns starting with 4 to the end\n",
    "x[2,-1:4:-1] = 400  # Row with index 2, columns counting back from the end and stop before reaching index 4\n",
    "print(x)"
   ]
  },
  {
   "cell_type": "markdown",
   "metadata": {},
   "source": [
    "### Arrays are not matrices\n",
    "Now that we talk about the rows and columns of an array, the math-oriented reader may think that arrays are matrices, or that one-dimensional arrays are vectors. It is crucial to understand that *arrays are not vectors or matrices*. The multiplication and division of two arrays is term by term"
   ]
  },
  {
   "cell_type": "code",
   "execution_count": 15,
   "metadata": {},
   "outputs": [
    {
     "name": "stdout",
     "output_type": "stream",
     "text": [
      "array a: [ 4  8 12 16]\n",
      "array b: [2 2 4 4]\n",
      "a * b  : [ 8 16 48 64]\n",
      "a / b  : [ 2.  4.  3.  4.]\n"
     ]
    }
   ],
   "source": [
    "a = np.arange(4, 20, 4)\n",
    "b = np.array([2, 2, 4, 4])\n",
    "print('array a:', a)\n",
    "print('array b:', b)\n",
    "print('a * b  :', a * b)  # term by term multiplication\n",
    "print('a / b  :', a / b)  # term by term division"
   ]
  },
  {
   "cell_type": "markdown",
   "metadata": {},
   "source": [
    "### Exercise 2, Two-dimensional array indices\n",
    "The file `puzzle_nb2.txt` contains a puzzle stored in an array of 14 rows and 18 columns. Use `np.genfromtxt` to load the file, specify the `dtype` as `str` (so that the array contains characters), and specify the correct delimiter with the `delimiter` keyword. Once loaded, print the entire array to the screen so that you know what is in it.\n",
    "The sentence 'CIVIL ENGINEERS RULE THE WORLD' can be formed with the words stored in the array. Find the words in the array and print them in the correct order to the screen. For example, `print(puzzle[0,0:3])` prints the word `THE` (all the other words are longer, of course). The words are stored horizontally and vertically and may skip rows or columns. "
   ]
  },
  {
   "cell_type": "code",
   "execution_count": 16,
   "metadata": {},
   "outputs": [
    {
     "name": "stdout",
     "output_type": "stream",
     "text": [
      "[['T' 'H' 'E' '0' 'E' '0' '0' '0' '0' '0' '0' '0' '0' '0' '0' '0' '0' '0']\n",
      " ['0' '0' '0' '0' 'N' '0' '0' '0' '0' '0' '0' '0' '0' '0' '0' '0' '0' '0']\n",
      " ['0' '0' '0' '0' 'G' '0' '0' '0' '0' '0' '0' '0' '0' '0' '0' '0' '0' '0']\n",
      " ['0' '0' '0' '0' 'I' '0' '0' '0' '0' 'E' 'L' 'U' 'R' '0' '0' '0' '0' '0']\n",
      " ['0' '0' '0' '0' 'N' '0' '0' '0' '0' '0' '0' '0' '0' '0' '0' '0' '0' '0']\n",
      " ['0' '0' '0' '0' 'E' '0' '0' '0' '0' '0' '0' '0' '0' '0' '0' 'W' '0' '0']\n",
      " ['0' '0' '0' '0' 'E' '0' '0' '0' '0' '0' '0' '0' '0' '0' '0' '0' '0' '0']\n",
      " ['0' '0' '0' '0' 'R' '0' '0' '0' '0' '0' '0' '0' '0' '0' '0' 'O' '0' '0']\n",
      " ['0' '0' '0' '0' 'S' '0' '0' '0' '0' '0' '0' '0' '0' '0' '0' '0' '0' '0']\n",
      " ['0' '0' '0' '0' '0' '0' '0' '0' '0' '0' '0' '0' '0' '0' '0' 'R' '0' '0']\n",
      " ['0' '0' 'C' 'I' 'V' 'I' 'L' '0' '0' '0' '0' '0' '0' '0' '0' '0' '0' '0']\n",
      " ['0' '0' '0' '0' '0' '0' '0' '0' '0' '0' '0' '0' '0' '0' '0' 'L' '0' '0']\n",
      " ['0' '0' '0' '0' '0' '0' '0' '0' '0' '0' '0' '0' '0' '0' '0' '0' '0' '0']\n",
      " ['0' '0' '0' '0' '0' '0' '0' '0' '0' '0' '0' '0' '0' '0' '0' 'D' '0' '0']]\n",
      "['C' 'I' 'V' 'I' 'L']   ['E' 'N' 'G' 'I' 'N' 'E' 'E' 'R' 'S']   ['R' 'U' 'L' 'E']   ['T' 'H' 'E']   ['W' 'O' 'R' 'L' 'D']\n"
     ]
    }
   ],
   "source": [
    "import matplotlib.pyplot as plt\n",
    "import numpy as np\n",
    "%matplotlib inline\n",
    "\n",
    "s = np.genfromtxt('puzzle_nb2.txt', dtype = 'str', delimiter = ';' ) \n",
    "print(s)\n",
    "print(s[10,2:7],' ',s[0:9,4],' ',s[3,-6:8:-1],' ',s[0,0:3],' ',s[5:14:2,15])"
   ]
  },
  {
   "cell_type": "markdown",
   "metadata": {},
   "source": [
    "### Visualizing two-dimensional arrays\n",
    "Two-dimensonal arrays can be visualized with the `plt.matshow` function. In the example below, the array is very small (only 4 by 4), but it illustrates the general principle. A colorbar is added as a legend showing that the value 1 corresponds to dark blue and the value 4 corresponds to dark red. The ticks in the colorbar are specified to be 1, 2, 3, and 4. Note that the first row of the matrix (with index 0), is plotted at the top, which corresponds to the location of the first row in the matrix."
   ]
  },
  {
   "cell_type": "code",
   "execution_count": 17,
   "metadata": {},
   "outputs": [
    {
     "name": "stdout",
     "output_type": "stream",
     "text": [
      "[[8 4 6 2]\n",
      " [4 8 6 2]\n",
      " [4 8 2 6]\n",
      " [8 2 4 6]]\n"
     ]
    },
    {
     "data": {
      "image/png": "[encoded data removed]",
      "text/plain": [
       "<matplotlib.figure.Figure at 0x2281a895470>"
      ]
     },
     "metadata": {},
     "output_type": "display_data"
    }
   ],
   "source": [
    "x = np.array([[8, 4, 6, 2],\n",
    "              [4, 8, 6, 2],\n",
    "              [4, 8, 2, 6],\n",
    "              [8, 2, 4, 6]])\n",
    "plt.matshow(x)\n",
    "plt.colorbar(ticks=[2, 4, 6, 8])\n",
    "print(x)"
   ]
  },
  {
   "cell_type": "markdown",
   "metadata": {},
   "source": [
    "The colors that are used are the default color map (it is called `viridis`), which maps the highest value to yellow, the lowest value to purple and the numbers in between varying between blue and green. If you want other colors, you can choose one of the other color maps. To find out all the available color maps, go \n",
    "[here](http://matplotlib.org/users/colormaps.html). To change the color map, specify the name of any of the available color maps with the `cmap` keyword. Try a few."
   ]
  },
  {
   "cell_type": "code",
   "execution_count": 18,
   "metadata": {},
   "outputs": [
    {
     "data": {
      "image/png": "[encoded data removed]",
      "text/plain": [
       "<matplotlib.figure.Figure at 0x2281a7fcb00>"
      ]
     },
     "metadata": {},
     "output_type": "display_data"
    }
   ],
   "source": [
    "plt.matshow(x, cmap='rainbow');"
   ]
  },
  {
   "cell_type": "markdown",
   "metadata": {},
   "source": [
    "### Exercise 3, Create the greek flag\n",
    "Create an array of zeros of size 9 by 15. Create an image of the greek flag, using an array and `matshow`. An image of the greek flag can be found [here](https://en.wikipedia.org/wiki/Flag_of_Greece#/media/File:Flag_of_Greece.svg). Fill the array with zeros and ones to represent the white and the blue colors, respectively. \n",
    "You can use only *four* assignment statements to set the blue colors.\n",
    "Make sure to use the colormap `cm.Blues`. "
   ]
  },
  {
   "cell_type": "code",
   "execution_count": 19,
   "metadata": {},
   "outputs": [
    {
     "data": {
      "image/png": "[encoded data removed]",
      "text/plain": [
       "<matplotlib.figure.Figure at 0x2281a8f5cc0>"
      ]
     },
     "metadata": {},
     "output_type": "display_data"
    }
   ],
   "source": [
    "import matplotlib.pyplot as plt\n",
    "import numpy as np\n",
    "%matplotlib inline\n",
    "\n",
    "x = np.zeros((9,15))\n",
    "x[0:5,2] = 1;\n",
    "x[2,0:5] = 1;\n",
    "x[1:5:2,5:15] = 1;\n",
    "x[5:9:2,:] = 1;\n",
    "\n",
    "plt.matshow( np.ones((9,15)) - x, cmap='Blues');"
   ]
  },
  {
   "cell_type": "markdown",
   "metadata": {},
   "source": [
    "### Using conditions on arrays\n",
    "If you have a variable, you can check whether its value is smaller or larger than a certain other value. This is called a *conditional* statement.\n",
    "For example:"
   ]
  },
  {
   "cell_type": "code",
   "execution_count": 20,
   "metadata": {},
   "outputs": [
    {
     "name": "stdout",
     "output_type": "stream",
     "text": [
      "a < 2: False\n",
      "a > 2: True\n"
     ]
    }
   ],
   "source": [
    "a = 4\n",
    "print('a < 2:', a < 2)\n",
    "print('a > 2:', a > 2)"
   ]
  },
  {
   "cell_type": "markdown",
   "metadata": {},
   "source": [
    "The statement `a < 2` returns a variable of type boolean, which means it can either be `True` or `False`. Besides smaller than or larger than, there are several other conditions you can use:"
   ]
  },
  {
   "cell_type": "code",
   "execution_count": 21,
   "metadata": {},
   "outputs": [
    {
     "name": "stdout",
     "output_type": "stream",
     "text": [
      "False\n",
      "True\n",
      "True\n",
      "True\n",
      "False\n",
      "False\n"
     ]
    }
   ],
   "source": [
    "a = 4\n",
    "print(a < 4)\n",
    "print(a <= 4) # a is smaller than or equal to 4\n",
    "print(a == 4) # a is equal to 4. Note that there are 2 equal signs\n",
    "print(a >= 4) \n",
    "print(a > 4)\n",
    "print(a != 4) # a is not equal to 4"
   ]
  },
  {
   "cell_type": "markdown",
   "metadata": {},
   "source": [
    "It is important to understand the difference between one equal sign like `a=4` and two equal signs like `a==4`. One equal sign means assignment. Whatever is on the right side of the equal sign is assigned to what is on the left side of the equal sign. Two equal signs is a comparison and results in either `True` (when the left and right sides are equal) or `False`."
   ]
  },
  {
   "cell_type": "code",
   "execution_count": 22,
   "metadata": {},
   "outputs": [
    {
     "name": "stdout",
     "output_type": "stream",
     "text": [
      "True\n",
      "False\n",
      "<class 'bool'>\n"
     ]
    }
   ],
   "source": [
    "print(4 == 4)\n",
    "a = 4 == 5\n",
    "print(a)\n",
    "print(type(a))"
   ]
  },
  {
   "cell_type": "markdown",
   "metadata": {},
   "source": [
    "You can also perform comparison statements on arrays, and it will return an array of booleans (`True` and `False` values) for each value in the array. For example let's create an array and find out what values of the array are below 3:"
   ]
  },
  {
   "cell_type": "code",
   "execution_count": 23,
   "metadata": {},
   "outputs": [
    {
     "name": "stdout",
     "output_type": "stream",
     "text": [
      "[0 1 2 3 4]\n",
      "[ True  True  True False False]\n"
     ]
    }
   ],
   "source": [
    "data = np.arange(5)\n",
    "print(data)\n",
    "print(data < 3)"
   ]
  },
  {
   "cell_type": "markdown",
   "metadata": {},
   "source": [
    "The statement `data < 3` returns an array of type `boolean` that has the same length as the array `data` and for each item in the array it is either `True` or `False`. The cool thing is that this array of `True` and `False` values can be used to specify the indices of an array:"
   ]
  },
  {
   "cell_type": "code",
   "execution_count": 24,
   "metadata": {},
   "outputs": [
    {
     "name": "stdout",
     "output_type": "stream",
     "text": [
      "[0 1 2]\n"
     ]
    }
   ],
   "source": [
    "a = np.arange(5)\n",
    "b = np.array([ True, True, True, False, False ])\n",
    "print(a[b])"
   ]
  },
  {
   "cell_type": "markdown",
   "metadata": {},
   "source": [
    "When the indices of an array are specified with a boolean array, only the values of the array where the boolean array is `True` are selected. This is a very powerful feature. For example, all values of an array that are less than, for example, 3 may be obtained by specifying a condition as the indices."
   ]
  },
  {
   "cell_type": "code",
   "execution_count": 25,
   "metadata": {},
   "outputs": [
    {
     "name": "stdout",
     "output_type": "stream",
     "text": [
      "the total array: [0 1 2 3 4]\n",
      "values less than 3: [0 1 2]\n"
     ]
    }
   ],
   "source": [
    "a = np.arange(5)\n",
    "print('the total array:', a)\n",
    "print('values less than 3:', a[a < 3])"
   ]
  },
  {
   "cell_type": "markdown",
   "metadata": {},
   "source": [
    "If we want to replace all values that are less than 3 by, for example, the value 10, use the following short syntax:"
   ]
  },
  {
   "cell_type": "code",
   "execution_count": 26,
   "metadata": {},
   "outputs": [
    {
     "name": "stdout",
     "output_type": "stream",
     "text": [
      "[0 1 2 3 4]\n",
      "[10 10 10  3  4]\n"
     ]
    }
   ],
   "source": [
    "a = np.arange(5)\n",
    "print(a)\n",
    "a[a < 3] = 10\n",
    "print(a)"
   ]
  },
  {
   "cell_type": "markdown",
   "metadata": {},
   "source": [
    "### Exercise 4, Plot markers inside and outside a circle\n",
    "The file `xypoints_nb2.dat` contains 1000 randomly chosen $x,y$ locations of points; both $x$ and $y$ vary between -10 and 10. Load the data using `np.loadtxt`, and store the first row of the array in an array called $x$ and the second row in an array called $y$.\n",
    "\n",
    "Plot a circle with center $(x,y) = (0,0)$ and a radius $R = 5$, (you need to use polar coordinates and the `np.sin` and `np.cos` functions to compute a number of points along the circle so that you can plot it) with a linewidth of 3. On the same graph, plot all $x,y$ data points that are located within the circle as green squares and all points outside the circle as red diamonds. Set the scale of the $x$ and $y$-axes equal, so that the circle is indeed circular (hint: recall what you did with the pie plot in Notebook 1)."
   ]
  },
  {
   "cell_type": "code",
   "execution_count": 27,
   "metadata": {},
   "outputs": [
    {
     "data": {
      "text/plain": [
       "(-10.979284550622337,\n",
       " 10.99676833589845,\n",
       " -10.975475876074144,\n",
       " 10.969507249001646)"
      ]
     },
     "execution_count": 27,
     "metadata": {},
     "output_type": "execute_result"
    },
    {
     "data": {
      "image/png": "[encoded data removed]",
      "text/plain": [
       "<matplotlib.figure.Figure at 0x22819f3af28>"
      ]
     },
     "metadata": {},
     "output_type": "display_data"
    }
   ],
   "source": [
    "import matplotlib.pyplot as plt\n",
    "import numpy as np\n",
    "%matplotlib inline\n",
    "\n",
    "data = np.loadtxt('xypoints_nb2.dat')\n",
    "x = data[0,:];\n",
    "y = data[1,:];\n",
    "\n",
    "t = np.linspace(0, 2 * np.pi)\n",
    "x1 = 5 * np.cos(t);\n",
    "y1 = 5 * np.sin(t);\n",
    "plt.plot(x1, y1, linewidth = 3)\n",
    "\n",
    "a = x*x +y*y\n",
    "b = a<25\n",
    "c = a>25\n",
    "\n",
    "plt.plot(x[b],y[b],'sg',label='point')\n",
    "plt.plot(x[c],y[c],'rD',label='point')\n",
    "plt.axis('equal')"
   ]
  },
  {
   "cell_type": "markdown",
   "metadata": {},
   "source": [
    "### Select indices based on multiple conditions\n",
    "Multiple conditions can be given as well. When two conditions both have to be true, use the `&` symbol. When at least one of the conditions needs to be true, use the '|' symbol (that is the vertical bar). For example, let's plot $y=\\sin(x)$ and plot blue markers when $y>0.7$ or $y<-0.5$ (using one plot statement), and a red marker when $-0.5\\le y\\le 0.7$. When there are multiple conditions, they need to be between parenteses."
   ]
  },
  {
   "cell_type": "code",
   "execution_count": 28,
   "metadata": {},
   "outputs": [
    {
     "data": {
      "image/png": "[encoded data removed]",
      "text/plain": [
       "<matplotlib.figure.Figure at 0x2281af73da0>"
      ]
     },
     "metadata": {},
     "output_type": "display_data"
    }
   ],
   "source": [
    "x = np.linspace(0, 6 * np.pi, 50)\n",
    "y = np.sin(x)\n",
    "plt.plot(x[(y > 0.7) | (y < -0.5)], y[(y > 0.7) | (y < -0.5)], 'bo')\n",
    "plt.plot(x[(y > -0.5) & (y < 0.7)], y[(y > -0.5) & (y < 0.7)], 'ro');"
   ]
  },
  {
   "cell_type": "markdown",
   "metadata": {},
   "source": [
    "### Exercise 5, <a name=\"back5\"></a> Plot markers for extreme values.\n",
    "Create an array for variable $x$ consisting of 100 points from 0 to 20. Compute $y=\\cos(x)+\\cos(x/2)+\\cos(x/3)$ and plot $y$ vs. $x$ with a blue line. On the same graph, plot a red dot for all $y$ values that are larger than 1 or smaller than -1. Can you plot the dots with one plotting statement?"
   ]
  },
  {
   "cell_type": "code",
   "execution_count": 29,
   "metadata": {},
   "outputs": [
    {
     "data": {
      "text/plain": [
       "[<matplotlib.lines.Line2D at 0x2281b0132e8>]"
      ]
     },
     "execution_count": 29,
     "metadata": {},
     "output_type": "execute_result"
    },
    {
     "data": {
      "image/png": "[encoded data removed]",
      "text/plain": [
       "<matplotlib.figure.Figure at 0x2281b013400>"
      ]
     },
     "metadata": {},
     "output_type": "display_data"
    }
   ],
   "source": [
    "import matplotlib.pyplot as plt\n",
    "import numpy as np\n",
    "%matplotlib inline\n",
    "\n",
    "x = np.linspace(0,20,100)\n",
    "y = np.cos(x) + np.cos(x/2) + np.cos(x/3)\n",
    "plt.plot(x, y, 'b')\n",
    "plt.plot(x[(y > 1) | (y < -1)],y[(y > 1) | (y < -1)],'sr',label='point')"
   ]
  },
  {
   "cell_type": "markdown",
   "metadata": {},
   "source": [
    "### Exercise 6, Plot markers between functions\n",
    "Make a line graph of the two functions $f(x)$ and $g(x)$ for $x$ going from -10 to 10 with 100 points:\n",
    "\n",
    "$$f(x) = e^{-x/5}\\sin(x)$$\n",
    "\n",
    "$$g(x) = 2\\sin(x)$$\n",
    "\n",
    "On the same graph, plot dots for all points $x,y$ from `xypoints_nb2.dat` that are in the zone between the two functions. That means that the points can be above $f(x)$ and below $g(x)$ or the other way around."
   ]
  },
  {
   "cell_type": "code",
   "execution_count": 30,
   "metadata": {},
   "outputs": [
    {
     "data": {
      "text/plain": [
       "[<matplotlib.lines.Line2D at 0x2281add9fd0>]"
      ]
     },
     "execution_count": 30,
     "metadata": {},
     "output_type": "execute_result"
    },
    {
     "data": {
      "image/png": "[encoded data removed]",
      "text/plain": [
       "<matplotlib.figure.Figure at 0x2281af42be0>"
      ]
     },
     "metadata": {},
     "output_type": "display_data"
    }
   ],
   "source": [
    "import matplotlib.pyplot as plt\n",
    "import numpy as np\n",
    "import math\n",
    "%matplotlib inline\n",
    "\n",
    "x = np.linspace(-10, 10, 100)\n",
    "y1 = np.exp(-x / 5) * np.sin(x)\n",
    "y2 = 2 * np.sin(x)\n",
    "plt.plot(x,y1)\n",
    "plt.plot(x,y2)\n",
    "\n",
    "data = np.loadtxt('xypoints_nb2.dat')\n",
    "x0 = data[0,:]\n",
    "y0 = data[1,:]\n",
    "a = (y0 < 2 * np.sin(x0)) & (y0 > np.exp(-x0 / 5) * np.sin(x0)) | (y0 > 2 * np.sin(x0)) & (y0 < np.exp(-x0 / 5) * np.sin(x0))\n",
    "plt.plot(x0[a], y0[a], 's')"
   ]
  },
  {
   "cell_type": "markdown",
   "metadata": {},
   "source": [
    "### Exercise 7, Fix the error \n",
    "In the code below, it is meant to give the last 5 values of the array `x` the values [50,52,54,56,58] and print the result to the screen, but there are some errors in the code. Remove the comment markers and run the code to see the error message. Then fix the code and run it again."
   ]
  },
  {
   "cell_type": "code",
   "execution_count": 31,
   "metadata": {},
   "outputs": [
    {
     "name": "stdout",
     "output_type": "stream",
     "text": [
      "[  1.   1.   1.   1.   1.  50.  52.  54.  56.  58.]\n"
     ]
    }
   ],
   "source": [
    "x = np.ones(10)\n",
    "x[5:] = np.arange(50, 60, 2)\n",
    "print(x)"
   ]
  },
  {
   "cell_type": "code",
   "execution_count": null,
   "metadata": {
    "collapsed": true
   },
   "outputs": [],
   "source": []
  }
 ],
 "metadata": {
  "kernelspec": {
   "display_name": "Python 3",
   "language": "python",
   "name": "python3"
  },
  "language_info": {
   "codemirror_mode": {
    "name": "ipython",
    "version": 3
   },
   "file_extension": ".py",
   "mimetype": "text/x-python",
   "name": "python",
   "nbconvert_exporter": "python",
   "pygments_lexer": "ipython3",
   "version": "3.6.3"
  }
 },
 "nbformat": 4,
 "nbformat_minor": 1
}
