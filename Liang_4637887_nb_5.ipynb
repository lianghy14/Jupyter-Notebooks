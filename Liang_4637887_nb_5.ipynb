{
 "cells": [
  {
   "cell_type": "markdown",
   "metadata": {},
   "source": [
    "<figure>\n",
    "  <IMG SRC=\"https://raw.githubusercontent.com/mbakker7/exploratory_computing_with_python/master/tudelft_logo.png\" WIDTH=250 ALIGN=\"right\">\n",
    "</figure>\n",
    "\n",
    "# Exploratory Computing with Python\n",
    "*Developed by Mark Bakker*"
   ]
  },
  {
   "cell_type": "markdown",
   "metadata": {},
   "source": [
    "## Notebook 5: Root finding and bugs"
   ]
  },
  {
   "cell_type": "markdown",
   "metadata": {},
   "source": [
    "In this Notebook we practice with functions, loops and if statements by coding a rootfinding algorithm ourselves, and we practice with resolving bugs."
   ]
  },
  {
   "cell_type": "markdown",
   "metadata": {},
   "source": [
    "### Root finding\n",
    "Finding the zero of a function is a very common task in exploratory computing. In mathematics it is also called *root finding*. The `scipy` package contains a number of methods to find the (approximate) value of the zero of a function of one or more variables. In this Notebook, we will program the Bisection method ourselves, so that we can practice with functions, loops, and if statements. After that, we use a rootfinding method from `scipy`."
   ]
  },
  {
   "cell_type": "code",
   "execution_count": 1,
   "metadata": {
    "collapsed": false
   },
   "outputs": [],
   "source": [
    "import numpy as np\n",
    "import matplotlib.pyplot as plt\n",
    "%matplotlib inline"
   ]
  },
  {
   "cell_type": "markdown",
   "metadata": {},
   "source": [
    "### Bisection method\n",
    "The Bisection method is a simple method to find the zero of a function. The user needs to specify the function $f(x)$ and two values of $x$ between which $f(x)$ is zero - let's call those two points $x_1$ and $x_2$. As $f(x)$ equals zero somewhere between $x_1$ and $x_2$, that means that $f(x)$ is positive at $x_1$ or $x_2$ and negative at the other one. In other words, the product of the two function values is negative: $f(x_1)f(x_2)<0$. If this condition is fulfilled, all we know is that $f(x)$ is zero somewhere in the interval between $x_1$ and $x_2$ (provided $f(x)$ is continuous, of course). The basic idea of the Bisection method is to iterate towards the zero of the function by cutting the interval in half every iteration. This is done by computing the middle between $x_1$ and $x_2$, let's call that point $x_m$, and compute $f(x_m)$. Next, replace either $x_1$ or $x_2$ by $x_m$ making sure that $f(x)$ remains negative at one of the two values and positive at the other. Repeat the process until the function is close enough to zero. In summary, the algorithm works as follows:\n",
    "\n",
    "1. Compute $f(x)$ at $x_1$ and $x_2$ and make sure that $f(x_1)f(x_2)<0$.\n",
    "2. Compute $x_m = \\frac{1}{2}(x_1+x_2)$.\n",
    "3. Compute $f(x_m)$.\n",
    "4. If $f(x_m)f(x_2)<0$, replace $x_1$ by $x_m$, otherwise, replace $x_2$ by $x_m$.\n",
    "5. Test whether $|f(x_1)|<\\varepsilon$, where $\\varepsilon$ is a user-specified tolerance. If this is not yet the case, return to step 2."
   ]
  },
  {
   "cell_type": "markdown",
   "metadata": {},
   "source": [
    "Recall that a function may simply be passed as the argument to another function in Python. The example below contains a function called `square_me` that returns the square of any function of one variable, evaluated at the provided value of $x$. As an example, `square_me` is used with the `cos` function"
   ]
  },
  {
   "cell_type": "code",
   "execution_count": 2,
   "metadata": {
    "collapsed": false
   },
   "outputs": [
    {
     "name": "stdout",
     "output_type": "stream",
     "text": [
      "result of square_me function: 0.427249983096\n",
      "directly taking the square  : 0.427249983096\n"
     ]
    }
   ],
   "source": [
    "def square_me(func, x):\n",
    "    return func(x) ** 2\n",
    "print('result of square_me function:', square_me(np.cos, 4))\n",
    "print('directly taking the square  :', np.cos(4) ** 2)"
   ]
  },
  {
   "cell_type": "markdown",
   "metadata": {},
   "source": [
    "### Exercise 1. <a name=\"back1\"></a>\n",
    "Write a Python function for $f(x)=x^3+6x^2+11x-6$. Create a plot of $f(x)$ for $x$ varying from -10 to 10. Notice that $f(x)$ has a zero somewhere on the plotted interval."
   ]
  },
  {
   "cell_type": "code",
   "execution_count": 3,
   "metadata": {
    "collapsed": false
   },
   "outputs": [
    {
     "data": {
      "text/plain": [
       "[<matplotlib.lines.Line2D at 0x1998d2007b8>]"
      ]
     },
     "execution_count": 3,
     "metadata": {},
     "output_type": "execute_result"
    },
    {
     "data": {
      "image/png": "[encoded data removed]",
      "text/plain": [
       "<matplotlib.figure.Figure at 0x1998ce07d68>"
      ]
     },
     "metadata": {},
     "output_type": "display_data"
    }
   ],
   "source": [
    "def f(x):\n",
    "    return x ** 3 + 6 * x ** 2 + 11 * x - 6\n",
    "x = np.linspace(-10,10,100)\n",
    "plt.plot(x,f(x))"
   ]
  },
  {
   "cell_type": "markdown",
   "metadata": {},
   "source": [
    "### Exercise 2. <a name=\"back2\"></a>Bisection method\n",
    "Implement the bisection method in a function called `bisection`. Your `bisection` method should take the following arguments:\n",
    "\n",
    "1. The function for which you want to find the zero.\n",
    "2. $x_1$ and $x_2$\n",
    "3. The tolerance `tol` used as a stopping criterion. Make `tol` a keyword argument with a default value of 0.001.\n",
    "4. The maximum number of iterations `nmax`. Make `nmax` a keyword argument with a default value of, for example, 10.\n",
    "\n",
    "Your function should return the value of $x$ where $f(x)$ equals (approximately) zero. Your function should print a warning to the screen when the maximum number of iterations is reached before the tolerance is met.\n",
    "\n",
    "In writing your code, implement steps 2-5 of the algorithm explained above in a regular loop that you perform `nmax` times and break out of the loop (using the `break` command) when the tolerance is met. Doing it this way will prevent you from getting stuck in an infinite loop, which may happen if you use a `while` loop. \n",
    "In writing your code, print the values of $x_1$, $x_2$, $f(x_1)$, and $f(x_2)$ to the screen every iteration, so you can see how your `bisection` function performs (or whether you have any bugs left). \n",
    "\n",
    "Use your `bisection` method to find the zero of the function $f(x)$ you programmed in Step 1 and make sure it is within `tol=0.001` of the exact value. "
   ]
  },
  {
   "cell_type": "code",
   "execution_count": 4,
   "metadata": {
    "collapsed": false
   },
   "outputs": [],
   "source": [
    "def bisection(func, x1, x2,tol = 0.001, nmax = 10):\n",
    "    for i in range(nmax):\n",
    "        print (x1, x2, func(x1), func(x2))\n",
    "        xm = (x1 + x2) / 2\n",
    "        if (func(xm) * func(x1)) < 0:\n",
    "            x2 = xm\n",
    "        elif (func(xm) * func(x2)) < 0:\n",
    "            x1 = xm\n",
    "        if abs(x2 - x1) <= tol:\n",
    "            break\n",
    "    return (x2 + x1) / 2"
   ]
  },
  {
   "cell_type": "code",
   "execution_count": 5,
   "metadata": {
    "collapsed": false
   },
   "outputs": [
    {
     "name": "stdout",
     "output_type": "stream",
     "text": [
      "0 4 -6 198\n",
      "0 2.0 -6 48.0\n",
      "0 1.0 -6 12.0\n",
      "0 0.5 -6 1.125\n",
      "0.25 0.5 -2.859375 1.125\n",
      "0.375 0.5 -0.978515625 1.125\n",
      "0.375 0.4375 -0.978515625 0.044677734375\n",
      "0.40625 0.4375 -0.473968505859375 0.044677734375\n",
      "0.421875 0.4375 -0.21641921997070312 0.044677734375\n",
      "0.4296875 0.4375 -0.08631563186645508 0.044677734375\n",
      "0.43359375 0.4375 -0.020930349826812744 0.044677734375\n",
      "0.43359375 0.435546875 -0.020930349826812744 0.011845819652080536\n",
      "zero of function and function value:  0.43505859375 0.0036465529119595885\n"
     ]
    }
   ],
   "source": [
    "xzero = bisection(func=f, x1=0, x2=4, nmax=20)  \n",
    "print('zero of function and function value: ', xzero, f(xzero))  "
   ]
  },
  {
   "cell_type": "markdown",
   "metadata": {},
   "source": [
    "Demonstrate that your `bisection` method works correctly by finding the zero of cos($x$) between $x_1=0$ and $x_2=3$ running the following command:\n",
    "\n",
    "`bisection(np.cos, 0, 3, tol=1e-6, nmax=30)`"
   ]
  },
  {
   "cell_type": "code",
   "execution_count": 6,
   "metadata": {
    "collapsed": false
   },
   "outputs": [
    {
     "name": "stdout",
     "output_type": "stream",
     "text": [
      "0 3 1.0 -0.9899924966\n",
      "1.5 3 0.0707372016677 -0.9899924966\n",
      "1.5 2.25 0.0707372016677 -0.628173622723\n",
      "1.5 1.875 0.0707372016677 -0.29953350619\n",
      "1.5 1.6875 0.0707372016677 -0.116438941125\n",
      "1.5 1.59375 0.0707372016677 -0.0229516576536\n",
      "1.546875 1.59375 0.0239190454439 -0.0229516576536\n",
      "1.5703125 1.59375 0.00048382677602 -0.0229516576536\n",
      "1.5703125 1.58203125 0.00048382677602 -0.0112346868547\n",
      "1.5703125 1.576171875 0.00048382677602 -0.00537552231604\n",
      "1.5703125 1.5732421875 0.00048382677602 -0.00244585826649\n",
      "1.5703125 1.57177734375 0.00048382677602 -0.000981016797749\n",
      "1.5703125 1.571044921875 0.00048382677602 -0.000248595077543\n",
      "1.5706787109375 1.571044921875 0.000117615857125 -0.000248595077543\n",
      "1.5706787109375 1.57086181640625 0.000117615857125 -6.54896113066e-05\n",
      "1.570770263671875 1.57086181640625 2.60631230187e-05 -6.54896113066e-05\n",
      "1.570770263671875 1.5708160400390625 2.60631230187e-05 -1.97132441646e-05\n",
      "1.5707931518554688 1.5708160400390625 3.17493942786e-06 -1.97132441646e-05\n",
      "1.5707931518554688 1.5708045959472656 3.17493942786e-06 -8.26915236891e-06\n",
      "1.5707931518554688 1.5707988739013672 3.17493942786e-06 -2.54710647057e-06\n",
      "1.570796012878418 1.5707988739013672 3.1391647865e-07 -2.54710647057e-06\n",
      "1.570796012878418 1.5707974433898926 3.1391647865e-07 -1.11659499596e-06\n"
     ]
    },
    {
     "data": {
      "text/plain": [
       "1.5707963705062866"
      ]
     },
     "execution_count": 6,
     "metadata": {},
     "output_type": "execute_result"
    }
   ],
   "source": [
    "bisection(np.cos, 0, 3, tol=1e-6, nmax=30)"
   ]
  },
  {
   "cell_type": "markdown",
   "metadata": {},
   "source": [
    "### Root finding methods in `scipy`\n",
    "The package `scipy.optimize` includes a number of routines for the minimization of a function and to find the zeros of a function. One of the rootfinding methods is called, no suprise, `bisect`. But possibly the most popular root finding method is called `fsolve`. "
   ]
  },
  {
   "cell_type": "markdown",
   "metadata": {},
   "source": [
    "### Exercise 3.<a name=\"back5\"></a> `fsolve` \n",
    "Use the `fsolve` method of the `scipy.optimize` package to find the $x$ value for which $e^{\\sqrt{x}}=5$ (i.e., find the zero of the function $e^{\\sqrt{x}}-5$), and demonstrate that your value of $x$ indeed gives $e^{\\sqrt{x}}=5$."
   ]
  },
  {
   "cell_type": "code",
   "execution_count": 7,
   "metadata": {
    "collapsed": false
   },
   "outputs": [
    {
     "name": "stdout",
     "output_type": "stream",
     "text": [
      "the zero of func is [ 2.59029039] and the value is [ -5.95079541e-14]\n"
     ]
    }
   ],
   "source": [
    "import scipy.optimize as sciop\n",
    "def func(x):\n",
    "    return np.exp(x ** 0.5) - 5\n",
    "p = sciop.fsolve(func, 1)\n",
    "print ('the zero of func is', p, 'and the value is', func(p))"
   ]
  },
  {
   "cell_type": "markdown",
   "metadata": {},
   "source": [
    "### Exercise 4.<a name=\"back6\"></a> Plot the zero\n",
    "Plot the function $f(x)=x+2\\cos(x)$ for $x$ going from -2 to 4. On the same graph, plot a red dot at the location where $f(x)=0$. Obviously, you need to find this location with one of the methods you learned in this Notebook. "
   ]
  },
  {
   "cell_type": "code",
   "execution_count": 8,
   "metadata": {
    "collapsed": false
   },
   "outputs": [
    {
     "data": {
      "text/plain": [
       "[<matplotlib.lines.Line2D at 0x1998d85aef0>]"
      ]
     },
     "execution_count": 8,
     "metadata": {},
     "output_type": "execute_result"
    },
    {
     "data": {
      "image/png": "[encoded data removed]",
      "text/plain": [
       "<matplotlib.figure.Figure at 0x1998cb5cdd8>"
      ]
     },
     "metadata": {},
     "output_type": "display_data"
    }
   ],
   "source": [
    "def func(x):\n",
    "    return x + 2 * np.cos(x)\n",
    "x = np.linspace(-2,4,100)\n",
    "plt.plot(x, func(x))\n",
    "p = sciop.fsolve(func, 1)\n",
    "plt.plot(p, func(p),'r.')"
   ]
  },
  {
   "cell_type": "markdown",
   "metadata": {},
   "source": [
    "### Bugs\n",
    "It happens to anyone writing code: occasionally, you make errors. Errors in your code, known as bugs, can be roughly divided in two kinds. The first kind are syntax errors, where Python throws an error message at you. Once you have resolved all the syntax errors, this means your code will run, but it doesn't mean, unfortunatley, that you get the answer you want. There may be one or more bugs remaining in your logic. To find these bugs, it often helps to test small parts of the code separately and to write lots of print statements. There also exist tools called debuggers, which help you in stepping through the code to look at intermediate results. They do not, unfortunately, tell you what the bug is, that is still up to you, the programmer. \n",
    "\n",
    "In this Notebook, we will discuss a number of syntax errors. Syntax errors can be very long as they provide a traceback from the function that throws the error all the way back to the code that you wrote. The strategy to find out what is going on is to read the last sentence of the error message. This error message is designed to tell you what you are doing wrong. Sometimes it is easy for Python to figure out what is wrong and the error message is very informative. Other times you make a more confusing error and Python throws an error message that doesn't help much in explaining what you did wrong. A second important piece of information is that Python shows you in what line of your code things went haywire. It prints a few lines of your code to the screen and points to the line where the error occurred with an arrow. The examples Notebook are by no means exhaustive. A number of syntax errors are discussed so that you may start recognizing them and give you some practice in trying to resolve errors. "
   ]
  },
  {
   "cell_type": "markdown",
   "metadata": {},
   "source": [
    "**In all the examples below, you must fix the error so that the entire Notebook kan be run by selecting Kernel - Restart & Run All when you are done with the Notebook**"
   ]
  },
  {
   "cell_type": "markdown",
   "metadata": {},
   "source": [
    "### `IndexError: list index out of range`\n",
    "As a first example, run the code below"
   ]
  },
  {
   "cell_type": "code",
   "execution_count": 9,
   "metadata": {
    "collapsed": false
   },
   "outputs": [
    {
     "name": "stdout",
     "output_type": "stream",
     "text": [
      "1\n",
      "2\n",
      "3\n"
     ]
    }
   ],
   "source": [
    "x = [1, 2, 3]\n",
    "for i in range(3):\n",
    "    print(x[i])"
   ]
  },
  {
   "cell_type": "markdown",
   "metadata": {},
   "source": [
    "You will get an error message `IndexError: list index out of range` and an arrow at the line of the code where this happened. This makes immediate sense, as the length of the array `x` is 3 (so `x[0]`, `x[1]`, and `x[2]`), while you are trying to print `x[3]`. Fix the code and run it again."
   ]
  },
  {
   "cell_type": "markdown",
   "metadata": {},
   "source": [
    "### `invalid syntax`\n",
    "A common error message is `invalid syntax`. This means you are trying to do something that Python doesn't understand. This could very well be a typo, which you can often spot by looking carefully at the code. For example, run the code below"
   ]
  },
  {
   "cell_type": "code",
   "execution_count": 10,
   "metadata": {
    "collapsed": false
   },
   "outputs": [],
   "source": [
    "a = 7 \n",
    "if a == 8:\n",
    "    print('the value of a equals 8')"
   ]
  },
  {
   "cell_type": "markdown",
   "metadata": {},
   "source": [
    "Similarly, if you forget to add a colon, you get a `invalid syntax` error. Python shows with the carrot (`^`) where it doesn't understand what is going on."
   ]
  },
  {
   "cell_type": "code",
   "execution_count": 11,
   "metadata": {
    "collapsed": false
   },
   "outputs": [
    {
     "name": "stdout",
     "output_type": "stream",
     "text": [
      "the value of avalue is smaller than 10\n"
     ]
    }
   ],
   "source": [
    "avalue = 7 \n",
    "if avalue < 10:\n",
    "    print('the value of avalue is smaller than 10')"
   ]
  },
  {
   "cell_type": "markdown",
   "metadata": {},
   "source": [
    "In this case, the error is that the statement `a = 8` needs to have two equal signs. Fix it and run the code again. "
   ]
  },
  {
   "cell_type": "markdown",
   "metadata": {},
   "source": [
    "Other times, the syntax error may not be so obvious, for example, in the code below "
   ]
  },
  {
   "cell_type": "code",
   "execution_count": 12,
   "metadata": {
    "collapsed": false
   },
   "outputs": [
    {
     "data": {
      "text/plain": [
       "<matplotlib.text.Text at 0x1998d8d1e10>"
      ]
     },
     "execution_count": 12,
     "metadata": {},
     "output_type": "execute_result"
    },
    {
     "data": {
      "image/png": "[encoded data removed]",
      "text/plain": [
       "<matplotlib.figure.Figure at 0x1998d80a320>"
      ]
     },
     "metadata": {},
     "output_type": "display_data"
    }
   ],
   "source": [
    "plt.plot([1,2,3])\n",
    "plt.title('Nice plot')"
   ]
  },
  {
   "cell_type": "markdown",
   "metadata": {},
   "source": [
    "You can stare all you want at the line `plt.title('Nice plot')` but it looks perfectly good. And it is! The problem lies with the line just above it, where the closing parenthesis is missing. Python thinks that the plotting statement continuous on the next line, but the `plt.title` command makes no sense in the `plt.plot` function, so it throws an error message. There is not much else it can do. Fix the parenthesis and run the code again. "
   ]
  },
  {
   "cell_type": "markdown",
   "metadata": {},
   "source": [
    "### Longer error messages\n",
    "Error messages can be rather long, depending where in the code the error occurs. In the code below, the error occurs in the line `plt.plot(xdata, ydata)`, which calls a function in the `matplotlib` package, which throws the error when it tries to plot `y` vs. `x` (which is a generic error message from `matplotlib`; it doesn't substitute the names of the arrays you really want to plot). Run the code"
   ]
  },
  {
   "cell_type": "code",
   "execution_count": 13,
   "metadata": {
    "collapsed": false
   },
   "outputs": [
    {
     "data": {
      "image/png": "[encoded data removed]",
      "text/plain": [
       "<matplotlib.figure.Figure at 0x1998d93b4a8>"
      ]
     },
     "metadata": {},
     "output_type": "display_data"
    }
   ],
   "source": [
    "def func_exp(x, a=2, b=3):\n",
    "    y = b * np.exp(-a * x)\n",
    "    return y\n",
    "\n",
    "xdata = np.linspace(0, 4, 10)\n",
    "ydata = func_exp(xdata, b=4, a=1)\n",
    "\n",
    "plt.plot(xdata, ydata);"
   ]
  },
  {
   "cell_type": "markdown",
   "metadata": {},
   "source": [
    "Again, the code looks perfectly fine, but `matplotlib` complains that `x and y must not be None`. Note that `x` and `y` refer to `xdata` and `ydata`, because that is the statement in the code. Apparently, either `xdata` or `ydata` equals `None`. The thing to do here is to print `xdata` and `ydata` to the screen. "
   ]
  },
  {
   "cell_type": "code",
   "execution_count": 14,
   "metadata": {
    "collapsed": false
   },
   "outputs": [
    {
     "name": "stdout",
     "output_type": "stream",
     "text": [
      "[ 0.          0.44444444  0.88888889  1.33333333  1.77777778  2.22222222\n",
      "  2.66666667  3.11111111  3.55555556  4.        ]\n",
      "[ 4.          2.56472155  1.64444916  1.05438855  0.67605326  0.43347209\n",
      "  0.2779338   0.1782057   0.114262    0.07326256]\n"
     ]
    }
   ],
   "source": [
    "print(xdata)\n",
    "print(ydata)"
   ]
  },
  {
   "cell_type": "markdown",
   "metadata": {},
   "source": [
    "As you see, it turns out that `xdata` is indeed an array with 10 values, but `ydata` is `None`. The error lies in the function `func_exp` that is defined. This function doesn't return the value of `y` that is computed. Fix the function and run the code again. "
   ]
  },
  {
   "cell_type": "markdown",
   "metadata": {},
   "source": [
    "### Exercises\n",
    "The best way to learn how to resolve errors in your code is by practice.\n",
    "Consider the following code snippets. Each code snippet contains at least two errors. It is up to you to fix the error so that the code runs properly. Note that you will need to make changes to only one or two lines in each code snippet and you are not allowed to delete lines. "
   ]
  },
  {
   "cell_type": "markdown",
   "metadata": {},
   "source": [
    "#### Exercise 5a. Bar graph of grades"
   ]
  },
  {
   "cell_type": "code",
   "execution_count": 15,
   "metadata": {
    "collapsed": false
   },
   "outputs": [
    {
     "data": {
      "image/png": "[encoded data removed]",
      "text/plain": [
       "<matplotlib.figure.Figure at 0x1998d96d048>"
      ]
     },
     "metadata": {},
     "output_type": "display_data"
    }
   ],
   "source": [
    "grades = np.loadtxt('numbers2016.txt')\n",
    "total = np.zeros(10)\n",
    "for i in range(10):\n",
    "    for j in range(len(grades)):\n",
    "        if grades[j] == i+1:\n",
    "            total[i] += 1\n",
    "\n",
    "plt.bar(range(10), total)\n",
    "plt.xticks(np.linspace(1.5, 10.5, 10), np.linspace(1, 10, 10));"
   ]
  },
  {
   "cell_type": "markdown",
   "metadata": {},
   "source": [
    "#### Exercise 5b. Plot a function"
   ]
  },
  {
   "cell_type": "code",
   "execution_count": 16,
   "metadata": {
    "collapsed": false
   },
   "outputs": [
    {
     "data": {
      "image/png": "[encoded data removed]",
      "text/plain": [
       "<matplotlib.figure.Figure at 0x1998da07940>"
      ]
     },
     "metadata": {},
     "output_type": "display_data"
    }
   ],
   "source": [
    "def func(x):\n",
    "    return 5 * x ** 2 + 6 * x + 3\n",
    "x = np.linspace(-100, 100, 100)\n",
    "plt.plot(x, func(x), 'r')\n",
    "plt.title('Nice python plot')\n",
    "plt.xlabel('x')\n",
    "plt.ylabel('y');"
   ]
  },
  {
   "cell_type": "markdown",
   "metadata": {},
   "source": [
    "#### Exercise 5c. Image of an array"
   ]
  },
  {
   "cell_type": "code",
   "execution_count": 17,
   "metadata": {
    "collapsed": false
   },
   "outputs": [
    {
     "data": {
      "image/png": "[encoded data removed]",
      "text/plain": [
       "<matplotlib.figure.Figure at 0x1998db09be0>"
      ]
     },
     "metadata": {},
     "output_type": "display_data"
    }
   ],
   "source": [
    "y = np.zeros((20, 20))\n",
    "y[8:13] = 10\n",
    "plt.matshow(y)\n",
    "plt.title('image of array y');"
   ]
  },
  {
   "cell_type": "markdown",
   "metadata": {},
   "source": [
    "### Exercise 5d. Figure with legend"
   ]
  },
  {
   "cell_type": "code",
   "execution_count": 18,
   "metadata": {
    "collapsed": false
   },
   "outputs": [
    {
     "data": {
      "image/png": "[encoded data removed]",
      "text/plain": [
       "<matplotlib.figure.Figure at 0x1998db2f7f0>"
      ]
     },
     "metadata": {},
     "output_type": "display_data"
    }
   ],
   "source": [
    "x = np.linspace(-5 * np.pi, 5 * np.pi, 200)\n",
    "y1 = np.cos(x)\n",
    "y2 = 0.5 * np.sin(x)\n",
    "plt.plot(x, y1, 'b')\n",
    "plt.plot(x, y2, 'r')\n",
    "plt.legend(['cos', 'sin'], loc='best');"
   ]
  },
  {
   "cell_type": "code",
   "execution_count": null,
   "metadata": {
    "collapsed": true
   },
   "outputs": [],
   "source": []
  }
 ],
 "metadata": {
  "kernelspec": {
   "display_name": "Python 3",
   "language": "python",
   "name": "python3"
  },
  "language_info": {
   "codemirror_mode": {
    "name": "ipython",
    "version": 3
   },
   "file_extension": ".py",
   "mimetype": "text/x-python",
   "name": "python",
   "nbconvert_exporter": "python",
   "pygments_lexer": "ipython3",
   "version": "3.6.0"
  }
 },
 "nbformat": 4,
 "nbformat_minor": 0
}
