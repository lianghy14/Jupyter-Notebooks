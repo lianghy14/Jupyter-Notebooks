{
 "cells": [
  {
   "cell_type": "markdown",
   "metadata": {},
   "source": [
    "<figure>\n",
    "  <IMG SRC=\"https://raw.githubusercontent.com/mbakker7/exploratory_computing_with_python/master/tudelft_logo.png\" WIDTH=250 ALIGN=\"right\">\n",
    "</figure>\n",
    "\n",
    "# Exploratory Computing with Python\n",
    "*Developed by Mark Bakker*"
   ]
  },
  {
   "cell_type": "markdown",
   "metadata": {},
   "source": [
    "## Notebook 10: Regression analysis I"
   ]
  },
  {
   "cell_type": "code",
   "execution_count": 1,
   "metadata": {
    "collapsed": true
   },
   "outputs": [],
   "source": [
    "import numpy as np\n",
    "import matplotlib.pyplot as plt\n",
    "%matplotlib inline"
   ]
  },
  {
   "cell_type": "markdown",
   "metadata": {},
   "source": [
    "In this Notebook, we learn how to fit a model to a set of data. In the first half of this Notebook, we fit several different models to the same data set, also called regression analysis. In the second half of this Notebook, we look under the hood of these regression analyses, we discuss how the best parameters are computed, how the goodness of fit can be quantified, and what these other parameters are that some of the regression functions return. "
   ]
  },
  {
   "cell_type": "markdown",
   "metadata": {},
   "source": [
    "### Root mean square error\n",
    "One way to quantify the fit between data and a model is to compute the root mean square error. The error is defined as the difference between the observed value and the modeled value. Another term for the error is the residual. If the error of data point $i$ is written as $\\varepsilon_i$, and the total number of observations is $N$, then the sum of squared errors $S$ is\n",
    "\n",
    "$$S = \\sum{\\varepsilon_i^2}$$\n",
    "\n",
    "When the total number of observations is $N$, the root mean square error $E$ is computed as\n",
    "\n",
    "$$E=\\sqrt{\\frac{1}{N}S}=\\sqrt{\\frac{1}{N}\\sum{\\varepsilon_i^2}}$$\n",
    "\n",
    "The root mean square error is an estimate of the goodness of fit and can be computed for any model and any dataset."
   ]
  },
  {
   "cell_type": "markdown",
   "metadata": {},
   "source": [
    "### Exercise 1. Fit a straight line\n",
    "Load the $x,y$ values of 20 data points from the file `xydatafit.dat`. Fit a straight line through the data using the `linregress` function of `scipy.stats`. Note that the `linregress` function returns 3 other values beyond the slope and intercept (use `linregress?` to find out); more on these 3 additional values later on in this Notebook. Plot the data and the fitted straight line. Add a legend. Add the root mean square error as a title to the graph. Print the optimal values for the slope and intercept of the straight line to the screen."
   ]
  },
  {
   "cell_type": "code",
   "execution_count": 2,
   "metadata": {},
   "outputs": [
    {
     "name": "stdout",
     "output_type": "stream",
     "text": [
      "k = 6.07744370031\n",
      "b = 42.5824573588\n"
     ]
    },
    {
     "data": {
      "image/png": "[encoded data removed]",
      "text/plain": [
       "<matplotlib.figure.Figure at 0x1ec1eff4a20>"
      ]
     },
     "metadata": {},
     "output_type": "display_data"
    }
   ],
   "source": [
    "import scipy.stats\n",
    "[x,y] = np.loadtxt('xydatafit.dat')\n",
    "result = scipy.stats.linregress(x,y)\n",
    "plt.plot(x,y,'.')\n",
    "y1 = result[0]*x+result[1]\n",
    "plt.plot(x,y1)\n",
    "plt.legend(['initial data','fitted line'])\n",
    "s = 0 \n",
    "for i in range(len(x)):\n",
    "    s = s + (y1[i]-y[i]) ** 2\n",
    "E = (1 / len(x) * s) ** 0.5\n",
    "plt.title(E)\n",
    "print('k =',result[0])\n",
    "print('b =',result[1])"
   ]
  },
  {
   "cell_type": "markdown",
   "metadata": {},
   "source": [
    "### Exercise 2. Fit a polynomial\n",
    "Use the $x,y$ values of 20 data points from the file `xydatafit.dat`. Fit a second degree polynomial (a parabola) through the data using the `np.polyfit` function. Plot the data and the fitted parabola. Add a legend. Report the root mean squared error in the title. Did the root mean squared error improve?"
   ]
  },
  {
   "cell_type": "code",
   "execution_count": 3,
   "metadata": {},
   "outputs": [
    {
     "name": "stdout",
     "output_type": "stream",
     "text": [
      "Yes\n"
     ]
    },
    {
     "data": {
      "image/png": "[encoded data removed]",
      "text/plain": [
       "<matplotlib.figure.Figure at 0x1ec1f0cd710>"
      ]
     },
     "metadata": {},
     "output_type": "display_data"
    }
   ],
   "source": [
    "result = np.polyfit(x,y,2)\n",
    "y2 = result[0] * x ** 2 + result[1] * x + result[2]\n",
    "plt.plot(x,y,'.')\n",
    "plt.plot(x,y2)\n",
    "s = 0 \n",
    "for i in range(len(x)):\n",
    "    s = s + (y2[i]-y[i]) ** 2\n",
    "E = (1 / len(x) * s) ** 0.5\n",
    "plt.title(E)\n",
    "plt.legend(['initial data','fitted parabola'])\n",
    "print('Yes')"
   ]
  },
  {
   "cell_type": "markdown",
   "metadata": {},
   "source": [
    "### Fitting an arbitrary function\n",
    "Python functions to fit a straight line or polynomial are readily available. There are many other functions that you may want to use to fit to your data. The function `curve_fit` can be used to fit an arbitrary function that you define; `curve_fit` is part of the `scipy.optimize` package. The `curve_fit` function requires you to write a function that takes as its first argument the independent variable (in our case above that are the $x$-values) followed by the parameter(s) that you want to fit and returns the value of the function at all the $x$ values for the supplied parameters. For example, to fit a straight line, you need to write a function"
   ]
  },
  {
   "cell_type": "code",
   "execution_count": 4,
   "metadata": {
    "collapsed": true
   },
   "outputs": [],
   "source": [
    "def func(x, a, b):\n",
    "    return a * x + b"
   ]
  },
  {
   "cell_type": "markdown",
   "metadata": {},
   "source": [
    "The `curve_fit` function needs to be called with three arguments: the function that you want to fit, the values of the independent variable (in our case $x$), and the values of the depenedent variable (in our case $y$). The `curve_fit` funtion than returns an array with the optimal parameters (in a least squares sense) and a second array containing the covariance of the optimal parameters (more on that later). For example, for the case of Exercise 1:"
   ]
  },
  {
   "cell_type": "code",
   "execution_count": 5,
   "metadata": {},
   "outputs": [
    {
     "name": "stdout",
     "output_type": "stream",
     "text": [
      "optimal parameters: [  6.07744372  42.58245717]\n"
     ]
    }
   ],
   "source": [
    "from scipy.optimize import curve_fit\n",
    "x, y = np.loadtxt('xydatafit.dat')  # in case these were modified in one of the exercises\n",
    "popt, pcov = curve_fit(func, x, y)\n",
    "print('optimal parameters:', popt)"
   ]
  },
  {
   "cell_type": "markdown",
   "metadata": {},
   "source": [
    "Note that these optimal parameters are identical to the values you computed in Exercise 1. "
   ]
  },
  {
   "cell_type": "markdown",
   "metadata": {},
   "source": [
    "### Exercise 3. Fit an exponential function with `curve_fit`\n",
    "Use the $x,y$ values of 20 data points from the file `xydatafit.dat`. Fit the function $f(x) = A\\exp(ax) + b$ through the data using the `curve_fit` function of `scipy.optimize`. Plot the data and the fitted function. Report the root mean squared error in the title. Did the root means squared error improve?"
   ]
  },
  {
   "cell_type": "code",
   "execution_count": 6,
   "metadata": {},
   "outputs": [
    {
     "name": "stdout",
     "output_type": "stream",
     "text": [
      "Yes\n"
     ]
    },
    {
     "data": {
      "image/png": "[encoded data removed]",
      "text/plain": [
       "<matplotlib.figure.Figure at 0x1ec1f9c5dd8>"
      ]
     },
     "metadata": {},
     "output_type": "display_data"
    }
   ],
   "source": [
    "def func(x,A,a,b):\n",
    "    y = A * np.exp(a * x) + b\n",
    "    return y\n",
    "x, y = np.loadtxt('xydatafit.dat')\n",
    "popt, pcov = curve_fit(func,x,y)\n",
    "plt.plot(x,y,'.',x,func(x,popt[0],popt[1],popt[2]))\n",
    "s = 0 \n",
    "for i in range(len(x)):\n",
    "    s = s + (func(x[i],popt[0],popt[1],popt[2])-y[i]) ** 2\n",
    "E = (1 / len(x) * s) ** 0.5\n",
    "plt.title(E)\n",
    "plt.legend(['initial data','fitted function'])\n",
    "print('Yes')"
   ]
  },
  {
   "cell_type": "markdown",
   "metadata": {},
   "source": [
    "### Least squares\n",
    "In the exercises above, the *optimal* or *best* parameters were obtained with either the `linregress`, `polyfit` or `curve_fit` methods. But how do these methods do that? Or maybe a more fundamental question: 'What is *optimal*?' or 'What is *best*?' In this Notebook, we define *best* as the parameter set that minimizes the sum of the squared errors (so it also minimizes the root mean square error). Such an optimization approach is also referred to as a *least squares* approach. \n",
    "\n",
    "For example, consider the following three data points: "
   ]
  },
  {
   "cell_type": "code",
   "execution_count": 7,
   "metadata": {},
   "outputs": [
    {
     "data": {
      "image/png": "[encoded data removed]",
      "text/plain": [
       "<matplotlib.figure.Figure at 0x1ec1f99cda0>"
      ]
     },
     "metadata": {},
     "output_type": "display_data"
    }
   ],
   "source": [
    "xdata = np.array([5.0, 10.0, 15.0])\n",
    "ydata = np.array([3.0, 6.0, 7.0])\n",
    "plt.plot(xdata, ydata, 'bo', label='observed')\n",
    "plt.legend();"
   ]
  },
  {
   "cell_type": "markdown",
   "metadata": {},
   "source": [
    "We can try to fit a straight line through these three points, but you can already see that the three points don't lie on a line, so there is no straight line that goes exactly through the three points. The straight line is written as $y=ax+b$, where $a$ is the slope of the line and $b$ is called the intercept (it is the value of $y$ for $x=0$). We write a function that takes as input arguments an array of observed $x$ values and an array of corresponding $y$ values, and values for the slope $a$ and intercept $b$. The function returns the sum of squared errors, where the error is defined as the difference betweeen the observed value of $y$ and the value of the straight line at that same $x$ value. The equation for the error at point $i$ is $\\varepsilon_i$ and may be written as\n",
    "\n",
    "$\\varepsilon_i = y_i - (ax_i + b)$"
   ]
  },
  {
   "cell_type": "code",
   "execution_count": 8,
   "metadata": {
    "collapsed": true
   },
   "outputs": [],
   "source": [
    "def sse(a, b, x=xdata, y=ydata):\n",
    "    error = y - (a * x + b)\n",
    "    return np.sum(error ** 2)"
   ]
  },
  {
   "cell_type": "markdown",
   "metadata": {},
   "source": [
    "As you can see, different values of $a$ and $b$ give different values for the sum of squared errors `sse`. The `sse` for $a=1$, $b=2$ is larger than for $a=1$, $b=1$. "
   ]
  },
  {
   "cell_type": "code",
   "execution_count": 9,
   "metadata": {},
   "outputs": [
    {
     "name": "stdout",
     "output_type": "stream",
     "text": [
      "sse of a=1, b=2: 152.0\n",
      "sse of a=1, b=1: 115.0\n"
     ]
    }
   ],
   "source": [
    "print('sse of a=1, b=2:', sse(a=1, b=2))\n",
    "print('sse of a=1, b=1:', sse(a=1, b=1))"
   ]
  },
  {
   "cell_type": "markdown",
   "metadata": {},
   "source": [
    "What we can do is compute the `sse` function for a larger number of $a$ and $b$ values. If we do that on a regular grid, we can create contours of the `sse` function. The `sse` function is constant along any contour. A contour map of the `sse` function is similar to an elevation map. The goal is now to find the combination of $a$ and $b$ that gives the smallest value of the sum of squared errors. In the graph below, you can see that the smallest value of `sse` is obtained at $a\\approx 0.4$, $b\\approx 1.3$ (you have to look closely for the darkest blue in the figure; the area beyond the yellow is $S>10$)."
   ]
  },
  {
   "cell_type": "code",
   "execution_count": 10,
   "metadata": {},
   "outputs": [
    {
     "data": {
      "image/png": "[encoded data removed]",
      "text/plain": [
       "<matplotlib.figure.Figure at 0x1ec1fa8a358>"
      ]
     },
     "metadata": {},
     "output_type": "display_data"
    }
   ],
   "source": [
    "a, b = np.meshgrid(np.linspace(0.2, 0.6, 50), np.linspace(0, 2, 50))\n",
    "ssevec = np.vectorize(sse)\n",
    "z = ssevec(a, b)\n",
    "plt.figure()\n",
    "plt.contourf(a, b, z, np.linspace(0, 10, 100))\n",
    "plt.colorbar()\n",
    "plt.xlabel('a')\n",
    "plt.ylabel('b');"
   ]
  },
  {
   "cell_type": "markdown",
   "metadata": {},
   "source": [
    "How do we minimize the sum of squared errors? As usual, we find the minimum of a function by taking the derivative and setting it to zero. This is a little involved, but not too difficult. The sum of squared errors is written as $E$\n",
    "\n",
    "$$\n",
    "E=\\sum_{i=1}^N\\varepsilon_i^2=\n",
    "\\sum_{i=1}^N[y_i-(ax_i+b)]^2\n",
    "$$\n",
    "\n",
    "where $N$ is the number of observations. The slope $a$ and intercept $b$ are determined such that $E$ is minimized, which means that the following derivatives are zero\n",
    "\n",
    "$$\\frac{\\partial E}{\\partial a}=0 \\qquad \\frac{\\partial E}{\\partial b}=0$$\n",
    "\n",
    "Differentiation gives (using the chain rule)\n",
    "\n",
    "$$\n",
    "\\frac{\\partial E}{\\partial a}=\\sum_{i=1}^N[2(y_i-ax_i-b)(-x_i)]=\n",
    "2a\\sum_{i=1}^Nx_i^2+2b\\sum_{i=1}^Nx_i-2\\sum_{i=1}^Nx_iy_i\n",
    "$$\n",
    "\n",
    "$$\n",
    "\\frac{\\partial E}{\\partial b}=\\sum_{i=1}^N[2(y_i-ax_i-b)(-1)]=\n",
    "2a\\sum_{i=1}^Nx_i+2bN-2\\sum_{i=1}^Ny_i\n",
    "$$\n",
    "\n",
    "Setting the derivatives equal to zero and division by 2 gives\n",
    "\n",
    "$$\n",
    "a\\sum_{i=1}^Nx_i^2+b\\sum_{i=1}^Nx_i-\\sum_{i=1}^Nx_iy_i=0\n",
    "$$\n",
    "\n",
    "$$\n",
    "a\\sum_{i=1}^Nx_i+bN-\\sum_{i=1}^Ny_i=0\n",
    "$$\n",
    "\n",
    "This system of two linear equations with two unknowns ($a$ and $b$) may be solved to give\n",
    "\n",
    "$$ a=\\frac{N\\sum_{i=1}^Nx_iy_i-\\sum_{i=1}^Nx_i\\sum_{i=1}^Ny_i}\n",
    "{N\\sum_{i=1}^Nx_i^2-\\sum_{i=1}^Nx_i\\sum_{i=1}^Nx_i}\n",
    "$$\n",
    "\n",
    "$$\n",
    "b=\\bar{y}-a\\bar{x}\n",
    "$$\n",
    "where $\\bar{x}$ and $\\bar{y}$ are the mean values of $x$ and $y$, respectively. "
   ]
  },
  {
   "cell_type": "markdown",
   "metadata": {},
   "source": [
    "### Exercise 4. Fitting a straight line revisited\n",
    "Compute the optimal values (in the least squares sense) of $a$ and $b$ using the two equations derived above and the corresponding sum of squared errors (using the `xdata` and `ydata` arrays for the three points given above). Next, use the `linregress` function of the `scipy.stats` package to compute the optimal values and verify that the `linregress` function gives the same answers. Create a graph that shows the three data points and the fitted straight line."
   ]
  },
  {
   "cell_type": "code",
   "execution_count": 11,
   "metadata": {},
   "outputs": [
    {
     "name": "stdout",
     "output_type": "stream",
     "text": [
      "a = 0.4\n",
      "b = 1.33333333333\n",
      "E = 0.666666666667\n"
     ]
    }
   ],
   "source": [
    "sx = 0\n",
    "sy = 0\n",
    "sxy = 0\n",
    "sx2 = 0\n",
    "for i in range(len(xdata)):\n",
    "    sx += xdata[i]\n",
    "    sy += ydata[i]\n",
    "    sxy += xdata[i] * ydata[i]\n",
    "    sx2 += xdata[i] ** 2\n",
    "a = (len(xdata) * sxy - sx * sy) / (len(xdata) * sx2 - sx * sx)\n",
    "b = sy / len(xdata) - a * sx / len(xdata)\n",
    "E = 0\n",
    "for i in range(len(xdata)):\n",
    "    E += (ydata[i] - (a * xdata[i] + b)) ** 2\n",
    "print('a =', a)\n",
    "print('b =', b)\n",
    "print('E =', E)"
   ]
  },
  {
   "cell_type": "code",
   "execution_count": 12,
   "metadata": {},
   "outputs": [
    {
     "name": "stdout",
     "output_type": "stream",
     "text": [
      "a = 0.4\n",
      "b = 1.33333333333\n"
     ]
    }
   ],
   "source": [
    "result = scipy.stats.linregress(xdata, ydata)\n",
    "print('a =', result[0])\n",
    "print('b =', result[1])"
   ]
  },
  {
   "cell_type": "code",
   "execution_count": 13,
   "metadata": {},
   "outputs": [
    {
     "data": {
      "text/plain": [
       "<matplotlib.legend.Legend at 0x1ec1fac75f8>"
      ]
     },
     "execution_count": 13,
     "metadata": {},
     "output_type": "execute_result"
    },
    {
     "data": {
      "image/png": "[encoded data removed]",
      "text/plain": [
       "<matplotlib.figure.Figure at 0x1ec1fac7b38>"
      ]
     },
     "metadata": {},
     "output_type": "display_data"
    }
   ],
   "source": [
    "plt.plot(xdata,ydata,'.',xdata,a * xdata + b)\n",
    "plt.legend(['initial data','fitted line'])"
   ]
  },
  {
   "cell_type": "markdown",
   "metadata": {},
   "source": [
    "### The correlation coefficient, $p$-value and standard error. \n",
    "The `linregress` function returns 5 values. Besides the slope and intercept, these are somewhat cryptically defined as the correlation coefficient, the $p$-value, and the standard error. Each of these three values are a quantification of the goodness of fit. According to statisticians, these terms in the `scipy.stats` documentation are somewhat imprecisely defined (they will likely be updated in the future). This is what they mean:\n",
    "\n",
    "The square of the correlation coefficient $r$ is the *r-squared value* and is defined as\n",
    "\n",
    "$$r^2 = 1 - \\sum{(y_i - \\hat{y}_i)^2} \\left/ \\sum{(y_i - \\bar{y})^2} \\right. $$\n",
    "\n",
    "where $y_i$ is the $y$ value of data point $i$, while $\\hat{y}_i$ is the fitted values at data point $i$. It can also be written as \n",
    "\n",
    "$$r^2 = \\frac{\\text{var}(y) - \\text{var}(y-\\hat{y})}{\\text{var}(y)}$$\n",
    "\n",
    "So the $r^2$ value is the variance of $y$ minues the variance of the remaining residuals (the data values minus the fitted values), divided by the variance of $y$, and is also referred to as the 'percentage of variance explained'. If the model goes exactly through the data (a perfect fit), then the variance of the residuals is zero, and $r^2=1$. If the model doesn't do much better than simply the mean of $y$, then the  $r^2$ is very close zero. A value of $r^2$ close to 1 is generally a good thing, but it is not possible to say anything definitive about the goodness of fit by just reporting the $r^2$ value (although many people do)."
   ]
  },
  {
   "cell_type": "markdown",
   "metadata": {},
   "source": [
    "The standard error returned by the `linregress` model is the estimated standard deviation of the fitted slope. The equation is"
   ]
  },
  {
   "cell_type": "markdown",
   "metadata": {},
   "source": [
    "$$s = \\sqrt{\\frac{\\sum(y_i-\\hat{y}_i)^2}{N-2}} \\left/ \\sqrt{\\sum{(x_i-\\bar{x})^2}} \\right.$$"
   ]
  },
  {
   "cell_type": "markdown",
   "metadata": {},
   "source": [
    "The standard deviation of the slope should be interpreted similar to the standard deviation of the mean. The computed slope is a statistical value so it has an estimated standard deviation. "
   ]
  },
  {
   "cell_type": "markdown",
   "metadata": {},
   "source": [
    "The $p$-value is related to the question whether the estimated slope is significantly different from zero. When the slope is significantly different from zero, you can state that there is a linear relationship between the two variables. The $p$-value is related to the question whether the estimated slope is significantly different from zero when you perform a $t$-test. When the $p$-value is less than 0.05, this means that when you perform a two-sided $t$-test you can reject the null hypothesis that the slope is zero in favor of the alternative hypothesis that the slope is not zero. In layman terms: it means that there is less than 5% chance that the slope is zero and more than 95% chance that the slope is not zero. Or even simpler: the slope is significantly different from zero. "
   ]
  },
  {
   "cell_type": "markdown",
   "metadata": {},
   "source": [
    "### Exercise 5. Verification of goodness of fit parameters\n",
    "Implement the equations for $r^2$ and $s$ given above to verify that the values returned by the `linregress` function are correct. Perform a two-sided hypothesis test with significance level 5% where the null hypothesis is that the slope of the fitted line is zero and the alternative hypothesis is that the slope is not zero. Draw the probability density function of a $t$-distribution with mean 0 and standard deviation equal to the computed value of $s$. Use $N-2$ as the number of degrees of freedom (You subtract the number of parameters from $N$ as you used up these two degrees of freedom). Draw red vertical lines indicating the 2.5% and 97.5% percentiles according to the $t$-distribution. Draw a heavy black vertical line at the position of the computed value of the slope. Decide whether you can reject the null hypothesis that the slope is zero in favor of the alternative hypothesis that the slope is not 0 and add that as a title to the figure."
   ]
  },
  {
   "cell_type": "code",
   "execution_count": 14,
   "metadata": {},
   "outputs": [
    {
     "name": "stdout",
     "output_type": "stream",
     "text": [
      "0.960768922831 = 0.960768922831\n",
      "0.115470053838 = 0.115470053838\n"
     ]
    }
   ],
   "source": [
    "y1 = xdata * a + b\n",
    "s1 = 0\n",
    "s2 = 0\n",
    "s3 = 0\n",
    "for i in range(len(xdata)):\n",
    "    s1 += (ydata[i] - y1[i]) ** 2\n",
    "    s2 += (ydata[i] - sy / len(xdata)) ** 2\n",
    "    s3 += (xdata[i] - sx / len(xdata)) ** 2\n",
    "r2 = 1 - s1 / s2\n",
    "s = ((s1 / (len(xdata) - 2)) ** 0.5) / (s3 ** 0.5)\n",
    "print(r2 ** 0.5, '=', result[2])\n",
    "print(s, '=', result[4])"
   ]
  },
  {
   "cell_type": "code",
   "execution_count": 15,
   "metadata": {},
   "outputs": [
    {
     "data": {
      "text/plain": [
       "<matplotlib.text.Text at 0x1ec1f927710>"
      ]
     },
     "execution_count": 15,
     "metadata": {},
     "output_type": "execute_result"
    },
    {
     "data": {
      "image/png": "[encoded data removed]",
      "text/plain": [
       "<matplotlib.figure.Figure at 0x1ec1faf3f28>"
      ]
     },
     "metadata": {},
     "output_type": "display_data"
    }
   ],
   "source": [
    "x = np.linspace(-3,3,100)\n",
    "y = scipy.stats.t.pdf(x,s)\n",
    "p = result[3]\n",
    "plt.figure(1)\n",
    "plt.plot(x,y)\n",
    "plt.plot(scipy.stats.t.ppf(0.025,len(x)-1) * np.ones(2),[0,0.2],'r')\n",
    "plt.plot(scipy.stats.t.ppf(0.975,len(x)-1) * np.ones(2),[0,0.2],'r')\n",
    "plt.plot(a * np.ones(2),[0,0.2],'k',linewidth = 5)\n",
    "plt.xlim(-3,3)\n",
    "plt.ylim(0,0.2)\n",
    "plt.title('cannot reject')"
   ]
  },
  {
   "cell_type": "code",
   "execution_count": null,
   "metadata": {},
   "outputs": [],
   "source": []
  },
  {
   "cell_type": "markdown",
   "metadata": {},
   "source": [
    "### Meaning of the $p$-value\n",
    "If you did the previous exercise correctly, you found out that the slope was not significantly different from zero (you could not reject the null hypothesis that the slope is zero with significance level 5%). The $p$ value returned by the `linregress` function means that if you would have performed the hypothesis with significance level $p$, then you would not have rejected the hypothesis. Let's try it:"
   ]
  },
  {
   "cell_type": "code",
   "execution_count": 16,
   "metadata": {},
   "outputs": [
    {
     "name": "stdout",
     "output_type": "stream",
     "text": [
      "upper and lower bound for significance level 0.178912375022 is: -0.400000000004 0.400000000004\n"
     ]
    }
   ],
   "source": [
    "from scipy.stats import t\n",
    "p1, p2 = t.ppf([p / 2, 1 - p / 2], 1, loc=0, scale=s)\n",
    "print('upper and lower bound for significance level', p, 'is:', p1, p2)"
   ]
  },
  {
   "cell_type": "markdown",
   "metadata": {},
   "source": [
    "Just to be complete, we can compute the $p$ value from the $t$ distribution as"
   ]
  },
  {
   "cell_type": "code",
   "execution_count": 17,
   "metadata": {},
   "outputs": [
    {
     "name": "stdout",
     "output_type": "stream",
     "text": [
      "p-value from t-distribution: 0.178912375022\n"
     ]
    }
   ],
   "source": [
    "print('p-value from t-distribution:', 2 * (1 - t.cdf(a, 1, loc=0, scale=s)))"
   ]
  },
  {
   "cell_type": "markdown",
   "metadata": {},
   "source": [
    "Recall that the $p$-value only makes sense if the residuals are independent and Normally distributed. For the problem we are looking at with 3 data points that is, of course, impossible to say. But when you have more data, you really need to check or, alternatively, use a method that doesn't require the Normality assumption. "
   ]
  },
  {
   "cell_type": "markdown",
   "metadata": {},
   "source": [
    "One last thing about the significance level. We state that the slope is signficantly different from zero when $p<0.05$. But that means that there is still a 5% chance that the slope is different from zero by chance. Let's try that in the following exercise"
   ]
  },
  {
   "cell_type": "markdown",
   "metadata": {
    "collapsed": true
   },
   "source": [
    "### Exercise 6. Getting a value of $p<0.05$ by chance\n",
    "Perform the following experiment: Generate 100 $x$ values randomly from a uniform distribution between 0 and 10 using the `np.random.rand` function. Generate 100 $y$ values randomly from a uniform distribution between 0 and 10. Fit a straight line using `linregress`. Perform the experiment 1000 time and count the number of times that the $p$-value is smaller than 0.05. As you will see, you will get approximately 50 out of the 1000 experiments where a line is fitted with a $p$-value smaller than 0.05 just by chance (as there really is no correlation between the random $x$ and $y$ values).  "
   ]
  },
  {
   "cell_type": "code",
   "execution_count": 18,
   "metadata": {},
   "outputs": [
    {
     "name": "stdout",
     "output_type": "stream",
     "text": [
      "40\n"
     ]
    }
   ],
   "source": [
    "count = 0\n",
    "for i in range(1000):\n",
    "    x = np.random.rand(100) * 10\n",
    "    y = np.random.rand(100) * 10\n",
    "    result = scipy.stats.linregress(x,y)\n",
    "    if result[3] < 0.05:\n",
    "        count += 1\n",
    "print(count)"
   ]
  },
  {
   "cell_type": "code",
   "execution_count": null,
   "metadata": {
    "collapsed": true
   },
   "outputs": [],
   "source": []
  }
 ],
 "metadata": {
  "kernelspec": {
   "display_name": "Python 3",
   "language": "python",
   "name": "python3"
  },
  "language_info": {
   "codemirror_mode": {
    "name": "ipython",
    "version": 3
   },
   "file_extension": ".py",
   "mimetype": "text/x-python",
   "name": "python",
   "nbconvert_exporter": "python",
   "pygments_lexer": "ipython3",
   "version": "3.6.3"
  }
 },
 "nbformat": 4,
 "nbformat_minor": 1
}
