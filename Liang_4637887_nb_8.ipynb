{
 "cells": [
  {
   "cell_type": "markdown",
   "metadata": {},
   "source": [
    "<figure>\n",
    "  <IMG SRC=\"https://raw.githubusercontent.com/mbakker7/exploratory_computing_with_python/master/tudelft_logo.png\" WIDTH=250 ALIGN=\"right\">\n",
    "</figure>\n",
    "\n",
    "# Exploratory Computing with Python\n",
    "*Developed by Mark Bakker. With questions by Pauline van Leeuwen and Tom Pak*"
   ]
  },
  {
   "cell_type": "markdown",
   "metadata": {},
   "source": [
    "## Notebook 8: Basics of Pandas for data analysis\n",
    "In this Notebook we learn how to do some basic data analysis with `pandas`."
   ]
  },
  {
   "cell_type": "code",
   "execution_count": 1,
   "metadata": {
    "collapsed": false
   },
   "outputs": [],
   "source": [
    "import numpy as np\n",
    "import matplotlib.pyplot as plt\n",
    "%matplotlib inline"
   ]
  },
  {
   "cell_type": "markdown",
   "metadata": {},
   "source": [
    "### Loading real data with Pandas\n",
    "Real data is often stored in CSV files (Comma Separated Values, although the values can be separated by other things than commas).\n",
    "So far, we have loaded csv files with the `np.loadtxt` command en `np.genfromtxt`\n",
    "The `loadtxt` function has some basic functionality and works just fine, but when we have more elaborate data sets we want more sophisticated functionality. \n",
    "The most powerful and advanced package for data handling and analysis is called `pandas`. We will use only a few functions of the `pandas` package here. Full information on `pandas` can be found on the [pandas website](http://pandas.pydata.org/).\n",
    "\n",
    "Consider the following dataset, which is stored in the file `transport.csv`. It shows the percentage of transportation kilometers by car, bus or rail for four countries. The dataset has four columns. \n",
    "\n",
    "`country, car, bus, rail`  \n",
    "`some more explanations, yada yada yada`  \n",
    "`France, 86.1, 5.3, 8.6`  \n",
    "`Germany, 85.2, 7.1, 7.7`  \n",
    "`Netherlands, 86.4, 4.6, 9`  \n",
    "`United Kingdom, 88.2, 6.5, 5.3` \n",
    "\n",
    "This data file can be loaded with the `read_csv` function of the `pandas` package. The `read_csv` function has many options. We will use three of them here. The rows that need to be skipped are defined with the `skiprows` keyword (in this case row 1 with the `yada yada` text). The `skipinitialspace` keyword is set to `True` so that the column name ' car' is loaded without the initial space that is in the data file. And the `index_col` keyword is set to indicate that the names in column 0 can be used as an index to select a row."
   ]
  },
  {
   "cell_type": "code",
   "execution_count": 2,
   "metadata": {
    "collapsed": false
   },
   "outputs": [],
   "source": [
    "from pandas import read_csv\n",
    "tran = read_csv('transport.csv', skiprows=[1], skipinitialspace=True, index_col=0)"
   ]
  },
  {
   "cell_type": "markdown",
   "metadata": {},
   "source": [
    "`pandas` loads data into a `DataFrame`. A `DataFrame` is like an array, but has many additional features for data analysis. For starters, once you have loaded the data, you can print it to the screen"
   ]
  },
  {
   "cell_type": "code",
   "execution_count": 3,
   "metadata": {
    "collapsed": false
   },
   "outputs": [
    {
     "name": "stdout",
     "output_type": "stream",
     "text": [
      "                 car  bus  rail\n",
      "country                        \n",
      "France          86.1  5.3   8.6\n",
      "Germany         85.2  7.1   7.7\n",
      "Netherlands     86.4  4.6   9.0\n",
      "United Kingdom  88.2  6.5   5.3\n"
     ]
    }
   ],
   "source": [
    "print(tran)"
   ]
  },
  {
   "cell_type": "markdown",
   "metadata": {},
   "source": [
    "When the DataFrame is large, you can still print it to the screen (`pandas` is smart enough not to show the entire DataFrame when it is very large), or you can simply print the first 5 lines of the DataFrame with the `.head()` function. \n",
    "\n",
    "Another nice option is that you can use the `display` function of the `IPython.display` package to display the DataFrame to the screen. You just have to import the `display` function so you can use it in the Notebook."
   ]
  },
  {
   "cell_type": "code",
   "execution_count": 4,
   "metadata": {
    "collapsed": false
   },
   "outputs": [
    {
     "data": {
      "text/html": [
       "<div>\n",
       "<table border=\"1\" class=\"dataframe\">\n",
       "  <thead>\n",
       "    <tr style=\"text-align: right;\">\n",
       "      <th></th>\n",
       "      <th>car</th>\n",
       "      <th>bus</th>\n",
       "      <th>rail</th>\n",
       "    </tr>\n",
       "    <tr>\n",
       "      <th>country</th>\n",
       "      <th></th>\n",
       "      <th></th>\n",
       "      <th></th>\n",
       "    </tr>\n",
       "  </thead>\n",
       "  <tbody>\n",
       "    <tr>\n",
       "      <th>France</th>\n",
       "      <td>86.1</td>\n",
       "      <td>5.3</td>\n",
       "      <td>8.6</td>\n",
       "    </tr>\n",
       "    <tr>\n",
       "      <th>Germany</th>\n",
       "      <td>85.2</td>\n",
       "      <td>7.1</td>\n",
       "      <td>7.7</td>\n",
       "    </tr>\n",
       "    <tr>\n",
       "      <th>Netherlands</th>\n",
       "      <td>86.4</td>\n",
       "      <td>4.6</td>\n",
       "      <td>9.0</td>\n",
       "    </tr>\n",
       "    <tr>\n",
       "      <th>United Kingdom</th>\n",
       "      <td>88.2</td>\n",
       "      <td>6.5</td>\n",
       "      <td>5.3</td>\n",
       "    </tr>\n",
       "  </tbody>\n",
       "</table>\n",
       "</div>"
      ],
      "text/plain": [
       "                 car  bus  rail\n",
       "country                        \n",
       "France          86.1  5.3   8.6\n",
       "Germany         85.2  7.1   7.7\n",
       "Netherlands     86.4  4.6   9.0\n",
       "United Kingdom  88.2  6.5   5.3"
      ]
     },
     "metadata": {},
     "output_type": "display_data"
    }
   ],
   "source": [
    "from IPython.display import display\n",
    "display(tran)"
   ]
  },
  {
   "cell_type": "markdown",
   "metadata": {},
   "source": [
    "### Basic DataFrame manipulation\n",
    "The rows and columns of a DataFrame may have names (as you can see for the `tran` `DataFrame` above, when we printed it to the screen. To find out which names are used for the columns, use the `keys` function, which is accessible with the dot syntax. You can loop through the names of the columns if you wish."
   ]
  },
  {
   "cell_type": "code",
   "execution_count": 5,
   "metadata": {
    "collapsed": false
   },
   "outputs": [
    {
     "name": "stdout",
     "output_type": "stream",
     "text": [
      "Names of columns:\n",
      "Index(['car', 'bus', 'rail'], dtype='object')\n",
      "car\n",
      "bus\n",
      "rail\n"
     ]
    }
   ],
   "source": [
    "print('Names of columns:')\n",
    "print(tran.keys())\n",
    "for key in tran.keys():\n",
    "    print(key)"
   ]
  },
  {
   "cell_type": "markdown",
   "metadata": {},
   "source": [
    "Each DataFrame may be indexed just like an array, by specifying the row and column number using the `.iloc` syntax (which stands for *index location*), where column 0 is the column labeled `car` (since the column labeled as `country` was stored as an index when reading the csv file; more on that later)."
   ]
  },
  {
   "cell_type": "code",
   "execution_count": 6,
   "metadata": {
    "collapsed": false
   },
   "outputs": [
    {
     "name": "stdout",
     "output_type": "stream",
     "text": [
      "5.3\n",
      "85.2\n",
      "9.0\n",
      "car     88.2\n",
      "bus      6.5\n",
      "rail     5.3\n",
      "Name: United Kingdom, dtype: float64\n",
      "country\n",
      "France            5.3\n",
      "Germany           7.1\n",
      "Netherlands       4.6\n",
      "United Kingdom    6.5\n",
      "Name: bus, dtype: float64\n"
     ]
    }
   ],
   "source": [
    "print(tran.iloc[0, 1])  # gives the bus data for France\n",
    "print(tran.iloc[1, 0])  # gives the car data for Germany\n",
    "print(tran.iloc[2, 2])  # gives the rail data for Netherlands\n",
    "print(tran.iloc[3])     # all data for United Kindom\n",
    "print(tran.iloc[:, 1])  # all data for bus"
   ]
  },
  {
   "cell_type": "markdown",
   "metadata": {},
   "source": [
    "Alternatively, values in a DataFrame may be selected by specifying the indices by name, using the `.loc` syntax. This is a bit more typing but *much* more explicit. The equivalent of the code cell above, but using indices by name is"
   ]
  },
  {
   "cell_type": "code",
   "execution_count": 7,
   "metadata": {
    "collapsed": false
   },
   "outputs": [
    {
     "name": "stdout",
     "output_type": "stream",
     "text": [
      "5.3\n",
      "85.2\n",
      "9.0\n",
      "car     88.2\n",
      "bus      6.5\n",
      "rail     5.3\n",
      "Name: United Kingdom, dtype: float64\n",
      "country\n",
      "France            5.3\n",
      "Germany           7.1\n",
      "Netherlands       4.6\n",
      "United Kingdom    6.5\n",
      "Name: bus, dtype: float64\n"
     ]
    }
   ],
   "source": [
    "print(tran.loc['France', 'bus'])\n",
    "print(tran.loc['Germany', 'car'])\n",
    "print(tran.loc['Netherlands', 'rail'])\n",
    "print(tran.loc['United Kingdom'])\n",
    "print(tran.loc[:, 'bus'])"
   ]
  },
  {
   "cell_type": "markdown",
   "metadata": {},
   "source": [
    "There are two alternative ways to access all the data in a column. First, you can simply specify the column name as an index, without having to use the `.loc` syntax. Second, the dot syntax may be used, like syntax `.column_name`, where `column_name` is the name of the column. Hence, the following three are equivalent"
   ]
  },
  {
   "cell_type": "code",
   "execution_count": 8,
   "metadata": {
    "collapsed": false
   },
   "outputs": [
    {
     "name": "stdout",
     "output_type": "stream",
     "text": [
      "country\n",
      "France            86.1\n",
      "Germany           85.2\n",
      "Netherlands       86.4\n",
      "United Kingdom    88.2\n",
      "Name: car, dtype: float64\n",
      "country\n",
      "France            86.1\n",
      "Germany           85.2\n",
      "Netherlands       86.4\n",
      "United Kingdom    88.2\n",
      "Name: car, dtype: float64\n",
      "country\n",
      "France            86.1\n",
      "Germany           85.2\n",
      "Netherlands       86.4\n",
      "United Kingdom    88.2\n",
      "Name: car, dtype: float64\n"
     ]
    }
   ],
   "source": [
    "print(tran.loc[:,'car'])  # all rows of 'car' column\n",
    "print(tran['car'])        # 'car' column \n",
    "print(tran.car)"
   ]
  },
  {
   "cell_type": "markdown",
   "metadata": {},
   "source": [
    "### `numpy` functions for DataFrames\n",
    "`DataFrame`s can be pretty much treated as arrays, especially when they contain data. Most `numpy` functions work on `DataFrame`s, but they can also be accessed with the *dot* syntax, like `dataframe_name.function()`. Simply type \n",
    "\n",
    "`tran.` \n",
    "\n",
    "in a code cell and then hit the [tab] key to see all the functions that are available (there are many). In the code cell below, we compute the maximum value of transportation by car, the country corresponding to the maximum value of transportation by car, and the mean value of all transportation by car. You can also find all values larger than a specified value, just like for arrays:"
   ]
  },
  {
   "cell_type": "code",
   "execution_count": 9,
   "metadata": {
    "collapsed": false
   },
   "outputs": [
    {
     "name": "stdout",
     "output_type": "stream",
     "text": [
      "maximum car travel percentage: 88.2\n",
      "country with maximum car travel percentage: United Kingdom\n",
      "mean car travel percentage: 86.47500000000001\n",
      "all rail travel above 8 percent:\n",
      "country\n",
      "France         8.6\n",
      "Netherlands    9.0\n",
      "Name: rail, dtype: float64\n",
      "all countries with rail travel above 8 percent:\n",
      "['France' 'Netherlands']\n"
     ]
    }
   ],
   "source": [
    "print('maximum car travel percentage:', tran.car.max())\n",
    "print('country with maximum car travel percentage:', tran.car.argmax())\n",
    "print('mean car travel percentage:', tran.car.mean())\n",
    "print('all rail travel above 8 percent:')\n",
    "print(tran.rail[tran.rail > 8])\n",
    "print('all countries with rail travel above 8 percent:')\n",
    "print(tran.index[tran.rail > 8].values)"
   ]
  },
  {
   "cell_type": "markdown",
   "metadata": {},
   "source": [
    "### Exercise 1, Country data\n",
    "The file `countries.csv` contains an assortment data for (almost) every country in the world. Open the data file in an editor to see what it is in it (Notepad, Textedit, even Word if you have to; note that in Excel line numbers start at 1 and not at 0). Load the data with the `read_csv` function of `pandas`, making sure that the names of the countries can be used to select a row, and perform the following tasks:\n",
    "\n",
    "* Print the first 5 lines of the DataFrame to the screen with the `.head()` function.\n",
    "* Print the total population for South Korea.\n",
    "* Print the number of kilometers of coastline in Chile (the coastline is given in km).\n",
    "* Print all countries with an area above 5 million km$^2$ (use `.values` as shown in example above).\n",
    "* Print the country with the longest coastline.\n",
    "* Print the number of countries that use the Euro for their currency.\n",
    "* Print the number of countries with no coast."
   ]
  },
  {
   "cell_type": "code",
   "execution_count": 10,
   "metadata": {
    "collapsed": false
   },
   "outputs": [
    {
     "name": "stdout",
     "output_type": "stream",
     "text": [
      "               Continent  Population     Area  Coastline Currency  \\\n",
      "Country                                                             \n",
      "Afghanistan         Asia    32564342   652230          0  Afghani   \n",
      "Egypt             Africa    88487396  1001450       2450    Pfund   \n",
      "Albania           Europe     3029278    28748        362      Lek   \n",
      "Algeria           Africa    39542166  2381741        998    Dinar   \n",
      "American Samoa   Oceania       54343      199        116   Dollar   \n",
      "\n",
      "               DialingPrefix  Birthrate  Deathrate  LifeExpectancy  \n",
      "Country                                                             \n",
      "Afghanistan               93       38.6       13.9            50.9  \n",
      "Egypt                     20       22.9        4.8            73.7  \n",
      "Albania                  355       12.9        6.6            78.1  \n",
      "Algeria                  213       23.7        4.3            76.6  \n",
      "American Samoa         1-684       22.9        4.8            75.1  \n"
     ]
    }
   ],
   "source": [
    "countries = read_csv('countries.csv', sep=';', skiprows=[0,1,2,3], index_col=0)\n",
    "print(countries.head(5))"
   ]
  },
  {
   "cell_type": "code",
   "execution_count": 11,
   "metadata": {
    "collapsed": false
   },
   "outputs": [
    {
     "name": "stdout",
     "output_type": "stream",
     "text": [
      "the total population for South Korea is: 49115196\n"
     ]
    }
   ],
   "source": [
    "print('the total population for South Korea is:', countries.loc['South Korea','Population'])"
   ]
  },
  {
   "cell_type": "code",
   "execution_count": 12,
   "metadata": {
    "collapsed": false
   },
   "outputs": [
    {
     "name": "stdout",
     "output_type": "stream",
     "text": [
      "countries with an area above 5 million km2 are: 6435\n"
     ]
    }
   ],
   "source": [
    "print('countries with an area above 5 million km2 are:', countries.loc['Chile','Coastline'])"
   ]
  },
  {
   "cell_type": "code",
   "execution_count": 13,
   "metadata": {
    "collapsed": false
   },
   "outputs": [
    {
     "name": "stdout",
     "output_type": "stream",
     "text": [
      "all countries with an area above 5 million km2 are: ['Antarctica' 'Australia' 'Brazil' 'China' 'Canada' 'Russia'\n",
      " 'United States']\n"
     ]
    }
   ],
   "source": [
    "print('all countries with an area above 5 million km2 are:', countries.index[countries.Area > 5e6].values)"
   ]
  },
  {
   "cell_type": "code",
   "execution_count": 14,
   "metadata": {
    "collapsed": false
   },
   "outputs": [
    {
     "name": "stdout",
     "output_type": "stream",
     "text": [
      "the country with the longest coastline: Canada\n"
     ]
    }
   ],
   "source": [
    "print('the country with the longest coastline:', countries.Coastline.argmax())"
   ]
  },
  {
   "cell_type": "code",
   "execution_count": 15,
   "metadata": {
    "collapsed": false
   },
   "outputs": [
    {
     "name": "stdout",
     "output_type": "stream",
     "text": [
      "the number of countries that use the Euro for their currency is: 32\n"
     ]
    }
   ],
   "source": [
    "print('the number of countries that use the Euro for their currency is:', len(countries.index[countries.Currency == 'Euro'].values))"
   ]
  },
  {
   "cell_type": "code",
   "execution_count": 16,
   "metadata": {
    "collapsed": false
   },
   "outputs": [
    {
     "name": "stdout",
     "output_type": "stream",
     "text": [
      "the number of countries with no coast is: 54\n"
     ]
    }
   ],
   "source": [
    "print('the number of countries with no coast is:', len(countries.index[countries.Coastline == 0].values))"
   ]
  },
  {
   "cell_type": "markdown",
   "metadata": {},
   "source": [
    "### Adding a column to a DataFrame\n",
    "A column may be added to a DataFrame by simply specifying the name and values of the new column using the syntax `DataFrame['newcolumn']=something`. For example, let's add a column named `public_transport`, which is the sum of the `bus` and `rail` columns, and then find the country with the largest percentage of public transport"
   ]
  },
  {
   "cell_type": "code",
   "execution_count": 17,
   "metadata": {
    "collapsed": false
   },
   "outputs": [
    {
     "name": "stdout",
     "output_type": "stream",
     "text": [
      "Country with largest percentage public transport: Germany\n"
     ]
    }
   ],
   "source": [
    "tran['public_transport'] = tran.bus + tran.rail\n",
    "print('Country with largest percentage public transport:', tran.public_transport.argmax())"
   ]
  },
  {
   "cell_type": "markdown",
   "metadata": {},
   "source": [
    "### Plotting DataFrames\n",
    "You can plot the column or row of a DataFrame with `matplotlib` functions, as we have done in previous Notebooks, but `pandas` has also implemented its own, much more convenient, plotting functions (still based on `matplotlib` in the background, of course). The plotting capabilities of `pandas` also use the *dot* syntax, like `dataframe.plot()`. All columns can be plotted simultaneously (note that the names appear on the axes and the legend is added automatically!)."
   ]
  },
  {
   "cell_type": "code",
   "execution_count": 18,
   "metadata": {
    "collapsed": false
   },
   "outputs": [
    {
     "data": {
      "image/png": "[encoded data removed]",
      "text/plain": [
       "<matplotlib.figure.Figure at 0x2be254dec50>"
      ]
     },
     "metadata": {},
     "output_type": "display_data"
    }
   ],
   "source": [
    "tran.plot();  # plot all columns"
   ]
  },
  {
   "cell_type": "markdown",
   "metadata": {},
   "source": [
    "You can also plot one column at a time. The style of the plot may be specified with the `kind` keyword (the default is `'line'`). Check out `tran.plot?` for more options. "
   ]
  },
  {
   "cell_type": "code",
   "execution_count": 19,
   "metadata": {
    "collapsed": false
   },
   "outputs": [
    {
     "data": {
      "image/png": "[encoded data removed]",
      "text/plain": [
       "<matplotlib.figure.Figure at 0x2be26190208>"
      ]
     },
     "metadata": {},
     "output_type": "display_data"
    }
   ],
   "source": [
    "tran['bus'].plot(kind='bar');"
   ]
  },
  {
   "cell_type": "markdown",
   "metadata": {},
   "source": [
    "### Sorting DataFrames\n",
    "DataFrames may be sorted with the `.sort_values` function. The keyword `inplace=True` replaces the values in the DataFrame with the new sorted values (when `inplace=False` a new DataFrame is returned, which you can store in a separate variable so that you have two datasets, one sorted and one unsorted). The `sort_values` funcion has several keyword arguments, including `by` which is either the name of one column to sort by or a list of columns so that data is sorted by the first specified column and when values are equal they are sorted by the next column in the list. Another keyword is `ascending`, which you can use to specify whether to sort in ascending order (`ascending=True`, which is the default), or descending order (`ascending=False`)"
   ]
  },
  {
   "cell_type": "code",
   "execution_count": 20,
   "metadata": {
    "collapsed": false
   },
   "outputs": [
    {
     "name": "stdout",
     "output_type": "stream",
     "text": [
      "Data sorted by car use:\n"
     ]
    },
    {
     "data": {
      "text/html": [
       "<div>\n",
       "<table border=\"1\" class=\"dataframe\">\n",
       "  <thead>\n",
       "    <tr style=\"text-align: right;\">\n",
       "      <th></th>\n",
       "      <th>car</th>\n",
       "      <th>bus</th>\n",
       "      <th>rail</th>\n",
       "      <th>public_transport</th>\n",
       "    </tr>\n",
       "    <tr>\n",
       "      <th>country</th>\n",
       "      <th></th>\n",
       "      <th></th>\n",
       "      <th></th>\n",
       "      <th></th>\n",
       "    </tr>\n",
       "  </thead>\n",
       "  <tbody>\n",
       "    <tr>\n",
       "      <th>Germany</th>\n",
       "      <td>85.2</td>\n",
       "      <td>7.1</td>\n",
       "      <td>7.7</td>\n",
       "      <td>14.8</td>\n",
       "    </tr>\n",
       "    <tr>\n",
       "      <th>France</th>\n",
       "      <td>86.1</td>\n",
       "      <td>5.3</td>\n",
       "      <td>8.6</td>\n",
       "      <td>13.9</td>\n",
       "    </tr>\n",
       "    <tr>\n",
       "      <th>Netherlands</th>\n",
       "      <td>86.4</td>\n",
       "      <td>4.6</td>\n",
       "      <td>9.0</td>\n",
       "      <td>13.6</td>\n",
       "    </tr>\n",
       "    <tr>\n",
       "      <th>United Kingdom</th>\n",
       "      <td>88.2</td>\n",
       "      <td>6.5</td>\n",
       "      <td>5.3</td>\n",
       "      <td>11.8</td>\n",
       "    </tr>\n",
       "  </tbody>\n",
       "</table>\n",
       "</div>"
      ],
      "text/plain": [
       "                 car  bus  rail  public_transport\n",
       "country                                          \n",
       "Germany         85.2  7.1   7.7              14.8\n",
       "France          86.1  5.3   8.6              13.9\n",
       "Netherlands     86.4  4.6   9.0              13.6\n",
       "United Kingdom  88.2  6.5   5.3              11.8"
      ]
     },
     "metadata": {},
     "output_type": "display_data"
    },
    {
     "name": "stdout",
     "output_type": "stream",
     "text": [
      "Data sorted by bus use:\n"
     ]
    },
    {
     "data": {
      "text/html": [
       "<div>\n",
       "<table border=\"1\" class=\"dataframe\">\n",
       "  <thead>\n",
       "    <tr style=\"text-align: right;\">\n",
       "      <th></th>\n",
       "      <th>car</th>\n",
       "      <th>bus</th>\n",
       "      <th>rail</th>\n",
       "      <th>public_transport</th>\n",
       "    </tr>\n",
       "    <tr>\n",
       "      <th>country</th>\n",
       "      <th></th>\n",
       "      <th></th>\n",
       "      <th></th>\n",
       "      <th></th>\n",
       "    </tr>\n",
       "  </thead>\n",
       "  <tbody>\n",
       "    <tr>\n",
       "      <th>Netherlands</th>\n",
       "      <td>86.4</td>\n",
       "      <td>4.6</td>\n",
       "      <td>9.0</td>\n",
       "      <td>13.6</td>\n",
       "    </tr>\n",
       "    <tr>\n",
       "      <th>France</th>\n",
       "      <td>86.1</td>\n",
       "      <td>5.3</td>\n",
       "      <td>8.6</td>\n",
       "      <td>13.9</td>\n",
       "    </tr>\n",
       "    <tr>\n",
       "      <th>United Kingdom</th>\n",
       "      <td>88.2</td>\n",
       "      <td>6.5</td>\n",
       "      <td>5.3</td>\n",
       "      <td>11.8</td>\n",
       "    </tr>\n",
       "    <tr>\n",
       "      <th>Germany</th>\n",
       "      <td>85.2</td>\n",
       "      <td>7.1</td>\n",
       "      <td>7.7</td>\n",
       "      <td>14.8</td>\n",
       "    </tr>\n",
       "  </tbody>\n",
       "</table>\n",
       "</div>"
      ],
      "text/plain": [
       "                 car  bus  rail  public_transport\n",
       "country                                          \n",
       "Netherlands     86.4  4.6   9.0              13.6\n",
       "France          86.1  5.3   8.6              13.9\n",
       "United Kingdom  88.2  6.5   5.3              11.8\n",
       "Germany         85.2  7.1   7.7              14.8"
      ]
     },
     "metadata": {},
     "output_type": "display_data"
    }
   ],
   "source": [
    "print('Data sorted by car use:')\n",
    "display(tran.sort_values(by='car'))\n",
    "print('Data sorted by bus use:')\n",
    "display(tran.sort_values(by='bus'))"
   ]
  },
  {
   "cell_type": "markdown",
   "metadata": {},
   "source": [
    "### Renaming columns\n",
    "Sometimes (quite often, really), the name of columns in a dataset are not very convenient (long, including spaces, etc.). For the example of the transportation data, the columns have convenient names, but let's change them for demonstration purposes. You can rename columns inplace, and you can change as many columns as you want. The old and new names are specified with a Python dictionary. A dictionary is a very useful data type. It is specified between braces `{}`, and links a word in the dictionary to a value. The value can be anything. You can then use the word in the dictionary as the index, just like you would look up a word in an paper dictionary."
   ]
  },
  {
   "cell_type": "code",
   "execution_count": 21,
   "metadata": {
    "collapsed": false
   },
   "outputs": [
    {
     "name": "stdout",
     "output_type": "stream",
     "text": [
      "20\n",
      "Delft\n"
     ]
    }
   ],
   "source": [
    "firstdictionary = {'goals': 20, 'city': 'Delft'}\n",
    "print(firstdictionary['goals'])\n",
    "print(firstdictionary['city'])"
   ]
  },
  {
   "cell_type": "markdown",
   "metadata": {},
   "source": [
    "Much more on Python dictionaries can be found, for example, [here](http://learnpythonthehardway.org/book/ex39.html). Let's continue with renaming two of the columns of the `tran` DataFrame:"
   ]
  },
  {
   "cell_type": "code",
   "execution_count": 22,
   "metadata": {
    "collapsed": false
   },
   "outputs": [
    {
     "data": {
      "text/html": [
       "<div>\n",
       "<table border=\"1\" class=\"dataframe\">\n",
       "  <thead>\n",
       "    <tr style=\"text-align: right;\">\n",
       "      <th></th>\n",
       "      <th>car</th>\n",
       "      <th>BUS</th>\n",
       "      <th>train</th>\n",
       "      <th>public_transport</th>\n",
       "    </tr>\n",
       "    <tr>\n",
       "      <th>country</th>\n",
       "      <th></th>\n",
       "      <th></th>\n",
       "      <th></th>\n",
       "      <th></th>\n",
       "    </tr>\n",
       "  </thead>\n",
       "  <tbody>\n",
       "    <tr>\n",
       "      <th>France</th>\n",
       "      <td>86.1</td>\n",
       "      <td>5.3</td>\n",
       "      <td>8.6</td>\n",
       "      <td>13.9</td>\n",
       "    </tr>\n",
       "    <tr>\n",
       "      <th>Germany</th>\n",
       "      <td>85.2</td>\n",
       "      <td>7.1</td>\n",
       "      <td>7.7</td>\n",
       "      <td>14.8</td>\n",
       "    </tr>\n",
       "    <tr>\n",
       "      <th>Netherlands</th>\n",
       "      <td>86.4</td>\n",
       "      <td>4.6</td>\n",
       "      <td>9.0</td>\n",
       "      <td>13.6</td>\n",
       "    </tr>\n",
       "    <tr>\n",
       "      <th>United Kingdom</th>\n",
       "      <td>88.2</td>\n",
       "      <td>6.5</td>\n",
       "      <td>5.3</td>\n",
       "      <td>11.8</td>\n",
       "    </tr>\n",
       "  </tbody>\n",
       "</table>\n",
       "</div>"
      ],
      "text/plain": [
       "                 car  BUS  train  public_transport\n",
       "country                                           \n",
       "France          86.1  5.3    8.6              13.9\n",
       "Germany         85.2  7.1    7.7              14.8\n",
       "Netherlands     86.4  4.6    9.0              13.6\n",
       "United Kingdom  88.2  6.5    5.3              11.8"
      ]
     },
     "metadata": {},
     "output_type": "display_data"
    }
   ],
   "source": [
    "tran.rename(columns={'bus': 'BUS', \n",
    "                     'rail': 'train'}, inplace=True)\n",
    "display(tran)"
   ]
  },
  {
   "cell_type": "markdown",
   "metadata": {},
   "source": [
    "The index column, with the countries, is now called `'country'`, but we can rename that too, for example to `'somewhere in Europe'`, with the following syntax"
   ]
  },
  {
   "cell_type": "code",
   "execution_count": 23,
   "metadata": {
    "collapsed": false
   },
   "outputs": [
    {
     "data": {
      "text/html": [
       "<div>\n",
       "<table border=\"1\" class=\"dataframe\">\n",
       "  <thead>\n",
       "    <tr style=\"text-align: right;\">\n",
       "      <th></th>\n",
       "      <th>car</th>\n",
       "      <th>BUS</th>\n",
       "      <th>train</th>\n",
       "      <th>public_transport</th>\n",
       "    </tr>\n",
       "    <tr>\n",
       "      <th>somewhere in Europe</th>\n",
       "      <th></th>\n",
       "      <th></th>\n",
       "      <th></th>\n",
       "      <th></th>\n",
       "    </tr>\n",
       "  </thead>\n",
       "  <tbody>\n",
       "    <tr>\n",
       "      <th>France</th>\n",
       "      <td>86.1</td>\n",
       "      <td>5.3</td>\n",
       "      <td>8.6</td>\n",
       "      <td>13.9</td>\n",
       "    </tr>\n",
       "    <tr>\n",
       "      <th>Germany</th>\n",
       "      <td>85.2</td>\n",
       "      <td>7.1</td>\n",
       "      <td>7.7</td>\n",
       "      <td>14.8</td>\n",
       "    </tr>\n",
       "    <tr>\n",
       "      <th>Netherlands</th>\n",
       "      <td>86.4</td>\n",
       "      <td>4.6</td>\n",
       "      <td>9.0</td>\n",
       "      <td>13.6</td>\n",
       "    </tr>\n",
       "    <tr>\n",
       "      <th>United Kingdom</th>\n",
       "      <td>88.2</td>\n",
       "      <td>6.5</td>\n",
       "      <td>5.3</td>\n",
       "      <td>11.8</td>\n",
       "    </tr>\n",
       "  </tbody>\n",
       "</table>\n",
       "</div>"
      ],
      "text/plain": [
       "                      car  BUS  train  public_transport\n",
       "somewhere in Europe                                    \n",
       "France               86.1  5.3    8.6              13.9\n",
       "Germany              85.2  7.1    7.7              14.8\n",
       "Netherlands          86.4  4.6    9.0              13.6\n",
       "United Kingdom       88.2  6.5    5.3              11.8"
      ]
     },
     "metadata": {},
     "output_type": "display_data"
    }
   ],
   "source": [
    "tran.index.names = ['somewhere in Europe']\n",
    "display(tran)"
   ]
  },
  {
   "cell_type": "markdown",
   "metadata": {},
   "source": [
    "### Exercise 2, Adding columns to a DataFrame\n",
    "The Rate of National Increase ($RNI$) describes the increase of a country's population in percent, excluding immigration and emigration. The $RNI$ is defined as\n",
    "\n",
    "$RNI = \\frac{\\text{birthrate} - \\text{deathrate}}{10} $ (%)\n",
    "\n",
    "where birthrate and deathrate are expressed per 1000 inhabitants (which they are in the data of Exercise 1), so in essence the $RNI$ is the increase per 100 inhabitants. Continue with the DataFrame of the previous execise and perform the following tasks:\n",
    "\n",
    "* Add a new column with the rate of national increase $RNI$.\n",
    "* Print the $RNI$ of the Netherlands. \n",
    "* Print the countries with the largest and smallest $RNI$.\n",
    "* Sort the DataFrame on RNI from high to low and plot the 20 countries with the highest $RNI$ in a bar chart. Label the vertical-axis and add a title."
   ]
  },
  {
   "cell_type": "code",
   "execution_count": 24,
   "metadata": {
    "collapsed": false
   },
   "outputs": [],
   "source": [
    "countries['RNI'] = (countries.Birthrate - countries.Deathrate) / 10"
   ]
  },
  {
   "cell_type": "code",
   "execution_count": 25,
   "metadata": {
    "collapsed": false
   },
   "outputs": [
    {
     "name": "stdout",
     "output_type": "stream",
     "text": [
      "the RNI of the Netherlands: 0.21\n"
     ]
    }
   ],
   "source": [
    "print('the RNI of the Netherlands:', countries.loc['Netherlands','RNI'])"
   ]
  },
  {
   "cell_type": "code",
   "execution_count": 26,
   "metadata": {
    "collapsed": false
   },
   "outputs": [
    {
     "name": "stdout",
     "output_type": "stream",
     "text": [
      " the country with the largest RNI: Mayotte\n",
      " the country with the smallest RNI: Curacao\n"
     ]
    }
   ],
   "source": [
    "print(' the country with the largest RNI:', countries.RNI.argmax())\n",
    "print(' the country with the smallest RNI:', countries.RNI.argmin())"
   ]
  },
  {
   "cell_type": "code",
   "execution_count": 27,
   "metadata": {
    "collapsed": false
   },
   "outputs": [
    {
     "data": {
      "text/plain": [
       "<matplotlib.axes._subplots.AxesSubplot at 0x2be266d9da0>"
      ]
     },
     "execution_count": 27,
     "metadata": {},
     "output_type": "execute_result"
    },
    {
     "data": {
      "image/png": "[encoded data removed]",
      "text/plain": [
       "<matplotlib.figure.Figure at 0x2be265f57f0>"
      ]
     },
     "metadata": {},
     "output_type": "display_data"
    }
   ],
   "source": [
    "countries.sort_values(by='RNI',ascending=False)['RNI'][0:19].plot(kind='bar')"
   ]
  },
  {
   "cell_type": "markdown",
   "metadata": {},
   "source": [
    "### Time series data\n",
    "In time series data, one of the columns represents dates, sometimes including times, together referred to as datetimes. `pandas` can be used to read csv files where one of the columns includes datetime data. You need to tell `pandas` which column contains datetime values and `pandas` will try to convert that column to datetime objects. Datetime objects are very convenient as specifics of the datetime object may be assessed with the dot syntax: `.year` returns the year, `.month` returns the month, etc.\n",
    "\n",
    "For example, consider the following data stored in the file `timeseries1.dat`\n",
    "\n",
    "`date, conc`  \n",
    "`2014-04-01, 0.19`   \n",
    "`2014-04-02, 0.23`   \n",
    "`2014-04-03, 0.32`   \n",
    "`2014-04-04, 0.29`   \n",
    "\n",
    "The file may be read with `read_csv` using the keyword `parse_dates=[0]` so that column number 0 is converted to datetimes"
   ]
  },
  {
   "cell_type": "code",
   "execution_count": 28,
   "metadata": {
    "collapsed": false
   },
   "outputs": [
    {
     "name": "stdout",
     "output_type": "stream",
     "text": [
      "        date  conc\n",
      "0 2014-04-01  0.19\n",
      "1 2014-04-02  0.23\n",
      "2 2014-04-03  0.32\n",
      "3 2014-04-04  0.29\n",
      "4 2014-04-05  0.32\n"
     ]
    }
   ],
   "source": [
    "data = read_csv('timeseries1.dat', parse_dates=[0], skipinitialspace=True)\n",
    "print(data)"
   ]
  },
  {
   "cell_type": "markdown",
   "metadata": {},
   "source": [
    "The rows of the DataFrame `data` are numbered, as we have not told `pandas` what column to use as the index of the rows. The first column of the DataFrame `data` has datetime values. We can access, for example, the year, month, or day with the dot syntax"
   ]
  },
  {
   "cell_type": "code",
   "execution_count": 29,
   "metadata": {
    "collapsed": false
   },
   "outputs": [
    {
     "name": "stdout",
     "output_type": "stream",
     "text": [
      "datetime of row 0: 2014-04-01 00:00:00\n",
      "year  of row 0: 2014\n",
      "month of row 0: 4\n",
      "day   of row 0: 1\n"
     ]
    }
   ],
   "source": [
    "print('datetime of row 0:', data.iloc[0, 0])\n",
    "print('year  of row 0:', data.iloc[0, 0].year)\n",
    "print('month of row 0:', data.iloc[0, 0].month)\n",
    "print('day   of row 0:', data.iloc[0, 0].day)"
   ]
  },
  {
   "cell_type": "markdown",
   "metadata": {},
   "source": [
    "Time series data may also contain the time in addition to the date. For example, the data of the file `timeseries2.dat`, shown below, contains the day and time. You can access the `hour` or `minutes`, but also the time of a row of the DataFrame with the `.time()` function.\n",
    "\n",
    "`date, conc`   \n",
    "`2014-04-01 12:00:00, 0.19`   \n",
    "`2014-04-01 13:00:00, 0.20`  \n",
    "`2014-04-01 14:00:00, 0.23`  \n",
    "`2014-04-01 15:00:00, 0.21` "
   ]
  },
  {
   "cell_type": "code",
   "execution_count": 30,
   "metadata": {
    "collapsed": false
   },
   "outputs": [
    {
     "name": "stdout",
     "output_type": "stream",
     "text": [
      "                 date  conc\n",
      "0 2014-04-01 12:00:00  0.19\n",
      "1 2014-04-01 13:00:00  0.20\n",
      "2 2014-04-01 14:00:00  0.23\n",
      "3 2014-04-01 15:00:00  0.21\n",
      "hour  of row 0: 12\n",
      "minute  of row 0: 0\n",
      "time of row 0: 12:00:00\n"
     ]
    }
   ],
   "source": [
    "data = read_csv('timeseries2.dat', parse_dates=[0], skipinitialspace=True)\n",
    "print(data)\n",
    "print('hour  of row 0:', data.iloc[0, 0].hour)\n",
    "print('minute  of row 0:', data.iloc[0, 0].minute)\n",
    "print('time of row 0:', data.iloc[0, 0].time())"
   ]
  },
  {
   "cell_type": "markdown",
   "metadata": {},
   "source": [
    "### Setting values based on a condition\n",
    "Values of a column may be changed based on a condition. For example, all values of the concentration above 0.2 may be set to 0.2 with the following syntax"
   ]
  },
  {
   "cell_type": "code",
   "execution_count": 31,
   "metadata": {
    "collapsed": false
   },
   "outputs": [
    {
     "name": "stdout",
     "output_type": "stream",
     "text": [
      "                 date  conc\n",
      "0 2014-04-01 12:00:00  0.19\n",
      "1 2014-04-01 13:00:00  0.20\n",
      "2 2014-04-01 14:00:00  0.20\n",
      "3 2014-04-01 15:00:00  0.20\n"
     ]
    }
   ],
   "source": [
    "data.loc[data.conc > 0.2, 'conc'] = 0.2\n",
    "print(data)"
   ]
  },
  {
   "cell_type": "markdown",
   "metadata": {},
   "source": [
    "### Exercise 3, Dominant wave heights\n",
    "The file `PR1_waves_triaxys_historical.csv` contains the wave height, period, and direction of waves over a timespan of 6 years. Perform the following tasks:\n",
    "\n",
    "* Load the data with `read_csv` (you probably need to open the file in an editor first, to find out what is in it).\n",
    "* Plot the maximum wave height vs. the number of the measurement (so not the date). Label the axes.\n",
    "* Determine the highest maximum wave height during the period of record, and print the highest wave height and the time and date that this occured to the screen."
   ]
  },
  {
   "cell_type": "code",
   "execution_count": 32,
   "metadata": {
    "collapsed": false
   },
   "outputs": [
    {
     "name": "stdout",
     "output_type": "stream",
     "text": [
      "the highest maximum wave height: 6.55\n",
      "time: 02:00:00\n",
      "data: 2012-08-24\n"
     ]
    },
    {
     "data": {
      "image/png": "[encoded data removed]",
      "text/plain": [
       "<matplotlib.figure.Figure at 0x2be26815048>"
      ]
     },
     "metadata": {},
     "output_type": "display_data"
    }
   ],
   "source": [
    "wave = read_csv('PR1_waves_triaxys_historical.csv',parse_dates=[0])\n",
    "wave['max_wave_height'].plot()\n",
    "plt.xlabel('number')\n",
    "plt.ylabel('maximum wave height')\n",
    "print('the highest maximum wave height:', wave.max_wave_height.max())\n",
    "print('time:', wave.iloc[wave.max_wave_height.argmax(),0].time())\n",
    "print('data:', wave.iloc[wave.max_wave_height.argmax(),0].date())"
   ]
  },
  {
   "cell_type": "markdown",
   "metadata": {},
   "source": [
    "### Exercise 4, Mean of time series for one year\n",
    "Use the file `PR1_waves_triaxys_historical.csv` from the previous exercise.\n",
    "\n",
    "Compute the mean maximum wave height for each year. Later on in this Notebook we learn convenient functions from `pandas` to do this, but here we are going to do this with a double loop. The outer loop loops through all the years of record. In the inner loop, loop through all the data and add all the maximum wave heights for the year under consideration while keeping track of the number of values for that year. When you are done looping through all the data, compute and print the year and the mean value for that year, then go to the next year."
   ]
  },
  {
   "cell_type": "code",
   "execution_count": 33,
   "metadata": {
    "collapsed": false
   },
   "outputs": [
    {
     "name": "stdout",
     "output_type": "stream",
     "text": [
      "2010 1.460196793\n",
      "2011 1.55610523815\n",
      "2012 1.60865292341\n",
      "2013 1.7412765699\n",
      "2014 1.7774452868\n",
      "2015 1.82273825182\n",
      "2016 1.62470970069\n"
     ]
    }
   ],
   "source": [
    "minyear = wave.iloc[0,0].year\n",
    "maxyear = wave.iloc[len(wave['Time'])-1,0].year\n",
    "limit = len(wave['Time'])\n",
    "count = 0\n",
    "for i in range(minyear,maxyear + 1):\n",
    "    sumwave = 0\n",
    "    timewave = 0\n",
    "    while (wave.iloc[count,0].year == i):\n",
    "        sumwave = sumwave + wave.loc[count,'max_wave_height']\n",
    "        count = count + 1\n",
    "        timewave = timewave + 1\n",
    "        if (count == limit):\n",
    "            break\n",
    "    meanwave = sumwave / timewave\n",
    "    print(i, meanwave)   "
   ]
  },
  {
   "cell_type": "markdown",
   "metadata": {},
   "source": [
    "### Date times as index\n",
    "The datetime of a dataset may also be used as the index of a DataFrame by specifying the column with the dates as the column to use for an index with the `index_col` keyword.  Note that datetimes are given as year-month-day, so `2012-04-01` means April 1, 2012."
   ]
  },
  {
   "cell_type": "code",
   "execution_count": 34,
   "metadata": {
    "collapsed": false
   },
   "outputs": [
    {
     "name": "stdout",
     "output_type": "stream",
     "text": [
      "             conc\n",
      "date             \n",
      "2014-04-01   0.19\n",
      "2014-04-02   0.23\n",
      "2014-04-03   0.32\n",
      "2014-04-04   0.29\n",
      "2014-04-05   0.32\n",
      "data on April 1:  conc    0.19\n",
      "Name: 2014-04-01 00:00:00, dtype: float64\n",
      "data on April 2:  conc    0.23\n",
      "Name: 2014-04-02 00:00:00, dtype: float64\n"
     ]
    }
   ],
   "source": [
    "data = read_csv('timeseries1.dat', parse_dates=[0], index_col=0)\n",
    "print(data)\n",
    "print('data on April 1:', data.loc['2014-04-01'])\n",
    "print('data on April 2:', data.loc['2014-04-02'])"
   ]
  },
  {
   "cell_type": "markdown",
   "metadata": {},
   "source": [
    "### Resampling\n",
    "DataFrames have a very powerful feature called resampling. Downsampling refers to going from high frequency to low frequency. For example, going from daily data to monthly data. Upsampling refers to going from low frequency to high frequency. For example going from monthly data to daily data. For both upsampling and downsampling, you need to tell `pandas` how to perform the resampling. Here we discuss downsampling, where we compute monthly totals from daily values. First we load the daily rainfall in Rotterdam in 2012 from the file `rotterdam_rainfall_2012.txt` and specify the dates as the index (this is the column labeled as `YYYYMMDD`). We resample the rain to monthly totals using the `resample` function. You have to tell the `resample` function to what frequency it needs to resample. Common ones are `'A'` for yearly, `'M'` for monthly, `'W'` for weekly, `'D'` for daily, and `'H'` for hourly, but there are many other ones (see  [here](http://pandas.pydata.org/pandas-docs/version/0.12.0/timeseries.html)). The keyword argument `kind` is used to tell `pandas` where to assign the computed value to. You can assign the computed value to the last day of the period, or the first day, or to the entire period (in this case the entire month). The latter is done by specifying `kind='period'`, which is what we will do here.  Finally, you need to specify how to resample. This is done by adding a `numpy` function at the end of the resample statement, like\n",
    "\n",
    "    dataframe.resample(...).npfunc()\n",
    "    \n",
    "where `npfunc` can be any `numpy` function like `mean` for the mean (that is the default), `sum` for the total, `min`, `max`, etc. Calculating the monthly totals and making a bar graph can now be done with `pandas` as follows. "
   ]
  },
  {
   "cell_type": "code",
   "execution_count": 35,
   "metadata": {
    "collapsed": false
   },
   "outputs": [
    {
     "name": "stdout",
     "output_type": "stream",
     "text": [
      "YYYYMMDD\n",
      "2012-01     83.0\n",
      "2012-02     24.3\n",
      "2012-03     21.9\n",
      "2012-04     57.6\n",
      "2012-05     76.5\n",
      "2012-06    119.0\n",
      "2012-07    121.6\n",
      "2012-08     93.4\n",
      "2012-09     52.0\n",
      "2012-10    132.6\n",
      "2012-11     63.3\n",
      "2012-12    149.5\n",
      "Freq: M, Name: RH, dtype: float64\n"
     ]
    },
    {
     "data": {
      "image/png": "[encoded data removed]",
      "text/plain": [
       "<matplotlib.figure.Figure at 0x2be2660bc50>"
      ]
     },
     "metadata": {},
     "output_type": "display_data"
    }
   ],
   "source": [
    "rain = read_csv('rotterdam_rainfall_2012.txt', skiprows=9,\n",
    "                parse_dates=['YYYYMMDD'], index_col='YYYYMMDD',\n",
    "                skipinitialspace=True)\n",
    "rain.RH[rain.RH < 0] = 0  # remove negative values\n",
    "rain.RH = rain.RH * 0.1 # convert to mm/day\n",
    "monthlyrain = rain.RH.resample('M', kind='period').sum()\n",
    "print(monthlyrain)\n",
    "monthlyrain.plot(kind='bar')\n",
    "plt.ylabel('mm/month')\n",
    "plt.xlabel('month');"
   ]
  },
  {
   "cell_type": "markdown",
   "metadata": {},
   "source": [
    "### Exercise 5, Plot time series\n",
    "Reload the wave data from Exercise 3 and 4, but now make sure that the date times can be used as an index. Rename the column with `max_wave_height` to `wmax` and print the `head` of the data (the first five lines). Next, plot the maximum wave height vs. time. The horizontal axis should now show dates. Add a label to the vertical axis. Note that there are some periods when data is missing."
   ]
  },
  {
   "cell_type": "code",
   "execution_count": 36,
   "metadata": {
    "collapsed": false
   },
   "outputs": [
    {
     "name": "stdout",
     "output_type": "stream",
     "text": [
      "                     dominant_wave_period  wmax  mean_wave_direction  \\\n",
      "Time                                                                   \n",
      "2010-07-13 11:00:00                   5.7  1.60                109.5   \n",
      "2010-07-13 12:00:00                   5.7  1.41                112.5   \n",
      "2010-07-13 13:00:00                   5.6  1.78                110.5   \n",
      "2010-07-13 14:00:00                   5.6  1.98                106.5   \n",
      "2010-07-13 15:00:00                   5.7  2.22                109.5   \n",
      "\n",
      "                     significant_wave_height  mean_wave_direction_spread  \n",
      "Time                                                                      \n",
      "2010-07-13 11:00:00                     1.02                        22.0  \n",
      "2010-07-13 12:00:00                     0.95                        24.0  \n",
      "2010-07-13 13:00:00                     0.98                        24.0  \n",
      "2010-07-13 14:00:00                     1.06                        23.0  \n",
      "2010-07-13 15:00:00                     1.09                        25.0  \n"
     ]
    },
    {
     "data": {
      "text/plain": [
       "<matplotlib.text.Text at 0x2be26b82630>"
      ]
     },
     "execution_count": 36,
     "metadata": {},
     "output_type": "execute_result"
    },
    {
     "data": {
      "image/png": "[encoded data removed]",
      "text/plain": [
       "<matplotlib.figure.Figure at 0x2be26e2b5f8>"
      ]
     },
     "metadata": {},
     "output_type": "display_data"
    }
   ],
   "source": [
    "wavet = read_csv('PR1_waves_triaxys_historical.csv',parse_dates=[0],index_col='Time')\n",
    "wavet.rename(columns={'max_wave_height': 'wmax'}, inplace=True)\n",
    "print(wavet.head(5))\n",
    "wavet['wmax'].plot()\n",
    "plt.xlabel('time')\n",
    "plt.ylabel('maximum wave height')"
   ]
  },
  {
   "cell_type": "markdown",
   "metadata": {},
   "source": [
    "### Exercise 6, Resample time series\n",
    "Compute the mean maximum wave height for each year using the `resample` function of `pandas`. \n",
    "Print the mean maxiumn wave height for all years to the screen and make sure they are the same as you computed in Exercise 4 (if you did it correctly, also note how much faster it is!). \n",
    "Make a bar graph of the mean maximum wave height for each year."
   ]
  },
  {
   "cell_type": "code",
   "execution_count": 37,
   "metadata": {
    "collapsed": false
   },
   "outputs": [
    {
     "name": "stdout",
     "output_type": "stream",
     "text": [
      "Time\n",
      "2010    1.460197\n",
      "2011    1.556105\n",
      "2012    1.608653\n",
      "2013    1.741277\n",
      "2014    1.777445\n",
      "2015    1.822738\n",
      "2016    1.624710\n",
      "Freq: A-DEC, Name: wmax, dtype: float64\n"
     ]
    },
    {
     "data": {
      "text/plain": [
       "<matplotlib.axes._subplots.AxesSubplot at 0x2be265e6c18>"
      ]
     },
     "execution_count": 37,
     "metadata": {},
     "output_type": "execute_result"
    },
    {
     "data": {
      "image/png": "[encoded data removed]",
      "text/plain": [
       "<matplotlib.figure.Figure at 0x2be265fd5f8>"
      ]
     },
     "metadata": {},
     "output_type": "display_data"
    }
   ],
   "source": [
    "wavetyear = wavet.wmax.resample('A', kind='period').mean()\n",
    "print(wavetyear)\n",
    "wavetyear.plot(kind='bar')"
   ]
  },
  {
   "cell_type": "code",
   "execution_count": null,
   "metadata": {
    "collapsed": true
   },
   "outputs": [],
   "source": []
  }
 ],
 "metadata": {
  "kernelspec": {
   "display_name": "Python 3",
   "language": "python",
   "name": "python3"
  },
  "language_info": {
   "codemirror_mode": {
    "name": "ipython",
    "version": 3
   },
   "file_extension": ".py",
   "mimetype": "text/x-python",
   "name": "python",
   "nbconvert_exporter": "python",
   "pygments_lexer": "ipython3",
   "version": "3.6.0"
  }
 },
 "nbformat": 4,
 "nbformat_minor": 0
}
