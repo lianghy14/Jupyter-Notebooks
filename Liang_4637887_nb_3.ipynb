{
 "cells": [
  {
   "cell_type": "markdown",
   "metadata": {},
   "source": [
    "<figure>\n",
    "  <IMG SRC=\"https://raw.githubusercontent.com/mbakker7/exploratory_computing_with_python/master/tudelft_logo.png\" WIDTH=250 ALIGN=\"right\">\n",
    "</figure>\n",
    "\n",
    "# Exploratory Computing with Python\n",
    "*Developed by Mark Bakker*"
   ]
  },
  {
   "cell_type": "markdown",
   "metadata": {},
   "source": [
    "## Notebook 3: `for` loops and `if/else` statements\n",
    "As we will again be using `numpy` and `matplotlib`, we start by importing them"
   ]
  },
  {
   "cell_type": "code",
   "execution_count": 1,
   "metadata": {
    "collapsed": false
   },
   "outputs": [],
   "source": [
    "import matplotlib.pyplot as plt\n",
    "import numpy as np\n",
    "%matplotlib inline"
   ]
  },
  {
   "cell_type": "markdown",
   "metadata": {},
   "source": [
    "### The `for` loop\n",
    "Loops are used to execute a command repeatedly. The syntax for a loop is as follows"
   ]
  },
  {
   "cell_type": "code",
   "execution_count": 2,
   "metadata": {
    "collapsed": false
   },
   "outputs": [
    {
     "name": "stdout",
     "output_type": "stream",
     "text": [
      "Hello world 0\n",
      "Hello world 1\n",
      "Hello world 2\n",
      "Hello world 3\n",
      "Hello world 4\n"
     ]
    }
   ],
   "source": [
    "for i in [0, 1, 2, 3, 4]:\n",
    "    print('Hello world', i)"
   ]
  },
  {
   "cell_type": "markdown",
   "metadata": {},
   "source": [
    "In the code above, the variable `i` loops through the five values in the list `[0, 1, 2, 3, 4]`. The first time through, the value of `i` is equal to `0`, the second time through, its value is `1`, and so on till the last time when its value is `4`. Note the syntax of a `for` loop. At the end of the `for` statement you need to put a colon (`:`) and after that you need to indent. It doesn't matter how many spaces you indent, as long as you keep using the same number of spaces for the entire `for` loop. Jupyter Notebooks automatically indent 4 spaces, which is considered good Python style, so use that. You can have as many lines of code inside the `for` loop as you want. To end the `for` loop, simply stop indenting. "
   ]
  },
  {
   "cell_type": "code",
   "execution_count": 3,
   "metadata": {
    "collapsed": false
   },
   "outputs": [
    {
     "name": "stdout",
     "output_type": "stream",
     "text": [
      "x, xsquare 0 0\n",
      "x, xsquare 1 1\n",
      "x, xsquare 2 4\n",
      "x, xsquare 3 9\n",
      "We are done with the loop\n"
     ]
    }
   ],
   "source": [
    "for x in [0, 1, 2, 3]: \n",
    "    xsquared = x ** 2\n",
    "    print('x, xsquare', x, xsquared)\n",
    "print('We are done with the loop')"
   ]
  },
  {
   "cell_type": "markdown",
   "metadata": {},
   "source": [
    "The list of values to loop through can be anything. It doesn't even have to be numbers. The for loop simply goes through all the values in the list one by one:"
   ]
  },
  {
   "cell_type": "code",
   "execution_count": 4,
   "metadata": {
    "collapsed": false
   },
   "outputs": [
    {
     "name": "stdout",
     "output_type": "stream",
     "text": [
      "the value of data is: 20\n",
      "the value of data is: mark\n",
      "the value of data is: 3.16227766017\n"
     ]
    }
   ],
   "source": [
    "for data in [20, 'mark', np.sqrt(10)]:\n",
    "    print('the value of data is:', data)"
   ]
  },
  {
   "cell_type": "markdown",
   "metadata": {},
   "source": [
    "It is, of course, rather inconvenient to have to specify a list to loop through when the list is very long. For example, if you want to do something 100 times, you don't want to type a list of values from 0 up to 100. But Python has a convenient function for that called `range`. You can loop through a `range` just like you can loop through a list. To loop 10 times, starting with the value `0`:"
   ]
  },
  {
   "cell_type": "code",
   "execution_count": 5,
   "metadata": {
    "collapsed": false
   },
   "outputs": [
    {
     "name": "stdout",
     "output_type": "stream",
     "text": [
      "the value of i is: 0\n",
      "the value of i is: 1\n",
      "the value of i is: 2\n",
      "the value of i is: 3\n",
      "the value of i is: 4\n",
      "the value of i is: 5\n",
      "the value of i is: 6\n",
      "the value of i is: 7\n",
      "the value of i is: 8\n",
      "the value of i is: 9\n"
     ]
    }
   ],
   "source": [
    "for i in range(10):\n",
    "    print('the value of i is:', i)"
   ]
  },
  {
   "cell_type": "markdown",
   "metadata": {},
   "source": [
    "A `range` can be converted to a list with the `list` function. You can call `range` with just one argument, in which case it will generate a range from 0 up to but not including the specified number. Note that `range(10)` produces 10 numbers from 0 up to and including 9. You can optionally give a starting value and a step, similar to the `np.arange` function."
   ]
  },
  {
   "cell_type": "code",
   "execution_count": 6,
   "metadata": {
    "collapsed": false
   },
   "outputs": [
    {
     "name": "stdout",
     "output_type": "stream",
     "text": [
      "a range with 10 values: [0, 1, 2, 3, 4, 5, 6, 7, 8, 9]\n",
      "a range from 10 till 20 [10, 11, 12, 13, 14, 15, 16, 17, 18, 19]\n",
      "a range from 10 till 20 with steps of 2: [10, 12, 14, 16, 18]\n"
     ]
    }
   ],
   "source": [
    "print('a range with 10 values:', list(range(10)))\n",
    "print('a range from 10 till 20', list(range(10, 20)))\n",
    "print('a range from 10 till 20 with steps of 2:', list(range(10, 20, 2)))"
   ]
  },
  {
   "cell_type": "markdown",
   "metadata": {},
   "source": [
    "A loop can be used to fill an array. Let's compute $y=\\cos(x)$ where $x$ is an array that varies from 0 to $2\\pi$ with 100 points. We already know, of course, that this can be done with the statement `y=cos(x)`. Sometimes this is not possible, however, and we need to fill an array with a loop. First we have to create the array `y` (for example filled with zeros using the `zeros_like` function) and then fill it with the correct values by looping through all values of `x`, so that the index goes from `0` to the length of the `x` array. The counter in the loop (the variable `i` in the code below) is used as the index of the array that is filled."
   ]
  },
  {
   "cell_type": "code",
   "execution_count": 7,
   "metadata": {
    "collapsed": false
   },
   "outputs": [
    {
     "data": {
      "image/png": "[encoded data removed]",
      "text/plain": [
       "<matplotlib.figure.Figure at 0x18b416677b8>"
      ]
     },
     "metadata": {},
     "output_type": "display_data"
    }
   ],
   "source": [
    "x = np.linspace(0, 2 * np.pi, 100)\n",
    "y = np.zeros_like(x)  # similar to zeros(shape(x))\n",
    "for i in range(len(x)):\n",
    "    y[i] = np.cos(x[i])\n",
    "plt.plot(x, y);"
   ]
  },
  {
   "cell_type": "markdown",
   "metadata": {},
   "source": [
    "Loops are very useful constructs in a programming script. Whenever you need to do a computation multiple times you should automatically think: *loop !*. "
   ]
  },
  {
   "cell_type": "markdown",
   "metadata": {},
   "source": [
    "### Exercise 1, First `for` foop\n",
    "Consider the following list of the ten largest Dutch cities by popolation: Amsterdam, Rotterdam, Den Haag, Utrecht, Eindhoven, Tilburg, Groningen, Almere, Breda, Nijmegen. The corresponding number of inhabitants are: 838338, 631155, 520704, 339946, 225020, 212943, 200487, 198823, 182424, 172322. Create a `for` loop that loops through all cities and prints: \n",
    "\n",
    "`The city CityName has xxx inhabitants.`\n",
    "\n",
    "Where you fill in the correct city and number of inhabitants for CityName and xxx, of course."
   ]
  },
  {
   "cell_type": "code",
   "execution_count": 8,
   "metadata": {
    "collapsed": false
   },
   "outputs": [
    {
     "name": "stdout",
     "output_type": "stream",
     "text": [
      "The city Amsterdam has 838338 inhabitants.\n",
      "The city Rotterdam has 631155 inhabitants.\n",
      "The city Den Haag has 520704 inhabitants.\n",
      "The city Utrecht has 339946 inhabitants.\n",
      "The city Eindhoven has 225020 inhabitants.\n",
      "The city Tilburg has 212943 inhabitants.\n",
      "The city Groningen has 200487 inhabitants.\n",
      "The city Almere has 198823 inhabitants.\n",
      "The city Breda has 182424 inhabitants.\n",
      "The city Nijmegen has 172322 inhabitants.\n"
     ]
    }
   ],
   "source": [
    "name = ['Amsterdam', 'Rotterdam', 'Den Haag', 'Utrecht', 'Eindhoven', 'Tilburg', 'Groningen', 'Almere', 'Breda', 'Nijmegen']\n",
    "number = [838338, 631155, 520704, 339946, 225020, 212943, 200487, 198823, 182424, 172322]\n",
    "for i in range(10):\n",
    "    print ('The city', name[i], 'has', number[i], 'inhabitants.')"
   ]
  },
  {
   "cell_type": "markdown",
   "metadata": {},
   "source": [
    "### The `if` statement\n",
    "An `if` statement lets you perform a task only when the outcome of the `if` statement is true. For example"
   ]
  },
  {
   "cell_type": "code",
   "execution_count": 9,
   "metadata": {
    "collapsed": false
   },
   "outputs": [
    {
     "name": "stdout",
     "output_type": "stream",
     "text": [
      "starting value: 4\n",
      "changing data in first if statement\n",
      "value after first if statement: 6\n",
      "value after second if statement: 6\n"
     ]
    }
   ],
   "source": [
    "data = 4\n",
    "print('starting value:', data)\n",
    "if data < 6:\n",
    "    print('changing data in first if statement')\n",
    "    data = data + 2\n",
    "print('value after first if statement:', data)\n",
    "if data > 20:\n",
    "    print('changing data in second if statement')\n",
    "    data = 200\n",
    "print('value after second if statement:', data)  # data hasn't changed as data is not larger than 20"
   ]
  },
  {
   "cell_type": "markdown",
   "metadata": {},
   "source": [
    "Notice the syntax of the `if` statement. It starts with `if` followed by a statement that is either `True` or `False` and then a colon. After the colon, you need to indent and the entire indented code block (in this case 2 lines of code) is executed if the statement is `True`. The `if` statement is completed when you stop indenting. Recall from Notebook 2 that you can use larger than `>`, larger than or equal '>=', equal `==`, smaller than or equal `<=`, smaller than `<` or not equal `!=`."
   ]
  },
  {
   "cell_type": "markdown",
   "metadata": {},
   "source": [
    "### The `if`/`else` statement\n",
    "The `if` statement may be followed by an `else` statement, which is executed when the condition after `if` is `False`. For example"
   ]
  },
  {
   "cell_type": "code",
   "execution_count": 10,
   "metadata": {
    "collapsed": false
   },
   "outputs": [
    {
     "name": "stdout",
     "output_type": "stream",
     "text": [
      "a is not smaller than 3\n"
     ]
    }
   ],
   "source": [
    "a = 4\n",
    "if a < 3:\n",
    "    print('a is smaller than 3')\n",
    "else:\n",
    "    print('a is not smaller than 3')"
   ]
  },
  {
   "cell_type": "markdown",
   "metadata": {},
   "source": [
    "You can even extend the `else` by adding one or more conditions with the `elif` command which is short for 'else if'"
   ]
  },
  {
   "cell_type": "code",
   "execution_count": 11,
   "metadata": {
    "collapsed": false
   },
   "outputs": [
    {
     "name": "stdout",
     "output_type": "stream",
     "text": [
      "a is equal to 4\n"
     ]
    }
   ],
   "source": [
    "a = 4\n",
    "if a < 4:\n",
    "    print('a is smaller than 4')\n",
    "elif a > 4:\n",
    "    print('a is larger than 4')\n",
    "else:\n",
    "    print('a is equal to 4')"
   ]
  },
  {
   "cell_type": "markdown",
   "metadata": {},
   "source": [
    "Rather than specifying the value of a variable at the top of the code cell, you can ask the user to enter a value and store that value in the variable using the `input` function. The `input` function returns a string that can be converted into a number with the `float` function. Run the code cell below multiple times to see if it works when the entered value is larger than 4, smaller than 4, or equal to 4."
   ]
  },
  {
   "cell_type": "code",
   "execution_count": 12,
   "metadata": {
    "collapsed": false
   },
   "outputs": [
    {
     "name": "stdout",
     "output_type": "stream",
     "text": [
      "Enter a value: 4\n",
      "the entered value is equal to 4\n"
     ]
    }
   ],
   "source": [
    "a = float(input('Enter a value: '))\n",
    "if a < 4:\n",
    "    print('the entered value is smaller than 4')\n",
    "elif a > 4:\n",
    "    print('the entered value is larger than 4')\n",
    "else:\n",
    "    print('the entered value is equal to 4')"
   ]
  },
  {
   "cell_type": "markdown",
   "metadata": {},
   "source": [
    "### Exercise 2, Combination of `for` loop with `if` statement\n",
    "Consider the following grades of students of an exam (run the code cell below):"
   ]
  },
  {
   "cell_type": "code",
   "execution_count": 13,
   "metadata": {
    "collapsed": false
   },
   "outputs": [
    {
     "name": "stdout",
     "output_type": "stream",
     "text": [
      "[6, 7, 7, 9, 5, 6, 8, 6, 4, 8, 5, 7, 4, 3, 7, 8, 3, 6, 4, 9, 7, 7, 6]\n"
     ]
    }
   ],
   "source": [
    "grades = [6, 7, 7, 9, 5, 6, 8, 6, 4, 8, 5, 7, 4, 3, 7, 8, 3, 6, 4, 9, 7, 7, 6]\n",
    "print(grades)"
   ]
  },
  {
   "cell_type": "markdown",
   "metadata": {},
   "source": [
    "Loop through all grades and calculate if the student has passed the exam ($\\ge$ 6) or not. Print to the screen: the number of the student in the list, the student's grade, and whether or not the student passed the exam."
   ]
  },
  {
   "cell_type": "code",
   "execution_count": 14,
   "metadata": {
    "collapsed": false
   },
   "outputs": [
    {
     "name": "stdout",
     "output_type": "stream",
     "text": [
      "1 6 Pass\n",
      "2 7 Pass\n",
      "3 7 Pass\n",
      "4 9 Pass\n",
      "5 5 Fail\n",
      "6 6 Pass\n",
      "7 8 Pass\n",
      "8 6 Pass\n",
      "9 4 Fail\n",
      "10 8 Pass\n",
      "11 5 Fail\n",
      "12 7 Pass\n",
      "13 4 Fail\n",
      "14 3 Fail\n",
      "15 7 Pass\n",
      "16 8 Pass\n",
      "17 3 Fail\n",
      "18 6 Pass\n",
      "19 4 Fail\n",
      "20 9 Pass\n",
      "21 7 Pass\n",
      "22 7 Pass\n",
      "23 6 Pass\n"
     ]
    }
   ],
   "source": [
    "for i in range(len(grades)):\n",
    "    if grades[i] < 6:\n",
    "        print (i + 1, grades[i], 'Fail')\n",
    "    else:\n",
    "        print (i + 1, grades[i], 'Pass')"
   ]
  },
  {
   "cell_type": "markdown",
   "metadata": {},
   "source": [
    "### Exercise 3, Load and loop through data\n",
    "Load the average rainfall in Paris and Rome (the files `rainfall_paris.txt` and `rainfall_rome.txt` from notebook 1).\n",
    "\n",
    "For each month, calculate whether the amount of rainfall was greatest in Paris or in Rome, or if the amounts were equal. For each month, print the name of the month (either January, February, March, etc., or Month 1, Month 2, Month 3, etc.) and whether rainfall in Paris was larger than in Rome or the other way around (or possibly equal). "
   ]
  },
  {
   "cell_type": "code",
   "execution_count": 15,
   "metadata": {
    "collapsed": false
   },
   "outputs": [
    {
     "name": "stdout",
     "output_type": "stream",
     "text": [
      "Month 1    Rainfall in Rome was lager than in Paris.\n",
      "Month 2    Rainfall in Rome was equal to that in Paris.\n",
      "Month 3    Rainfall in Paris was lager than in Rome.\n",
      "Month 4    Rainfall in Paris was lager than in Rome.\n",
      "Month 5    Rainfall in Rome was lager than in Paris.\n",
      "Month 6    Rainfall in Paris was lager than in Rome.\n",
      "Month 7    Rainfall in Paris was lager than in Rome.\n",
      "Month 8    Rainfall in Paris was lager than in Rome.\n",
      "Month 9    Rainfall in Rome was lager than in Paris.\n",
      "Month 10    Rainfall in Rome was lager than in Paris.\n",
      "Month 11    Rainfall in Rome was lager than in Paris.\n",
      "Month 12    Rainfall in Rome was lager than in Paris.\n"
     ]
    }
   ],
   "source": [
    "data1 = np.loadtxt('rainfall_paris.txt')\n",
    "data2 = np.loadtxt('rainfall_rome.txt')\n",
    "for i in range(len(data1)):\n",
    "    if (data1[i] > data2[i]):\n",
    "        print ('Month', i+1, '  ', 'Rainfall in Paris was lager than in Rome.')\n",
    "    elif (data1[i] < data2[i]):\n",
    "        print ('Month', i+1, '  ', 'Rainfall in Rome was lager than in Paris.')\n",
    "    else:\n",
    "        print ('Month', i+1, '  ', 'Rainfall in Rome was equal to that in Paris.')"
   ]
  },
  {
   "cell_type": "markdown",
   "metadata": {},
   "source": [
    "### Looping and summation\n",
    "One application of a loop is to compute the sum of all the values in an array. Consider, for example, the array `data` with 8 values. We will compute the sum of all values in `data`. We first define a variable `datasum` and assign it the value 0. Next, we loop through all the values in `data` and add the value to `datasum`:"
   ]
  },
  {
   "cell_type": "code",
   "execution_count": 16,
   "metadata": {
    "collapsed": false
   },
   "outputs": [
    {
     "name": "stdout",
     "output_type": "stream",
     "text": [
      "i, datasum:  0 1\n",
      "i, datasum:  1 4\n",
      "i, datasum:  2 6\n",
      "i, datasum:  3 11\n",
      "i, datasum:  4 18\n",
      "i, datasum:  5 21\n",
      "i, datasum:  6 25\n",
      "i, datasum:  7 27\n",
      "total sum of data:  27\n"
     ]
    }
   ],
   "source": [
    "data = np.array([1, 3, 2, 5, 7, 3, 4, 2])\n",
    "datasum = 0\n",
    "for i in range(len(data)):\n",
    "    datasum = datasum + data[i]\n",
    "    print('i, datasum: ', i, datasum)\n",
    "print('total sum of data: ', datasum)"
   ]
  },
  {
   "cell_type": "markdown",
   "metadata": {},
   "source": [
    "Note that the statement \n",
    "\n",
    "`datasum = datasum + data[i]` \n",
    "\n",
    "means that `data[i]` is added to the current value of `datasum` and that the result is assigned to `datasum`. There is actually a shorter syntax for the same statement: \n",
    "\n",
    "`datasum += data[i]`\n",
    "\n",
    "The `+=` command means: add whatever is on the right side of the `+=` sign to whatever is on the left side. You can use whichever syntax you are most comfortable with (although `+=` is considered to be better and in some cases more efficient)."
   ]
  },
  {
   "cell_type": "markdown",
   "metadata": {},
   "source": [
    "### Exercise 4, Running total\n",
    "The file `schiphol_flights.txt` contains the number of aircraft movements at Schiphol Airport of the past 15 years (2001 - 2015). Create a loop that prints to the screen:\n",
    "\n",
    "`At the end of YEAR, XXX flight movements have taken place since 2001`\n",
    "\n",
    "where you fill in the correct year and  the corresponding number of flight movements that have taken place at the end of that  year. Make sure XXX is computed by your code. When you are done, check whether you computed the running total correctly each year with the `cumsum` function of `numpy`."
   ]
  },
  {
   "cell_type": "code",
   "execution_count": 17,
   "metadata": {
    "collapsed": false
   },
   "outputs": [
    {
     "name": "stdout",
     "output_type": "stream",
     "text": [
      "At the end of 2001 , 432101.0 flight movements have taken place since 2001. \n",
      "At the end of 2002 , 849221.0 flight movements have taken place since 2001. \n",
      "At the end of 2003 , 1253021.0 flight movements have taken place since 2001. \n",
      "At the end of 2004 , 1671634.0 flight movements have taken place since 2001. \n",
      "At the end of 2005 , 2092370.0 flight movements have taken place since 2001. \n",
      "At the end of 2006 , 2532523.0 flight movements have taken place since 2001. \n",
      "At the end of 2007 , 2986884.0 flight movements have taken place since 2001. \n",
      "At the end of 2008 , 3433513.0 flight movements have taken place since 2001. \n",
      "At the end of 2009 , 3840488.0 flight movements have taken place since 2001. \n",
      "At the end of 2010 , 4242863.0 flight movements have taken place since 2001. \n",
      "At the end of 2011 , 4679945.0 flight movements have taken place since 2001. \n",
      "At the end of 2012 , 5103352.0 flight movements have taken place since 2001. \n",
      "At the end of 2013 , 5528917.0 flight movements have taken place since 2001. \n",
      "At the end of 2014 , 5967213.0 flight movements have taken place since 2001. \n",
      "At the end of 2015 , 6417892.0 flight movements have taken place since 2001. \n"
     ]
    },
    {
     "data": {
      "text/plain": [
       "array([  432101.,   849221.,  1253021.,  1671634.,  2092370.,  2532523.,\n",
       "        2986884.,  3433513.,  3840488.,  4242863.,  4679945.,  5103352.,\n",
       "        5528917.,  5967213.,  6417892.])"
      ]
     },
     "execution_count": 17,
     "metadata": {},
     "output_type": "execute_result"
    }
   ],
   "source": [
    "data = np.loadtxt('schiphol_flights.txt')\n",
    "n = range(2001,2016)\n",
    "dsum = 0\n",
    "for i in range(len(n)):\n",
    "    dsum += data[i]\n",
    "    print ('At the end of', n[i],',',dsum, 'flight movements have taken place since 2001. ')\n",
    "np.cumsum(data)"
   ]
  },
  {
   "cell_type": "markdown",
   "metadata": {},
   "source": [
    "### Finding the maximum value the hard way\n",
    "Next, let's find the maximum in the array `data` and the index of the maximum value. For illustration purposes, we will do this the hard way by using a loop and an if statement. First, we create a variable `maxvalue` that contains the maximum value and set it initially to a very small number, and a variable `maxindex` that is the index of the maximum value and is initially set to `None`. Then we loop through all values in `data` and update the `maxvalue` and `maxindex` everytime we find a larger value than the current `maxvalue`"
   ]
  },
  {
   "cell_type": "code",
   "execution_count": 18,
   "metadata": {
    "collapsed": false
   },
   "outputs": [
    {
     "name": "stdout",
     "output_type": "stream",
     "text": [
      "the maximum value is  454361.0\n",
      "the index of the maximum value is  6\n"
     ]
    }
   ],
   "source": [
    "maxvalue = -1e8\n",
    "maxindex = None\n",
    "for i in range(len(data)):\n",
    "    if data[i] > maxvalue:\n",
    "        maxvalue = data[i]\n",
    "        maxindex = i\n",
    "print('the maximum value is ', maxvalue)\n",
    "print('the index of the maximum value is ', maxindex)"
   ]
  },
  {
   "cell_type": "markdown",
   "metadata": {},
   "source": [
    "For this example, it is easy to check whether these numbers are correct by looking at the `data` array. But there are, of course, functions available (in the `numpy` package) to find the maximum value and the index of the maximum value: `np.max` returns the maximum value of an array, and `np.argmax` returns the index of the maximum of the array. There are similar functions for the mimimum value."
   ]
  },
  {
   "cell_type": "code",
   "execution_count": 19,
   "metadata": {
    "collapsed": false
   },
   "outputs": [
    {
     "name": "stdout",
     "output_type": "stream",
     "text": [
      "the maximum value is  454361.0\n",
      "the index of the maximum value is  6\n"
     ]
    }
   ],
   "source": [
    "print('the maximum value is ', np.max(data))\n",
    "print('the index of the maximum value is ', np.argmax(data))"
   ]
  },
  {
   "cell_type": "markdown",
   "metadata": {},
   "source": [
    "### Exercise 5, Minimum and maximum temperature\n",
    "The file `KNMI_temp.txt` contains the average daily temperature of the year 2015 in Rotterdam. The temperature is given in 0.1 degrees Celcius. The file contains 3 columns: the location, the date, and the temperature. \n",
    "Load the data. Plot the temperature in degrees Celcius to see what it looks like. Write a `for` loop to find the highest and lowest temperature in the data set and the days at which these values occur, and print the highest and lowest temperature (in degrees Celcius) and the day at which they occur to the screen. \n",
    "Finally, use the `min`, `max`, `argmin`, and `argmax` functions of `numpy` to check your answer."
   ]
  },
  {
   "cell_type": "code",
   "execution_count": 20,
   "metadata": {
    "collapsed": false
   },
   "outputs": [
    {
     "data": {
      "image/png": "[encoded data removed]",
      "text/plain": [
       "<matplotlib.figure.Figure at 0x18b41aa30b8>"
      ]
     },
     "metadata": {},
     "output_type": "display_data"
    },
    {
     "name": "stdout",
     "output_type": "stream",
     "text": [
      "the highest temperature is 270.0 on 20150701\n",
      "the lowest temperature is -24.0 on 20150123\n"
     ]
    }
   ],
   "source": [
    "data = np.loadtxt('KNMI_temp.txt', delimiter = ',')\n",
    "plt.bar(left = range(len(data[:,0])), height = data[:,2], color='green')\n",
    "plt.show()\n",
    "\n",
    "maxvalue = -1e8\n",
    "maxindex = None\n",
    "for i in range(len(data[:,0])):\n",
    "    if data[i,2] > maxvalue:\n",
    "        maxvalue = data[i,2]\n",
    "        maxindex = i\n",
    "minvalue = 1e8\n",
    "minindex = None\n",
    "for i in range(len(data[:,0])):\n",
    "    if data[i,2] < minvalue:\n",
    "        minvalue = data[i,2]\n",
    "        minindex = i\n",
    "print('the highest temperature is', maxvalue, 'on', int(data[maxindex,1]))\n",
    "print('the lowest temperature is', minvalue, 'on', int(data[minindex,1]))"
   ]
  },
  {
   "cell_type": "code",
   "execution_count": 21,
   "metadata": {
    "collapsed": false
   },
   "outputs": [
    {
     "name": "stdout",
     "output_type": "stream",
     "text": [
      "the highest temperature is 270.0 on 20150701\n",
      "the lowest temperature is -24.0 on 20150123\n"
     ]
    }
   ],
   "source": [
    "print('the highest temperature is', np.max(data[:,2]), 'on', int(data[np.argmax(data[:,2]),1]))\n",
    "print('the lowest temperature is', np.min(data[:,2]), 'on', int(data[np.argmin(data[:,2]),1]))"
   ]
  },
  {
   "cell_type": "markdown",
   "metadata": {},
   "source": [
    "### Nested loops\n",
    "It is also possible to have loops inside loops. These are called nested loops. For example, consider the array `data` with 3 rows and 4 columns shown below. We want to compute the sum of the values in each row and we are going to do this using a double loop. First, we make an array of zeros called `rowtotal` of length 3 (one value for each row of the array `data`). Next, we loop through each row. For each row inside the loop, we start another loop that goes through all the columns and adds the value to the array rowtotal for that row."
   ]
  },
  {
   "cell_type": "code",
   "execution_count": 22,
   "metadata": {
    "collapsed": false
   },
   "outputs": [
    {
     "name": "stdout",
     "output_type": "stream",
     "text": [
      "[ 11.  22.  18.]\n"
     ]
    }
   ],
   "source": [
    "data = np.array([[1, 2, 3, 5],\n",
    "                 [4, 8, 6, 4],\n",
    "                 [3, 5, 4, 6]])\n",
    "rowtotal = np.zeros(3)\n",
    "for irow in range(3):\n",
    "    for jcol in range(4):\n",
    "        rowtotal[irow] += data[irow, jcol]\n",
    "        #longer alternative:\n",
    "        #rowtotal[irow] = rowtotal[irow] + data[irow,jcol]\n",
    "print(rowtotal)"
   ]
  },
  {
   "cell_type": "markdown",
   "metadata": {},
   "source": [
    "After running the code above, first make sure that the answer is correct. Next, note that it is important to set the values of `rowtotal` to 0 before starting the loops, as we add to these values to compute the sum of each row. In the code, we use two loops, so we indented twice. "
   ]
  },
  {
   "cell_type": "markdown",
   "metadata": {},
   "source": [
    "### `break` and `while`\n",
    "A common task is to find the position of a value in a sorted table (e.g., a list or array). \n",
    "For example, determine between which two numbers the number 6 falls in the ordered sequence `[1, 4, 5, 8, 9]`. \n",
    "I know, it is between `5` and `8`, but what if the list is long? Then you really want a routine to do that.\n",
    "To find the position in the list, we need to loop through the list and break out of the loop once we have found the position. For this, Python has the command `break`."
   ]
  },
  {
   "cell_type": "code",
   "execution_count": 23,
   "metadata": {
    "collapsed": false
   },
   "outputs": [
    {
     "name": "stdout",
     "output_type": "stream",
     "text": [
      "a is between 5 and 8\n"
     ]
    }
   ],
   "source": [
    "x = [1, 4, 5, 8, 9]\n",
    "a = 6\n",
    "for i in range(len(x)):\n",
    "    if a < x[i]:\n",
    "        break\n",
    "print('a is between', x[i-1], 'and', x[i])"
   ]
  },
  {
   "cell_type": "markdown",
   "metadata": {},
   "source": [
    "There is another way of coding this using a `while` loop. Let's first look at the `while` loop for the same code as above"
   ]
  },
  {
   "cell_type": "code",
   "execution_count": 24,
   "metadata": {
    "collapsed": false
   },
   "outputs": [
    {
     "name": "stdout",
     "output_type": "stream",
     "text": [
      "a is between 5 and 8\n"
     ]
    }
   ],
   "source": [
    "x = [1, 4, 5, 8, 9]\n",
    "a = 6\n",
    "i = 0\n",
    "while a >= x[i]:\n",
    "    i = i + 1\n",
    "print('a is between', x[i-1], 'and', x[i])"
   ]
  },
  {
   "cell_type": "markdown",
   "metadata": {},
   "source": [
    "In the `while` loop, the comparison is done at the beginning of the loop, while the counter (in this case `i`) is updated inside the loop. Either a loop with a `break` or a `while` loop with a counter works fine, but `while` loops may be tricky in some cases, as they can result in infinite loops when you have an error in your code. Once you are in an infinite loop (one that never stops), click on the [Kernel] menu item at the top of the window and select [Restart]. This will end your Python session and start a new one. When you print something to the screen in your `while` loop, it may not be possible to break out of the loop and you may need to end your Jupyter session (and potentially lose some of your work). "
   ]
  },
  {
   "cell_type": "markdown",
   "metadata": {},
   "source": [
    "### Strings\n",
    "Strings are a very versatile data type, and we can easily spend an entire Notebook on strings. \n",
    "We will only make limited use of strings, so we keep treatment here to a bare minimum. We already used strings to specify names along axes of a graph, or in the legend of a graph. Strings are like tuples in that every character in a string has an index. Each character or range of characters can be accessed, just like for tuples, but they cannot be changed. A string also has a length. "
   ]
  },
  {
   "cell_type": "code",
   "execution_count": 25,
   "metadata": {
    "collapsed": false
   },
   "outputs": [
    {
     "name": "stdout",
     "output_type": "stream",
     "text": [
      "21\n",
      "G\n",
      "Goodmorning \n"
     ]
    }
   ],
   "source": [
    "text1 = 'Goodmorning everybody'\n",
    "print(len(text1))\n",
    "print(text1[0])\n",
    "print(text1[0:12])"
   ]
  },
  {
   "cell_type": "markdown",
   "metadata": {},
   "source": [
    "When you add two strings, they are put back to back, just like lists. When you want to combine text with a variable, you first need to change the variable to a string and then add the two strings"
   ]
  },
  {
   "cell_type": "code",
   "execution_count": 26,
   "metadata": {
    "collapsed": false
   },
   "outputs": [
    {
     "name": "stdout",
     "output_type": "stream",
     "text": [
      "Goodmorning everybody in the class\n",
      "The magic number is 7\n"
     ]
    }
   ],
   "source": [
    "newtext = text1 + ' in the class'  # Adding two srings\n",
    "print(newtext)\n",
    "a = 7\n",
    "mes = 'The magic number is ' + str(a)  # Combining strings and numbers\n",
    "print(mes)"
   ]
  },
  {
   "cell_type": "markdown",
   "metadata": {},
   "source": [
    "Comparisons work on strings just like they work on numbers. The comparison starts with the first character in a string and only goes to the next character when the first characters of both strings are equal. The letter 'a' is smaller than 'b', 'b' is smaller than 'c', etc. But be careful, in the order of things, the upper case characters are smaller than all lower case characters! So 'A' is smaller than 'a', but also than 'm' or any other lower case character. Make sure you understand the following statements"
   ]
  },
  {
   "cell_type": "code",
   "execution_count": 27,
   "metadata": {
    "collapsed": false,
    "scrolled": true
   },
   "outputs": [
    {
     "name": "stdout",
     "output_type": "stream",
     "text": [
      "True\n",
      "True\n",
      "False\n",
      "True\n",
      "True\n"
     ]
    }
   ],
   "source": [
    "print('delft' < 'eindhoven')  # True as 'd' is smaller than 'e'\n",
    "print('dalft' < 'delft')      # True as 'a' is smaller than 'e'\n",
    "print('delft' == 'Delft')     # False as lower and upper case are not equal\n",
    "print('Delft' < 'delft')      # True as 'D' is smaller than 'd'\n",
    "print('delft' > 'Eindhoven')  # Also True, as 'd' is larger than 'E' or any other upper case character"
   ]
  },
  {
   "cell_type": "markdown",
   "metadata": {},
   "source": [
    "Strings can be converted to upper or lower case"
   ]
  },
  {
   "cell_type": "code",
   "execution_count": 28,
   "metadata": {
    "collapsed": false
   },
   "outputs": [
    {
     "name": "stdout",
     "output_type": "stream",
     "text": [
      "TU Delft\n",
      "tu delft\n",
      "TU DELFT\n"
     ]
    }
   ],
   "source": [
    "TU = 'TU Delft'\n",
    "print(TU)\n",
    "print(TU.lower())\n",
    "print(TU.upper())"
   ]
  },
  {
   "cell_type": "markdown",
   "metadata": {},
   "source": [
    "A string conisting of multiple words can be converted into a list of words using `split`"
   ]
  },
  {
   "cell_type": "code",
   "execution_count": 29,
   "metadata": {
    "collapsed": false
   },
   "outputs": [
    {
     "name": "stdout",
     "output_type": "stream",
     "text": [
      "This is the sentence:\n",
      "This is a sentence containing a number of words\n",
      "This is the split sentence:\n",
      "['This', 'is', 'a', 'sentence', 'containing', 'a', 'number', 'of', 'words']\n",
      "All words may be printed seperately:\n",
      "This\n",
      "is\n",
      "a\n",
      "sentence\n",
      "containing\n",
      "a\n",
      "number\n",
      "of\n",
      "words\n"
     ]
    }
   ],
   "source": [
    "sentence = 'This is a sentence containing a number of words'\n",
    "print('This is the sentence:')\n",
    "print(sentence)\n",
    "wordlist = sentence.split()\n",
    "print('This is the split sentence:')\n",
    "print(wordlist)\n",
    "print('All words may be printed seperately:')\n",
    "for word in wordlist:\n",
    "    print(word)"
   ]
  },
  {
   "cell_type": "markdown",
   "metadata": {},
   "source": [
    "### Exercise 6, DNA investigation\n",
    "\n",
    "Some DNA is found at a murder scene and stored in the variable `DNA_FOUND`.  All DNA  data of the suspects is stored in the file `DNA.txt`. The killer will have less than 6 mismatches. Use a nested loop to find the killer (or killers)."
   ]
  },
  {
   "cell_type": "code",
   "execution_count": 30,
   "metadata": {
    "collapsed": true
   },
   "outputs": [],
   "source": [
    "DNA_FOUND='ACGTCGATTTTTTTGACGTAGCCTAGTGACGTAGAGAGAGATGACGTAGCCCCCGTAGCAGTAGCAGTAGTCAGTAGCAAAGTAGCAGTAG'"
   ]
  },
  {
   "cell_type": "code",
   "execution_count": 31,
   "metadata": {
    "collapsed": false
   },
   "outputs": [
    {
     "name": "stdout",
     "output_type": "stream",
     "text": [
      "Killer is Gerard_M\n"
     ]
    }
   ],
   "source": [
    "data = np.genfromtxt('DNA.txt', dtype= str)\n",
    "for j in range(len(data[:,0])):\n",
    "    DNA = data[j,0]\n",
    "    mistake = 0\n",
    "    for i in range(len(DNA)):\n",
    "        if DNA_FOUND[i] != DNA[i]:\n",
    "            mistake += 1\n",
    "    if mistake < 6:\n",
    "        print ('Killer is',data[j,1])"
   ]
  },
  {
   "cell_type": "markdown",
   "metadata": {},
   "source": [
    "### Exercise 7, <a name=\"back7\"></a>Oil data\n",
    "The file `oil_price_monthly.dat` contains the monthly oil price since 1985. The file contains three columns: year, month, and price in Euros (from the european bank website). Make a plot of the oil price. Determine the month and year that started the largest monthly increase in the oil price and the month and year that started the largest monthly decrease in the oil price. Print to the screen both the largest increase and the largest decrease (in Euros) in the oil price and the corresponding month and day. It is up to you whether you want to use a loop or not. On the graph, plot a red dot for the month that was followed by the largest monthly increase in the oil price and a green dot for the month that was followed by the largest monthly decrease in the oil price. "
   ]
  },
  {
   "cell_type": "code",
   "execution_count": 32,
   "metadata": {
    "collapsed": false
   },
   "outputs": [
    {
     "name": "stdout",
     "output_type": "stream",
     "text": [
      "the largest monthly increase: 10.2565 ( 2008 4 ) to ( 2008 5 )\n",
      "the largest monthly decrease: -14.7942 ( 2008 9 ) to ( 2008 10 )\n"
     ]
    },
    {
     "data": {
      "text/plain": [
       "[<matplotlib.lines.Line2D at 0x18b422d8550>]"
      ]
     },
     "execution_count": 32,
     "metadata": {},
     "output_type": "execute_result"
    },
    {
     "data": {
      "image/png": "[encoded data removed]",
      "text/plain": [
       "<matplotlib.figure.Figure at 0x18b41c7df60>"
      ]
     },
     "metadata": {},
     "output_type": "display_data"
    }
   ],
   "source": [
    "data = np.loadtxt('oil_price_monthly.dat', delimiter = ',')\n",
    "plt.plot(data[:,2])\n",
    "\n",
    "maxvalue = -1e8\n",
    "maxindex = None\n",
    "minvalue = 1e8\n",
    "minindex = None\n",
    "for i in range(len(data[:,0])-1):\n",
    "    if (data[i+1,2] - data[i,2]) > maxvalue:\n",
    "        maxvalue = data[i+1,2] - data[i,2]\n",
    "        maxindex = i\n",
    "    if (data[i+1,2] - data[i,2]) < minvalue:\n",
    "        minvalue = data[i+1,2] - data[i,2]\n",
    "        minindex = i\n",
    "print('the largest monthly increase:', maxvalue, '(', int(data[maxindex,0]), int(data[maxindex,1]), ') to (',int(data[maxindex+1,0]), int(data[maxindex+1,1]), ')')\n",
    "print('the largest monthly decrease:', minvalue, '(', int(data[minindex,0]), int(data[minindex,1]), ') to (',int(data[minindex+1,0]), int(data[minindex+1,1]), ')')\n",
    "\n",
    "plt.plot(maxindex + 1, data[maxindex + 1,2], 'rs')\n",
    "plt.plot(minindex + 1, data[minindex + 1,2], 'gs')"
   ]
  },
  {
   "cell_type": "code",
   "execution_count": null,
   "metadata": {
    "collapsed": true
   },
   "outputs": [],
   "source": []
  }
 ],
 "metadata": {
  "kernelspec": {
   "display_name": "Python 3",
   "language": "python",
   "name": "python3"
  },
  "language_info": {
   "codemirror_mode": {
    "name": "ipython",
    "version": 3
   },
   "file_extension": ".py",
   "mimetype": "text/x-python",
   "name": "python",
   "nbconvert_exporter": "python",
   "pygments_lexer": "ipython3",
   "version": "3.6.0"
  }
 },
 "nbformat": 4,
 "nbformat_minor": 0
}
