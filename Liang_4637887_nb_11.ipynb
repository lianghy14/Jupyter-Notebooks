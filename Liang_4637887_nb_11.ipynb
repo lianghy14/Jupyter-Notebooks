{
 "cells": [
  {
   "cell_type": "markdown",
   "metadata": {},
   "source": [
    "<figure>\n",
    "  <IMG SRC=\"https://raw.githubusercontent.com/mbakker7/exploratory_computing_with_python/master/tudelft_logo.png\" WIDTH=250 ALIGN=\"right\">\n",
    "</figure>\n",
    "\n",
    "# Exploratory Computing with Python\n",
    "*Developed by Mark Bakker*"
   ]
  },
  {
   "cell_type": "markdown",
   "metadata": {},
   "source": [
    "## Notebook 11: Regression analysis II"
   ]
  },
  {
   "cell_type": "code",
   "execution_count": 1,
   "metadata": {
    "collapsed": true
   },
   "outputs": [],
   "source": [
    "import numpy as np\n",
    "import matplotlib.pyplot as plt\n",
    "%matplotlib inline"
   ]
  },
  {
   "cell_type": "markdown",
   "metadata": {},
   "source": [
    "In this Notebook, we learn how to estimate the confidence intervals of estimated parameters, we learn how to fit a straight line through a set of data with outliers, and we learn how to apply the `lmfit` package."
   ]
  },
  {
   "cell_type": "markdown",
   "metadata": {},
   "source": [
    "### How accurate are our parameter estimates?\n",
    "\n",
    "In the first Notebook on regression analysis, we fitted a number of models to several different data sets. The models were fitted by searching for the parameters that gave the best fit, where the best fit was defined as the smallest possible value of the sum of the squares of the errors (the residuals). The optimal parameters are estimates of the true underlying parameters. Since the optimal parameters are estimates, not only their optimal values should be reported but also their (estimated) confidence intervals. "
   ]
  },
  {
   "cell_type": "markdown",
   "metadata": {},
   "source": [
    "The confidence intervals of the parameters of a model can be estimated if we can estimate the standard deviation of the estimates of the parameters and if a few other statistical conditions are met, especially that the errors are normally distributed and independent (the error at one point does not depend on the error at another point), and that \n",
    "the number of observations $N$ is sufficiently large. A common value for large is 40 or more. "
   ]
  },
  {
   "cell_type": "markdown",
   "metadata": {},
   "source": [
    "### Confidence intervals of parameters of a straight line\n",
    "The standard deviations of the parameters of a straight line can be computed as follows. Consider a data set with $N$ values $x_i$ and corresponding values of $y_i$. A straight line is fit through the data with slope $a$ and intercept $b$. \n",
    "\n",
    "$$y = ax + b$$\n",
    "\n",
    "Estimates of the standard deviations of the parameters may be computed as follows:\n",
    "\n",
    "$$s_a = \\sqrt{\\frac{\\sum(y_i-\\hat{y}_i)^2}{N-2}} \\left/ \\sqrt{\\sum{(x_i-\\bar{x})^2}} \\right.$$\n",
    "\n",
    "$$s_b = s_a \\sqrt{\\frac{1}{N}\\sum{x_i^2}}$$\n",
    "\n",
    "where $\\hat{y}_i$ are the fitted values. The 95% confidence interval may now be estimated as plus or minus twice the estimated standard deviation. "
   ]
  },
  {
   "cell_type": "markdown",
   "metadata": {},
   "source": [
    "### Exercise 1. Confidence intervals of the parameters of a straight line using estimated standard deviations\n",
    "Load the $x,y$ values of 20 data points from the file `xydatafit.dat`. Fit a straight line through the data by minimizing the sum of squared errors (using the `linregress` function of `scipy.stats`). Estimate the 95% confidence intervals of the slope and intercept of the straight line using the estimates of the standard deviations of the parameters as given above. "
   ]
  },
  {
   "cell_type": "code",
   "execution_count": 2,
   "metadata": {
    "collapsed": false
   },
   "outputs": [
    {
     "name": "stdout",
     "output_type": "stream",
     "text": [
      "a: 6.07744370031 +/- 1.28365944177\n",
      "b: 42.5824573588 +/- 15.0161878657\n"
     ]
    },
    {
     "data": {
      "image/png": "[encoded data removed]",
      "text/plain": [
       "<matplotlib.figure.Figure at 0x1fae3fcb940>"
      ]
     },
     "metadata": {},
     "output_type": "display_data"
    }
   ],
   "source": [
    "[x,y] = np.loadtxt('xydatafit.dat')\n",
    "from scipy.stats import linregress \n",
    "result = linregress(x,y)\n",
    "a = result[0]\n",
    "b = result[1]\n",
    "y1 = a * x + b\n",
    "sa = ((np.sum((y - y1) ** 2) / 18) ** 0.5) / ((np.sum((x - np.average(x)) ** 2)) ** 0.5)\n",
    "sb = sa * (1 / 20 * np.sum(x ** 2)) ** 0.5\n",
    "plt.plot(x,y,'.',x,y1)\n",
    "print('a:', a, '+/-',2 * sa)\n",
    "print('b:', b, '+/-',2 * sb)"
   ]
  },
  {
   "cell_type": "markdown",
   "metadata": {},
   "source": [
    "### The bootstrap method\n",
    "\n",
    "What now if we don't have errors that are normally distributed and independent? Or if we have only a few data points (like above, where we only have 20)? Or if we don't have equations to compute the standard deviations of the parameters, for example when we want to fit something else than a straight line? One option is to use a method called bootstrapping. \n",
    "\n",
    "Bootstrapping is a powerful statistical technique to estimate confidence intervals. It is especially useful when the sample size that we are working with is small. Bootstrap techniques work quite well with samples that have less than 40 elements while assuming nothing about the distribution of the data (this information is taken from [here](http://statistics.about.com/od/Applications/a/Example-Of-Bootstrapping.htm)).\n",
    "\n",
    "A great advantage of bootstrap is its simplicity. It is a straightforward way to derive confidence intervals for estimators of complicated parameters of the distribution. Although for most problems it is impossible to know the true confidence intervals, bootstrap is asymptotically more accurate than the standard intervals obtained using sample variance and assumptions of normality.\n",
    "Although bootstrapping is (under some conditions) asymptotically consistent, it does not provide general finite-sample guarantees. There are serveral underlying assumptions for bootstrapping to be valid, including that the errors are independent (this information is taken from <a href=\"https://en.wikipedia.org/wiki/Bootstrapping_(statistics)\">here</a>."
   ]
  },
  {
   "cell_type": "markdown",
   "metadata": {},
   "source": [
    "There are many different flavors of bootstrapping. In this Notebook, we will make use of *resampling residuals* to estimate the confidence intervals of the estimated parameters. The procedure is as follows.\n",
    "\n",
    "Consider a data set with $N$ values $x_i$ and corresponding values $y_i$. A model is fitted to the data and the fitted values are called $\\hat{y}_i$. The residual $r_i$ can be computed as $r_i=y_i - \\hat{y}$. The confidence intervals of the parameters of the model may be obtained with bootstrapping as follows:\n",
    "1. Compute and store the optimal parameters using the regular approach. \n",
    "2. Compute the fitted values $\\hat{y}_i$.\n",
    "3. Compute and store the residuals $r_i$ in an array.\n",
    "4. For every data point, draw a residual at random (with replacement) from the array of residuals using the `numpy.random.choice` function and add it to the fitted value $\\hat{y}_i$. Let's call these values $\\tilde{y}_i$.\n",
    "5. Compute and store the optimal parameters that fit through the $\\tilde{y}_i$ values.\n",
    "6. Repeat steps 4 and 5 $M$ times, for example using $M=1000$. \n",
    "7. Compute the approximate $95$% confidence intervals of the parameters using the `np.percentile` function."
   ]
  },
  {
   "cell_type": "markdown",
   "metadata": {},
   "source": [
    "### Exercise 2. Confidence intervals of the parameters of a straight line using bootstrapping\n",
    "Load the $x,y$ values of 20 data points from the file `xydatafit.dat`. Fit a straight line through the data by minimizing the sum of squared errors (using the `linregress` function of `scipy.stats`). Estimate the 95% confidence intervals of the slope and intercept of the straight line using bootstrapping and $M=1000$. Create a histogram of the 1000 estimates of the slope and a separate histogram of the 1000 estimates of the intercept. Report the 95% intervals of both parameters. How do they compare to the estimates in Exercise 1?\n",
    "\n",
    "Bonus question: On the same histograms, plot the theoretical Normal distributions using your estimates of the slope, intercept, and their standard deviations from Exercise 1. Spoiler: they should match pretty well."
   ]
  },
  {
   "cell_type": "code",
   "execution_count": 3,
   "metadata": {
    "collapsed": false
   },
   "outputs": [
    {
     "name": "stdout",
     "output_type": "stream",
     "text": [
      "[ 4.91179107  7.37424962]\n",
      "compared to [4.7937842585446342, 7.3611031420805846]\n",
      "[ 27.96610804  56.21108521]\n",
      "compared to [27.566269493071196, 57.598645224479121]\n"
     ]
    },
    {
     "data": {
      "image/png": "[encoded data removed]",
      "text/plain": [
       "<matplotlib.figure.Figure at 0x1fae51e8518>"
      ]
     },
     "metadata": {},
     "output_type": "display_data"
    },
    {
     "data": {
      "image/png": "[encoded data removed]",
      "text/plain": [
       "<matplotlib.figure.Figure at 0x1fae5253668>"
      ]
     },
     "metadata": {},
     "output_type": "display_data"
    }
   ],
   "source": [
    "from scipy.stats import norm\n",
    "[x,y] = np.loadtxt('xydatafit.dat')\n",
    "result = linregress(x,y)\n",
    "a = result[0]\n",
    "b = result[1]\n",
    "y1 = a * x + b\n",
    "r = y - y1\n",
    "M = 1000\n",
    "slope1000 = []\n",
    "intercept1000 = []\n",
    "for i in range(M):\n",
    "    y2 = np.zeros(len(y1))\n",
    "    for j in range(len(r)):\n",
    "        r1 = np.random.choice(r, replace = True)\n",
    "        y2[j] = y1[j] + r1\n",
    "    result = linregress(x, y2)\n",
    "    slope1000.append(result[0])\n",
    "    intercept1000.append(result[1])\n",
    "t = np.linspace(4,8,100)\n",
    "plt.figure(1)\n",
    "plt.hist(slope1000, normed=True)\n",
    "X = norm(loc = a, scale = sa)\n",
    "plt.plot(t,X.pdf(t))\n",
    "plt.figure(2)\n",
    "plt.hist(intercept1000, normed=True)\n",
    "Y = norm(loc = b, scale = sb)\n",
    "t = np.linspace(20,70,100)\n",
    "plt.plot(t, Y.pdf(t))\n",
    "print(np.percentile(slope1000,[2.5,97.5]))\n",
    "print('compared to', [a - 2 * sa, a + 2 *sa])\n",
    "print(np.percentile(intercept1000,[2.5,97.5]))\n",
    "print('compared to', [b - 2 * sb, b + 2 * sb])"
   ]
  },
  {
   "cell_type": "markdown",
   "metadata": {},
   "source": [
    "### Data with outliers\n",
    "It is difficult to fit a reasonable straight line to a data set when that dataset contains several significant outliers (values that are obviously in error and fall way outside the general trend of the data). For example, consider the 20 data points in the file `xydatafit_outliers.dat`. The values at $x=5$ and $x=15$ appear to be outliers and the best fit straight line is above almost all the other data points:"
   ]
  },
  {
   "cell_type": "code",
   "execution_count": 4,
   "metadata": {
    "collapsed": false
   },
   "outputs": [
    {
     "data": {
      "image/png": "[encoded data removed]",
      "text/plain": [
       "<matplotlib.figure.Figure at 0x1fae5350908>"
      ]
     },
     "metadata": {},
     "output_type": "display_data"
    }
   ],
   "source": [
    "x, y = np.loadtxt('xydatafit_outliers.dat')\n",
    "slope, intercept, r_value, p_value, sig_a = linregress(x, y)\n",
    "plt.figure(figsize=(6, 4))\n",
    "plt.plot(x, y, 'bo', label='data')\n",
    "plt.plot(x, slope * x + intercept, 'r', label='model')\n",
    "plt.xlabel('x values')\n",
    "plt.ylabel('y values')\n",
    "plt.legend(loc='best', fontsize='small');"
   ]
  },
  {
   "cell_type": "markdown",
   "metadata": {},
   "source": [
    "### Theil-Sen estimator\n",
    "A robust approach to fit a straight line through a data set that contains outliers it the Theil-Sen method (see the wiki [here](https://en.wikipedia.org/wiki/Theil–Sen_estimator)); it also works well when the data is skewed. The idea behind the Theil-Sen method is very simple: the slope and intercept are computed and stored for every pair of data points. The best estimate of the slope and intercept are the median of the computed slopes and intercepts. "
   ]
  },
  {
   "cell_type": "markdown",
   "metadata": {},
   "source": [
    "### Exercise 3. Fit a straight line through a data set with outliers. \n",
    "Fit a straight line through the 20 data points contained in the file `xydatafit_outliers.dat` using the Theil-Sen approach. You need a double loop to compute all the slopes and intercepts for all data pairs. Make sure you don't compute the slope and intercept twice for each data pair. Report the slope and intercept you obtain. Make a graph that shows the data, the best fit straight line using regular linear regression, and the Theil-Sen estimate of the best fit line."
   ]
  },
  {
   "cell_type": "code",
   "execution_count": 5,
   "metadata": {
    "collapsed": false
   },
   "outputs": [
    {
     "name": "stderr",
     "output_type": "stream",
     "text": [
      "C:\\Users\\lenovo\\Anaconda3\\lib\\site-packages\\ipykernel\\__main__.py:11: VisibleDeprecationWarning: using a non-integer number instead of an integer will result in an error in the future\n",
      "C:\\Users\\lenovo\\Anaconda3\\lib\\site-packages\\ipykernel\\__main__.py:12: VisibleDeprecationWarning: using a non-integer number instead of an integer will result in an error in the future\n",
      "C:\\Users\\lenovo\\Anaconda3\\lib\\site-packages\\scipy\\stats\\_stats_mstats_common.py:97: RuntimeWarning: invalid value encountered in double_scalars\n",
      "  sterrest = np.sqrt((1 - r**2) * ssym / ssxm / df)\n",
      "C:\\Users\\lenovo\\Anaconda3\\lib\\site-packages\\scipy\\stats\\_stats_mstats_common.py:97: RuntimeWarning: divide by zero encountered in double_scalars\n",
      "  sterrest = np.sqrt((1 - r**2) * ssym / ssxm / df)\n"
     ]
    },
    {
     "data": {
      "image/png": "[encoded data removed]",
      "text/plain": [
       "<matplotlib.figure.Figure at 0x1fae53db588>"
      ]
     },
     "metadata": {},
     "output_type": "display_data"
    }
   ],
   "source": [
    "def median(x):\n",
    "    x.sort()\n",
    "    if (len(x) / 2) != 0:\n",
    "        return (x[int(len(x) / 2 - 0.5)])\n",
    "    else:\n",
    "        return (x[int(len(x) / 2)] + x[int(len(x) / 2 - 1)]) / 2\n",
    "   \n",
    "x, y = np.loadtxt('xydatafit_outliers.dat')\n",
    "count = 0\n",
    "number = (len(x) - 1) * len(x) / 2\n",
    "slopelist = np.zeros(number)\n",
    "interceptlist = np.zeros(number)\n",
    "for i in range(len(x)):\n",
    "    for j in range(i + 1,len(x)):\n",
    "        slopelist[count], interceptlist[count], r_value, p_value, sig_a = linregress([x[i],x[j]],[y[i],y[j]])\n",
    "        count += 1\n",
    "slope, intercept, r_value, p_value, sig_a = linregress(x, y)\n",
    "slope1 = median(slopelist)\n",
    "intercept1 = median(interceptlist)\n",
    "plt.figure(figsize=(6, 4))\n",
    "plt.plot(x, y, 'bo', label='data')\n",
    "plt.plot(x, slope * x + intercept, 'r', label='regular model')\n",
    "plt.plot(x, slope1 * x + intercept1, 'b', label='Theil-Sen model')\n",
    "plt.xlabel('x values')\n",
    "plt.ylabel('y values')\n",
    "plt.legend(loc='best', fontsize='small');"
   ]
  },
  {
   "cell_type": "markdown",
   "metadata": {},
   "source": [
    "### The `lmfit` package\n",
    "In the previous Notebook on linear regression, we learned how to use the `curve_fit` method to fit an arbitrary function to a set of data. The `curve_fit` method works well, but it has some limitations. For example, you cannot set boundaries for your parameters, nor can you fix a parameter during optimization. A versatile package for fitting data is the `lmfit` package. The `lmfit` package does not come with the Anaconda Python distribution (yet), so you have to install it yourself. Open the command prompt on Windows (go to start $\\to$ run and type `cmd`) or the terminal on a Mac (search for `terminal` in spotlight). Then type\n",
    "    \n",
    "    pip install lmfit\n",
    "    \n",
    "and `lmfit` will be installed (you need to be on the internet, of course). "
   ]
  },
  {
   "cell_type": "markdown",
   "metadata": {},
   "source": [
    "The `lmfit` package has an object oriented structure. Here we will learn the basics.\n",
    "Full information on `lmfit` can be found [here](http://lmfit.github.io/lmfit-py/). \n",
    "We start by importing the `Parameters` class and the `minimize` and `fit_report` functions."
   ]
  },
  {
   "cell_type": "code",
   "execution_count": 6,
   "metadata": {
    "collapsed": false
   },
   "outputs": [],
   "source": [
    "from lmfit import Parameters, minimize, fit_report"
   ]
  },
  {
   "cell_type": "markdown",
   "metadata": {},
   "source": [
    "Next, we write a Python function to fit through the data. As an example we will fit a straight line. The first argument of the function is a `Parameters` object, which stores the parameter values in a dictionary. Recall what a dictionary is: A dictionary is a data type that links a word in the dictionary to a value and is specified between braces `{}`. The value can be anything. You can then use the word in the dictionary as the index, just like you would look up a word in a paper dictionary. For example:"
   ]
  },
  {
   "cell_type": "code",
   "execution_count": 7,
   "metadata": {
    "collapsed": false
   },
   "outputs": [
    {
     "name": "stdout",
     "output_type": "stream",
     "text": [
      "20\n",
      "Delft\n"
     ]
    }
   ],
   "source": [
    "example_dict = {'goals': 20, 'city': 'Delft'}\n",
    "print(example_dict['goals'])\n",
    "print(example_dict['city'])"
   ]
  },
  {
   "cell_type": "markdown",
   "metadata": {},
   "source": [
    "The function for a straight line contains two keyword arguments: `xdata`, which are the $x$ values of the data, and `ydata`. If `ydata` is supplied, it is subtracted from the fitted values so that the function returns the residuals. If it is not supplied, the function returns the fitted values. The dictionary of parameter values is obtained from a `Parameters` object with the `valuesdict` function."
   ]
  },
  {
   "cell_type": "code",
   "execution_count": 8,
   "metadata": {
    "collapsed": true
   },
   "outputs": [],
   "source": [
    "def straightline(p, xdata=0, ydata=None):\n",
    "    vals = p.valuesdict()  # store dictionary in variable vals\n",
    "    slope =  vals['slope']\n",
    "    intercept =  vals['intercept']\n",
    "    yfit = slope * xdata + intercept\n",
    "    if ydata is None:\n",
    "        return yfit\n",
    "    else:\n",
    "        return yfit - ydata"
   ]
  },
  {
   "cell_type": "markdown",
   "metadata": {},
   "source": [
    "Now we create a `Parameters` object, add the parameters, and specify an initial value:"
   ]
  },
  {
   "cell_type": "code",
   "execution_count": 9,
   "metadata": {
    "collapsed": true
   },
   "outputs": [],
   "source": [
    "pline = Parameters()\n",
    "pline.add('slope', value=1.0)\n",
    "pline.add('intercept', value=1.0)"
   ]
  },
  {
   "cell_type": "markdown",
   "metadata": {},
   "source": [
    "Finally, we load the data we want to fit, we call the `minimize` function to fit the data, and we print the `fit_report`. The keyword arguments of the function need to be supplied as a dictionary to the keyword argument `kws` of the `minimize` function. "
   ]
  },
  {
   "cell_type": "code",
   "execution_count": 10,
   "metadata": {
    "collapsed": false
   },
   "outputs": [
    {
     "name": "stdout",
     "output_type": "stream",
     "text": [
      "[[Fit Statistics]]\n",
      "    # function evals   = 8\n",
      "    # data points      = 20\n",
      "    # variables        = 2\n",
      "    chi-square         = 5463.697\n",
      "    reduced chi-square = 303.539\n",
      "    Akaike info crit   = 116.203\n",
      "    Bayesian info crit = 118.194\n",
      "[[Variables]]\n",
      "    slope:       6.07744374 +/- 0.641829 (10.56%) (init= 1)\n",
      "    intercept:   42.5824573 +/- 7.508093 (17.63%) (init= 1)\n",
      "[[Correlations]] (unreported correlations are <  0.100)\n",
      "    C(slope, intercept)          = -0.855 \n"
     ]
    }
   ],
   "source": [
    "x, y = np.loadtxt('xydatafit.dat')\n",
    "line_result = minimize(straightline, pline, kws={'xdata':x, 'ydata':y})\n",
    "print(fit_report(line_result))"
   ]
  },
  {
   "cell_type": "markdown",
   "metadata": {},
   "source": [
    "The `minimize` function returns a `MinimizerResult` object. The `fit_report` function may be used to print the most important information of the `MinimizeResult` to the screen. The `chi-square` value is the sum of squared residuals at the optimum. The `+/-` part of the fitted parameters are `+/-` one standard deviation (which is estimated using a numerical derivative). The `Correlations` are a measure of how correlated the parameters are (they are not to be confused with the correlation coefficient $r$ or $r^2$ of the fit). A value of `+1` means they are perfectly correlated, which means that if you multiply both parameters by 2, you get the same answer. A value of `-1` means they are perfectly negatively correlated, which means that if you multiply one parameter by 2 and divide the other by 2, you again get the same answer. You want the correlation between parameters to be small (near zero), but that is not always possible. "
   ]
  },
  {
   "cell_type": "markdown",
   "metadata": {},
   "source": [
    "The `MinimizerResult` object, called `line_result` in the code above, has a number of attributes, including `params`, which is a `Parameters` object with the optimal parameters. The fitted values may be obtained with the `straightline` method defined above, by passing it the optimal parameters and by not supplying it with `ydata`. "
   ]
  },
  {
   "cell_type": "code",
   "execution_count": 11,
   "metadata": {
    "collapsed": true
   },
   "outputs": [],
   "source": [
    "yfit = straightline(line_result.params, xdata=x)"
   ]
  },
  {
   "cell_type": "markdown",
   "metadata": {},
   "source": [
    "It is a bit more work to get the estimate standard deviations of the parameters out of the `MinimizerResult` object. The `MinimizerResult` object has an attribute called `covar`, which returns the covariance matrix. The diagonal of the covariance matrix containst the estimated variances of the parameters, and the standard deviations are the square root of the varances. Compare them to the values after the `+/-` sign of the `fit_report` (they are the same):"
   ]
  },
  {
   "cell_type": "code",
   "execution_count": 12,
   "metadata": {
    "collapsed": false
   },
   "outputs": [
    {
     "name": "stdout",
     "output_type": "stream",
     "text": [
      "standard deviations of parameters: [ 0.64182972  7.50809394]\n"
     ]
    }
   ],
   "source": [
    "standard_deviations = np.sqrt(np.diag(line_result.covar))\n",
    "print('standard deviations of parameters:', standard_deviations)"
   ]
  },
  {
   "cell_type": "markdown",
   "metadata": {},
   "source": [
    "### Exercise 4. Check the results of `lmfit`\n",
    "For the straight line fitted with `lmfit` above, compute the standerd deviations of the slope and intercept using the equations supplied at the beginning of this Notebook and make sure they are the same as the result of `lmfit`. Next, compute the sum of squared errors and make sure it is the same as the value of `chi-square` obtained by the `minimize` function. "
   ]
  },
  {
   "cell_type": "code",
   "execution_count": 13,
   "metadata": {
    "collapsed": false
   },
   "outputs": [
    {
     "name": "stdout",
     "output_type": "stream",
     "text": [
      "sa = 0.641829720884\n",
      "sb = 7.50809393285\n",
      "chi-square = 5463.69675967\n"
     ]
    }
   ],
   "source": [
    "[x,y] = np.loadtxt('xydatafit.dat')\n",
    "result = linregress(x,y)\n",
    "a = result[0]\n",
    "b = result[1]\n",
    "y1 = a * x + b\n",
    "sa = ((np.sum((y - y1) ** 2) / 18) ** 0.5) / ((np.sum((x - np.average(x)) ** 2)) ** 0.5)\n",
    "sb = sa * (1 / 20 * np.sum(x ** 2)) ** 0.5\n",
    "print('sa =', sa)\n",
    "print('sb =', sb)\n",
    "chi = np.sum((y - y1) ** 2)\n",
    "print('chi-square =', chi)"
   ]
  },
  {
   "cell_type": "markdown",
   "metadata": {},
   "source": [
    "### Fixing  parameter\n",
    "A parameter my be fixed by setting the `vary` attribute to `False`. For example, let's fix the value of `b` to 50. "
   ]
  },
  {
   "cell_type": "code",
   "execution_count": 14,
   "metadata": {
    "collapsed": false
   },
   "outputs": [
    {
     "name": "stdout",
     "output_type": "stream",
     "text": [
      "[[Fit Statistics]]\n",
      "    # function evals   = 6\n",
      "    # data points      = 20\n",
      "    # variables        = 1\n",
      "    chi-square         = 5759.958\n",
      "    reduced chi-square = 303.156\n",
      "    Akaike info crit   = 115.259\n",
      "    Bayesian info crit = 116.255\n",
      "[[Variables]]\n",
      "    slope:       5.53539250 +/- 0.332818 (6.01%) (init= 1)\n",
      "    intercept:   50 (fixed)\n",
      "[[Correlations]] (unreported correlations are <  0.100)\n"
     ]
    }
   ],
   "source": [
    "pline['intercept'].value = 50\n",
    "pline['intercept'].vary = False\n",
    "line_result2 = minimize(straightline, pline, kws={'xdata':x, 'ydata':y})\n",
    "print(fit_report(line_result2))"
   ]
  },
  {
   "cell_type": "markdown",
   "metadata": {},
   "source": [
    "### Exercise 5. Fit an exponential function with `lmfit`\n",
    "Use the $x,y$ values of 20 data points from the file `xydatafit.dat`. Fit the function $f(x) = A\\exp(ax) + b$ through the data using `lmfit`. Print a fitting report of the estimated parameters $A$, $a$, and $b$. Plot the data and the fitted function. "
   ]
  },
  {
   "cell_type": "code",
   "execution_count": 15,
   "metadata": {
    "collapsed": false
   },
   "outputs": [],
   "source": [
    "def func1(p, xdata=0, ydata=None):\n",
    "    vals = p.valuesdict()\n",
    "    A =  vals['A']\n",
    "    a =  vals['a']\n",
    "    b = vals['b']\n",
    "    yfit = A * np.exp(a * xdata) + b\n",
    "    if ydata is None:\n",
    "        return yfit\n",
    "    else:\n",
    "        return yfit - ydata"
   ]
  },
  {
   "cell_type": "code",
   "execution_count": 16,
   "metadata": {
    "collapsed": false
   },
   "outputs": [],
   "source": [
    "pline = Parameters()\n",
    "pline.add('A', value=1.0)\n",
    "pline.add('a', value=1.0)\n",
    "pline.add('b', value=1.0)"
   ]
  },
  {
   "cell_type": "code",
   "execution_count": 17,
   "metadata": {
    "collapsed": false
   },
   "outputs": [
    {
     "name": "stdout",
     "output_type": "stream",
     "text": [
      "[[Fit Statistics]]\n",
      "    # function evals   = 146\n",
      "    # data points      = 20\n",
      "    # variables        = 3\n",
      "    chi-square         = 2381.588\n",
      "    reduced chi-square = 140.093\n",
      "    Akaike info crit   = 101.596\n",
      "    Bayesian info crit = 104.583\n",
      "[[Variables]]\n",
      "    A:   9.76933745 +/- 6.165144 (63.11%) (init= 1)\n",
      "    a:   0.13389950 +/- 0.029816 (22.27%) (init= 1)\n",
      "    b:   52.5007446 +/- 11.00110 (20.95%) (init= 1)\n",
      "[[Correlations]] (unreported correlations are <  0.100)\n",
      "    C(A, a)                      = -0.994 \n",
      "    C(A, b)                      = -0.947 \n",
      "    C(a, b)                      =  0.918 \n"
     ]
    }
   ],
   "source": [
    "x, y = np.loadtxt('xydatafit.dat')\n",
    "line_result = minimize(func1, pline, kws={'xdata':x, 'ydata':y})\n",
    "print(fit_report(line_result))"
   ]
  },
  {
   "cell_type": "code",
   "execution_count": 18,
   "metadata": {
    "collapsed": false
   },
   "outputs": [
    {
     "data": {
      "text/plain": [
       "<matplotlib.legend.Legend at 0x1fae5dbcac8>"
      ]
     },
     "execution_count": 18,
     "metadata": {},
     "output_type": "execute_result"
    },
    {
     "data": {
      "image/png": "[encoded data removed]",
      "text/plain": [
       "<matplotlib.figure.Figure at 0x1fae5dbcb70>"
      ]
     },
     "metadata": {},
     "output_type": "display_data"
    }
   ],
   "source": [
    "yfit = func1(line_result.params, xdata=x)\n",
    "plt.plot(x,y,'.', x,yfit)\n",
    "plt.legend(['initial data','fittied curve'])"
   ]
  },
  {
   "cell_type": "markdown",
   "metadata": {},
   "source": [
    "### Exercise 6. Use bootstrap to find confidence intervals of parameters of exponential function\n",
    "Apply the bootstrap method with $M=1000$ to estimate the 95% confidence intervals of the parameters $A$, $a$, and $b$ in the exponential function fitted to the data in the previous exercise (hint: this may take a little computation time, so develop your code with $M=100$ and when it works correctly change it to $M=1000$). Draw histograms of all three parameters. Note that they don't all have a bell-shaped curve like a Normal distribution. Report the 95% confidence intervals. \n",
    "\n",
    "Bonus question: report the 95% confidence intervals obtained with the estimated standard deviations computed by `lmfit`. Note that the estimates are by far not as good as for the results of exercise 2, because the distribution of the parameters is not very Normal. "
   ]
  },
  {
   "cell_type": "code",
   "execution_count": 19,
   "metadata": {
    "collapsed": false
   },
   "outputs": [],
   "source": [
    "r = y - yfit\n",
    "M = 1000\n",
    "A1000 = []\n",
    "a1000 = []\n",
    "b1000 = []\n",
    "for i in range(M):\n",
    "    y2 = np.zeros(len(y))\n",
    "    for j in range(len(r)):\n",
    "        r1 = np.random.choice(r, replace = True)\n",
    "        y2[j] = yfit[j] + r1\n",
    "    line_result = minimize(func1, pline, kws={'xdata':x, 'ydata':y2})\n",
    "    A1000.append(line_result.params['A'])\n",
    "    a1000.append(line_result.params['a'])\n",
    "    b1000.append(line_result.params['b'])"
   ]
  },
  {
   "cell_type": "code",
   "execution_count": 20,
   "metadata": {
    "collapsed": false
   },
   "outputs": [
    {
     "name": "stdout",
     "output_type": "stream",
     "text": [
      "95% confidence intervals\n",
      "A: [  2.84028701  31.18586951]\n",
      "a: [ 0.08192599  0.1946759 ]\n",
      "b: [ 23.70251228  68.68780695]\n"
     ]
    },
    {
     "data": {
      "image/png": "[encoded data removed]",
      "text/plain": [
       "<matplotlib.figure.Figure at 0x1fae5de4f60>"
      ]
     },
     "metadata": {},
     "output_type": "display_data"
    },
    {
     "data": {
      "image/png": "[encoded data removed]",
      "text/plain": [
       "<matplotlib.figure.Figure at 0x1fae8339978>"
      ]
     },
     "metadata": {},
     "output_type": "display_data"
    },
    {
     "data": {
      "image/png": "[encoded data removed]",
      "text/plain": [
       "<matplotlib.figure.Figure at 0x1fae83e4b70>"
      ]
     },
     "metadata": {},
     "output_type": "display_data"
    }
   ],
   "source": [
    "plt.figure(1)\n",
    "plt.hist(A1000,normed = True)\n",
    "plt.figure(2)\n",
    "plt.hist(a1000, normed = True)\n",
    "plt.figure(3)\n",
    "plt.hist(b1000, normed = True)\n",
    "print('95% confidence intervals')\n",
    "print('A:', np.percentile(A1000,[2.5,97.5]))\n",
    "print('a:', np.percentile(a1000,[2.5,97.5]))\n",
    "print('b:', np.percentile(b1000,[2.5,97.5]))"
   ]
  },
  {
   "cell_type": "code",
   "execution_count": 21,
   "metadata": {
    "collapsed": false
   },
   "outputs": [
    {
     "name": "stdout",
     "output_type": "stream",
     "text": [
      "95% confidence intervals by lmfit\n",
      "A: [-2.5609522258947788, 22.099627139656356]\n",
      "a: [0.074266989736009745, 0.19353202510744139]\n",
      "b: [30.498531845779414, 74.50295741795226]\n"
     ]
    }
   ],
   "source": [
    "line_result = minimize(func1, pline, kws={'xdata':x, 'ydata':y})\n",
    "print('95% confidence intervals by lmfit')\n",
    "sA = line_result.covar[0,0] ** 0.5\n",
    "sa = line_result.covar[1,1] ** 0.5\n",
    "sb = line_result.covar[2,2] ** 0.5\n",
    "A = line_result.params['A'].value\n",
    "a = line_result.params['a'].value\n",
    "b = line_result.params['b'].value\n",
    "print('A:', [A - 2 * sA, A + 2 * sA])\n",
    "print('a:', [a - 2 * sa, a + 2 * sa])\n",
    "print('b:', [b - 2 * sb, b + 2 * sb])"
   ]
  },
  {
   "cell_type": "code",
   "execution_count": null,
   "metadata": {
    "collapsed": false
   },
   "outputs": [],
   "source": []
  },
  {
   "cell_type": "code",
   "execution_count": null,
   "metadata": {
    "collapsed": true
   },
   "outputs": [],
   "source": []
  }
 ],
 "metadata": {
  "kernelspec": {
   "display_name": "Python 3",
   "language": "python",
   "name": "python3"
  },
  "language_info": {
   "codemirror_mode": {
    "name": "ipython",
    "version": 3
   },
   "file_extension": ".py",
   "mimetype": "text/x-python",
   "name": "python",
   "nbconvert_exporter": "python",
   "pygments_lexer": "ipython3",
   "version": "3.6.0"
  }
 },
 "nbformat": 4,
 "nbformat_minor": 0
}
